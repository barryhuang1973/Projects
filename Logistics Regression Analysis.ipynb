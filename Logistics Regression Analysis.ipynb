{
 "cells": [
  {
   "cell_type": "markdown",
   "id": "850c6142-0c61-4fcd-89d5-1bc2da9a6682",
   "metadata": {},
   "source": [
    "# Logistic Regression Analysis"
   ]
  },
  {
   "cell_type": "markdown",
   "id": "03a23b8e-35fe-4a70-90c6-b8c3124334e0",
   "metadata": {},
   "source": [
    "#### Logistic Regression is a generalization of linear regression that predicts a categorical outcome variable by computing the log odds of the outcome as a linear function of the input variables.-- Camm Business Analytics 4e Chapter 9."
   ]
  },
  {
   "cell_type": "markdown",
   "id": "764c33b7-5c0b-4ecd-ab37-d1376b883d50",
   "metadata": {},
   "source": [
    "#### In this analysis, we will use a dataset from Kaggle.com. This dataset collected the data regarding the situation of  small business getting approval or not from the banks.\n",
    "##### First of all, we need to import the dataset and libraries needed.\n"
   ]
  },
  {
   "cell_type": "code",
   "execution_count": 1,
   "id": "85d6dd33-8f67-49a5-9526-928887bd2690",
   "metadata": {},
   "outputs": [],
   "source": [
    "import numpy as np\n",
    "import pandas as pd\n",
    "import matplotlib.pyplot as plt\n",
    "import seaborn as sns\n",
    "from datetime import datetime"
   ]
  },
  {
   "cell_type": "code",
   "execution_count": 2,
   "id": "d7625768-d6bf-4f42-91b0-1dde1a857ef8",
   "metadata": {},
   "outputs": [],
   "source": [
    "### Import raw Data to the database."
   ]
  },
  {
   "cell_type": "code",
   "execution_count": 144,
   "id": "9bab8102-c90a-4027-9305-bab8ec212384",
   "metadata": {},
   "outputs": [
    {
     "name": "stderr",
     "output_type": "stream",
     "text": [
      "C:\\Users\\barry\\anaconda3\\lib\\site-packages\\IPython\\core\\interactiveshell.py:3444: DtypeWarning: Columns (9) have mixed types.Specify dtype option on import or set low_memory=False.\n",
      "  exec(code_obj, self.user_global_ns, self.user_ns)\n"
     ]
    },
    {
     "data": {
      "text/html": [
       "<div>\n",
       "<style scoped>\n",
       "    .dataframe tbody tr th:only-of-type {\n",
       "        vertical-align: middle;\n",
       "    }\n",
       "\n",
       "    .dataframe tbody tr th {\n",
       "        vertical-align: top;\n",
       "    }\n",
       "\n",
       "    .dataframe thead th {\n",
       "        text-align: right;\n",
       "    }\n",
       "</style>\n",
       "<table border=\"1\" class=\"dataframe\">\n",
       "  <thead>\n",
       "    <tr style=\"text-align: right;\">\n",
       "      <th></th>\n",
       "      <th>LoanNr_ChkDgt</th>\n",
       "      <th>Name</th>\n",
       "      <th>City</th>\n",
       "      <th>State</th>\n",
       "      <th>Zip</th>\n",
       "      <th>Bank</th>\n",
       "      <th>BankState</th>\n",
       "      <th>NAICS</th>\n",
       "      <th>ApprovalDate</th>\n",
       "      <th>ApprovalFY</th>\n",
       "      <th>...</th>\n",
       "      <th>RevLineCr</th>\n",
       "      <th>LowDoc</th>\n",
       "      <th>ChgOffDate</th>\n",
       "      <th>DisbursementDate</th>\n",
       "      <th>DisbursementGross</th>\n",
       "      <th>BalanceGross</th>\n",
       "      <th>MIS_Status</th>\n",
       "      <th>ChgOffPrinGr</th>\n",
       "      <th>GrAppv</th>\n",
       "      <th>SBA_Appv</th>\n",
       "    </tr>\n",
       "  </thead>\n",
       "  <tbody>\n",
       "    <tr>\n",
       "      <th>0</th>\n",
       "      <td>1000014003</td>\n",
       "      <td>ABC HOBBYCRAFT</td>\n",
       "      <td>EVANSVILLE</td>\n",
       "      <td>IN</td>\n",
       "      <td>47711</td>\n",
       "      <td>FIFTH THIRD BANK</td>\n",
       "      <td>OH</td>\n",
       "      <td>451120</td>\n",
       "      <td>28-Feb-97</td>\n",
       "      <td>1997</td>\n",
       "      <td>...</td>\n",
       "      <td>N</td>\n",
       "      <td>Y</td>\n",
       "      <td>NaN</td>\n",
       "      <td>28-Feb-99</td>\n",
       "      <td>$60,000.00</td>\n",
       "      <td>$0.00</td>\n",
       "      <td>P I F</td>\n",
       "      <td>$0.00</td>\n",
       "      <td>$60,000.00</td>\n",
       "      <td>$48,000.00</td>\n",
       "    </tr>\n",
       "    <tr>\n",
       "      <th>1</th>\n",
       "      <td>1000024006</td>\n",
       "      <td>LANDMARK BAR &amp; GRILLE (THE)</td>\n",
       "      <td>NEW PARIS</td>\n",
       "      <td>IN</td>\n",
       "      <td>46526</td>\n",
       "      <td>1ST SOURCE BANK</td>\n",
       "      <td>IN</td>\n",
       "      <td>722410</td>\n",
       "      <td>28-Feb-97</td>\n",
       "      <td>1997</td>\n",
       "      <td>...</td>\n",
       "      <td>N</td>\n",
       "      <td>Y</td>\n",
       "      <td>NaN</td>\n",
       "      <td>31-May-97</td>\n",
       "      <td>$40,000.00</td>\n",
       "      <td>$0.00</td>\n",
       "      <td>P I F</td>\n",
       "      <td>$0.00</td>\n",
       "      <td>$40,000.00</td>\n",
       "      <td>$32,000.00</td>\n",
       "    </tr>\n",
       "    <tr>\n",
       "      <th>2</th>\n",
       "      <td>1000034009</td>\n",
       "      <td>WHITLOCK DDS, TODD M.</td>\n",
       "      <td>BLOOMINGTON</td>\n",
       "      <td>IN</td>\n",
       "      <td>47401</td>\n",
       "      <td>GRANT COUNTY STATE BANK</td>\n",
       "      <td>IN</td>\n",
       "      <td>621210</td>\n",
       "      <td>28-Feb-97</td>\n",
       "      <td>1997</td>\n",
       "      <td>...</td>\n",
       "      <td>N</td>\n",
       "      <td>N</td>\n",
       "      <td>NaN</td>\n",
       "      <td>31-Dec-97</td>\n",
       "      <td>$287,000.00</td>\n",
       "      <td>$0.00</td>\n",
       "      <td>P I F</td>\n",
       "      <td>$0.00</td>\n",
       "      <td>$287,000.00</td>\n",
       "      <td>$215,250.00</td>\n",
       "    </tr>\n",
       "    <tr>\n",
       "      <th>3</th>\n",
       "      <td>1000044001</td>\n",
       "      <td>BIG BUCKS PAWN &amp; JEWELRY, LLC</td>\n",
       "      <td>BROKEN ARROW</td>\n",
       "      <td>OK</td>\n",
       "      <td>74012</td>\n",
       "      <td>1ST NATL BK &amp; TR CO OF BROKEN</td>\n",
       "      <td>OK</td>\n",
       "      <td>0</td>\n",
       "      <td>28-Feb-97</td>\n",
       "      <td>1997</td>\n",
       "      <td>...</td>\n",
       "      <td>N</td>\n",
       "      <td>Y</td>\n",
       "      <td>NaN</td>\n",
       "      <td>30-Jun-97</td>\n",
       "      <td>$35,000.00</td>\n",
       "      <td>$0.00</td>\n",
       "      <td>P I F</td>\n",
       "      <td>$0.00</td>\n",
       "      <td>$35,000.00</td>\n",
       "      <td>$28,000.00</td>\n",
       "    </tr>\n",
       "    <tr>\n",
       "      <th>4</th>\n",
       "      <td>1000054004</td>\n",
       "      <td>ANASTASIA CONFECTIONS, INC.</td>\n",
       "      <td>ORLANDO</td>\n",
       "      <td>FL</td>\n",
       "      <td>32801</td>\n",
       "      <td>FLORIDA BUS. DEVEL CORP</td>\n",
       "      <td>FL</td>\n",
       "      <td>0</td>\n",
       "      <td>28-Feb-97</td>\n",
       "      <td>1997</td>\n",
       "      <td>...</td>\n",
       "      <td>N</td>\n",
       "      <td>N</td>\n",
       "      <td>NaN</td>\n",
       "      <td>14-May-97</td>\n",
       "      <td>$229,000.00</td>\n",
       "      <td>$0.00</td>\n",
       "      <td>P I F</td>\n",
       "      <td>$0.00</td>\n",
       "      <td>$229,000.00</td>\n",
       "      <td>$229,000.00</td>\n",
       "    </tr>\n",
       "    <tr>\n",
       "      <th>...</th>\n",
       "      <td>...</td>\n",
       "      <td>...</td>\n",
       "      <td>...</td>\n",
       "      <td>...</td>\n",
       "      <td>...</td>\n",
       "      <td>...</td>\n",
       "      <td>...</td>\n",
       "      <td>...</td>\n",
       "      <td>...</td>\n",
       "      <td>...</td>\n",
       "      <td>...</td>\n",
       "      <td>...</td>\n",
       "      <td>...</td>\n",
       "      <td>...</td>\n",
       "      <td>...</td>\n",
       "      <td>...</td>\n",
       "      <td>...</td>\n",
       "      <td>...</td>\n",
       "      <td>...</td>\n",
       "      <td>...</td>\n",
       "      <td>...</td>\n",
       "    </tr>\n",
       "    <tr>\n",
       "      <th>899159</th>\n",
       "      <td>9995573004</td>\n",
       "      <td>FABRIC FARMS</td>\n",
       "      <td>UPPER ARLINGTON</td>\n",
       "      <td>OH</td>\n",
       "      <td>43221</td>\n",
       "      <td>JPMORGAN CHASE BANK NATL ASSOC</td>\n",
       "      <td>IL</td>\n",
       "      <td>451120</td>\n",
       "      <td>27-Feb-97</td>\n",
       "      <td>1997</td>\n",
       "      <td>...</td>\n",
       "      <td>0</td>\n",
       "      <td>N</td>\n",
       "      <td>NaN</td>\n",
       "      <td>30-Sep-97</td>\n",
       "      <td>$70,000.00</td>\n",
       "      <td>$0.00</td>\n",
       "      <td>P I F</td>\n",
       "      <td>$0.00</td>\n",
       "      <td>$70,000.00</td>\n",
       "      <td>$56,000.00</td>\n",
       "    </tr>\n",
       "    <tr>\n",
       "      <th>899160</th>\n",
       "      <td>9995603000</td>\n",
       "      <td>FABRIC FARMS</td>\n",
       "      <td>COLUMBUS</td>\n",
       "      <td>OH</td>\n",
       "      <td>43221</td>\n",
       "      <td>JPMORGAN CHASE BANK NATL ASSOC</td>\n",
       "      <td>IL</td>\n",
       "      <td>451130</td>\n",
       "      <td>27-Feb-97</td>\n",
       "      <td>1997</td>\n",
       "      <td>...</td>\n",
       "      <td>Y</td>\n",
       "      <td>N</td>\n",
       "      <td>NaN</td>\n",
       "      <td>31-Oct-97</td>\n",
       "      <td>$85,000.00</td>\n",
       "      <td>$0.00</td>\n",
       "      <td>P I F</td>\n",
       "      <td>$0.00</td>\n",
       "      <td>$85,000.00</td>\n",
       "      <td>$42,500.00</td>\n",
       "    </tr>\n",
       "    <tr>\n",
       "      <th>899161</th>\n",
       "      <td>9995613003</td>\n",
       "      <td>RADCO MANUFACTURING CO.,INC.</td>\n",
       "      <td>SANTA MARIA</td>\n",
       "      <td>CA</td>\n",
       "      <td>93455</td>\n",
       "      <td>RABOBANK, NATIONAL ASSOCIATION</td>\n",
       "      <td>CA</td>\n",
       "      <td>332321</td>\n",
       "      <td>27-Feb-97</td>\n",
       "      <td>1997</td>\n",
       "      <td>...</td>\n",
       "      <td>N</td>\n",
       "      <td>N</td>\n",
       "      <td>NaN</td>\n",
       "      <td>30-Sep-97</td>\n",
       "      <td>$300,000.00</td>\n",
       "      <td>$0.00</td>\n",
       "      <td>P I F</td>\n",
       "      <td>$0.00</td>\n",
       "      <td>$300,000.00</td>\n",
       "      <td>$225,000.00</td>\n",
       "    </tr>\n",
       "    <tr>\n",
       "      <th>899162</th>\n",
       "      <td>9995973006</td>\n",
       "      <td>MARUTAMA HAWAII, INC.</td>\n",
       "      <td>HONOLULU</td>\n",
       "      <td>HI</td>\n",
       "      <td>96830</td>\n",
       "      <td>BANK OF HAWAII</td>\n",
       "      <td>HI</td>\n",
       "      <td>0</td>\n",
       "      <td>27-Feb-97</td>\n",
       "      <td>1997</td>\n",
       "      <td>...</td>\n",
       "      <td>N</td>\n",
       "      <td>Y</td>\n",
       "      <td>8-Mar-00</td>\n",
       "      <td>31-Mar-97</td>\n",
       "      <td>$75,000.00</td>\n",
       "      <td>$0.00</td>\n",
       "      <td>CHGOFF</td>\n",
       "      <td>$46,383.00</td>\n",
       "      <td>$75,000.00</td>\n",
       "      <td>$60,000.00</td>\n",
       "    </tr>\n",
       "    <tr>\n",
       "      <th>899163</th>\n",
       "      <td>9996003010</td>\n",
       "      <td>PACIFIC TRADEWINDS FAN &amp; LIGHT</td>\n",
       "      <td>KAILUA</td>\n",
       "      <td>HI</td>\n",
       "      <td>96734</td>\n",
       "      <td>CENTRAL PACIFIC BANK</td>\n",
       "      <td>HI</td>\n",
       "      <td>0</td>\n",
       "      <td>27-Feb-97</td>\n",
       "      <td>1997</td>\n",
       "      <td>...</td>\n",
       "      <td>N</td>\n",
       "      <td>N</td>\n",
       "      <td>NaN</td>\n",
       "      <td>31-May-97</td>\n",
       "      <td>$30,000.00</td>\n",
       "      <td>$0.00</td>\n",
       "      <td>P I F</td>\n",
       "      <td>$0.00</td>\n",
       "      <td>$30,000.00</td>\n",
       "      <td>$24,000.00</td>\n",
       "    </tr>\n",
       "  </tbody>\n",
       "</table>\n",
       "<p>899164 rows × 27 columns</p>\n",
       "</div>"
      ],
      "text/plain": [
       "        LoanNr_ChkDgt                            Name             City State  \\\n",
       "0          1000014003                  ABC HOBBYCRAFT       EVANSVILLE    IN   \n",
       "1          1000024006     LANDMARK BAR & GRILLE (THE)        NEW PARIS    IN   \n",
       "2          1000034009           WHITLOCK DDS, TODD M.      BLOOMINGTON    IN   \n",
       "3          1000044001   BIG BUCKS PAWN & JEWELRY, LLC     BROKEN ARROW    OK   \n",
       "4          1000054004     ANASTASIA CONFECTIONS, INC.          ORLANDO    FL   \n",
       "...               ...                             ...              ...   ...   \n",
       "899159     9995573004                    FABRIC FARMS  UPPER ARLINGTON    OH   \n",
       "899160     9995603000                    FABRIC FARMS         COLUMBUS    OH   \n",
       "899161     9995613003    RADCO MANUFACTURING CO.,INC.      SANTA MARIA    CA   \n",
       "899162     9995973006           MARUTAMA HAWAII, INC.         HONOLULU    HI   \n",
       "899163     9996003010  PACIFIC TRADEWINDS FAN & LIGHT           KAILUA    HI   \n",
       "\n",
       "          Zip                            Bank BankState   NAICS ApprovalDate  \\\n",
       "0       47711                FIFTH THIRD BANK        OH  451120    28-Feb-97   \n",
       "1       46526                 1ST SOURCE BANK        IN  722410    28-Feb-97   \n",
       "2       47401         GRANT COUNTY STATE BANK        IN  621210    28-Feb-97   \n",
       "3       74012   1ST NATL BK & TR CO OF BROKEN        OK       0    28-Feb-97   \n",
       "4       32801         FLORIDA BUS. DEVEL CORP        FL       0    28-Feb-97   \n",
       "...       ...                             ...       ...     ...          ...   \n",
       "899159  43221  JPMORGAN CHASE BANK NATL ASSOC        IL  451120    27-Feb-97   \n",
       "899160  43221  JPMORGAN CHASE BANK NATL ASSOC        IL  451130    27-Feb-97   \n",
       "899161  93455  RABOBANK, NATIONAL ASSOCIATION        CA  332321    27-Feb-97   \n",
       "899162  96830                  BANK OF HAWAII        HI       0    27-Feb-97   \n",
       "899163  96734            CENTRAL PACIFIC BANK        HI       0    27-Feb-97   \n",
       "\n",
       "       ApprovalFY  ...  RevLineCr  LowDoc  ChgOffDate  DisbursementDate  \\\n",
       "0            1997  ...          N       Y         NaN         28-Feb-99   \n",
       "1            1997  ...          N       Y         NaN         31-May-97   \n",
       "2            1997  ...          N       N         NaN         31-Dec-97   \n",
       "3            1997  ...          N       Y         NaN         30-Jun-97   \n",
       "4            1997  ...          N       N         NaN         14-May-97   \n",
       "...           ...  ...        ...     ...         ...               ...   \n",
       "899159       1997  ...          0       N         NaN         30-Sep-97   \n",
       "899160       1997  ...          Y       N         NaN         31-Oct-97   \n",
       "899161       1997  ...          N       N         NaN         30-Sep-97   \n",
       "899162       1997  ...          N       Y    8-Mar-00         31-Mar-97   \n",
       "899163       1997  ...          N       N         NaN         31-May-97   \n",
       "\n",
       "        DisbursementGross  BalanceGross  MIS_Status ChgOffPrinGr  \\\n",
       "0             $60,000.00         $0.00        P I F       $0.00    \n",
       "1             $40,000.00         $0.00        P I F       $0.00    \n",
       "2            $287,000.00         $0.00        P I F       $0.00    \n",
       "3             $35,000.00         $0.00        P I F       $0.00    \n",
       "4            $229,000.00         $0.00        P I F       $0.00    \n",
       "...                   ...           ...         ...          ...   \n",
       "899159        $70,000.00         $0.00        P I F       $0.00    \n",
       "899160        $85,000.00         $0.00        P I F       $0.00    \n",
       "899161       $300,000.00         $0.00        P I F       $0.00    \n",
       "899162        $75,000.00         $0.00       CHGOFF  $46,383.00    \n",
       "899163        $30,000.00         $0.00        P I F       $0.00    \n",
       "\n",
       "              GrAppv      SBA_Appv  \n",
       "0        $60,000.00    $48,000.00   \n",
       "1        $40,000.00    $32,000.00   \n",
       "2       $287,000.00   $215,250.00   \n",
       "3        $35,000.00    $28,000.00   \n",
       "4       $229,000.00   $229,000.00   \n",
       "...              ...           ...  \n",
       "899159   $70,000.00    $56,000.00   \n",
       "899160   $85,000.00    $42,500.00   \n",
       "899161  $300,000.00   $225,000.00   \n",
       "899162   $75,000.00    $60,000.00   \n",
       "899163   $30,000.00    $24,000.00   \n",
       "\n",
       "[899164 rows x 27 columns]"
      ]
     },
     "execution_count": 144,
     "metadata": {},
     "output_type": "execute_result"
    }
   ],
   "source": [
    "raw=pd.read_csv(\"D:/Business Analytics/Second Term/Data Acquization 8125/Final Group Project/archive/SBAnational.csv\")\n",
    "raw"
   ]
  },
  {
   "cell_type": "markdown",
   "id": "5a31a80c-fd67-447e-a671-825d4f435f97",
   "metadata": {},
   "source": [
    "#### From the dataset above, we can get that the dataset has 899164 rows and 27 column which it is a big dataset.\n",
    "\n",
    "#### After importing the dataset, the following step would be data cleaning, such as delting the nulls, duplicates, etc."
   ]
  },
  {
   "cell_type": "markdown",
   "id": "e1b63269-91ce-46fa-82a4-08cd8b1985c4",
   "metadata": {},
   "source": [
    "#### There are two more documents which can help us to understand this dataset better. One is the explanations for title for each column, the other one is the explanation of the number in column 'NAICS'. Here we can import these two documents as well."
   ]
  },
  {
   "cell_type": "code",
   "execution_count": 147,
   "id": "543cb6f8-2f12-4a78-9312-84bfbbff209a",
   "metadata": {},
   "outputs": [
    {
     "data": {
      "text/html": [
       "<div>\n",
       "<style scoped>\n",
       "    .dataframe tbody tr th:only-of-type {\n",
       "        vertical-align: middle;\n",
       "    }\n",
       "\n",
       "    .dataframe tbody tr th {\n",
       "        vertical-align: top;\n",
       "    }\n",
       "\n",
       "    .dataframe thead th {\n",
       "        text-align: right;\n",
       "    }\n",
       "</style>\n",
       "<table border=\"1\" class=\"dataframe\">\n",
       "  <thead>\n",
       "    <tr style=\"text-align: right;\">\n",
       "      <th></th>\n",
       "      <th>Variable name</th>\n",
       "      <th>Data type</th>\n",
       "      <th>Description of variable</th>\n",
       "    </tr>\n",
       "  </thead>\n",
       "  <tbody>\n",
       "    <tr>\n",
       "      <th>0</th>\n",
       "      <td>LoanNr_ChkDgt</td>\n",
       "      <td>Text</td>\n",
       "      <td>Identifier- Primary key</td>\n",
       "    </tr>\n",
       "    <tr>\n",
       "      <th>1</th>\n",
       "      <td>Name</td>\n",
       "      <td>Text</td>\n",
       "      <td>Borrower name</td>\n",
       "    </tr>\n",
       "    <tr>\n",
       "      <th>2</th>\n",
       "      <td>City</td>\n",
       "      <td>Text</td>\n",
       "      <td>Borrower city</td>\n",
       "    </tr>\n",
       "    <tr>\n",
       "      <th>3</th>\n",
       "      <td>State</td>\n",
       "      <td>Text</td>\n",
       "      <td>Borrower state</td>\n",
       "    </tr>\n",
       "    <tr>\n",
       "      <th>4</th>\n",
       "      <td>Zip</td>\n",
       "      <td>Text</td>\n",
       "      <td>Borrower zip code</td>\n",
       "    </tr>\n",
       "    <tr>\n",
       "      <th>5</th>\n",
       "      <td>Bank</td>\n",
       "      <td>Text</td>\n",
       "      <td>Bank name</td>\n",
       "    </tr>\n",
       "    <tr>\n",
       "      <th>6</th>\n",
       "      <td>BankState</td>\n",
       "      <td>Text</td>\n",
       "      <td>Bank state</td>\n",
       "    </tr>\n",
       "    <tr>\n",
       "      <th>7</th>\n",
       "      <td>NAICS</td>\n",
       "      <td>Text</td>\n",
       "      <td>North American industry classification system ...</td>\n",
       "    </tr>\n",
       "    <tr>\n",
       "      <th>8</th>\n",
       "      <td>ApprovalDate</td>\n",
       "      <td>Date/Time</td>\n",
       "      <td>Date SBA commitment issued</td>\n",
       "    </tr>\n",
       "    <tr>\n",
       "      <th>9</th>\n",
       "      <td>ApprovalFY</td>\n",
       "      <td>Text</td>\n",
       "      <td>Fiscal year of commitment</td>\n",
       "    </tr>\n",
       "    <tr>\n",
       "      <th>10</th>\n",
       "      <td>Term</td>\n",
       "      <td>Number</td>\n",
       "      <td>Loan term in months</td>\n",
       "    </tr>\n",
       "    <tr>\n",
       "      <th>11</th>\n",
       "      <td>NoEmp</td>\n",
       "      <td>Number</td>\n",
       "      <td>Number of business employees</td>\n",
       "    </tr>\n",
       "    <tr>\n",
       "      <th>12</th>\n",
       "      <td>NewExist</td>\n",
       "      <td>Text</td>\n",
       "      <td>1 = Existing business, 2 = New business</td>\n",
       "    </tr>\n",
       "    <tr>\n",
       "      <th>13</th>\n",
       "      <td>CreateJob</td>\n",
       "      <td>Number</td>\n",
       "      <td>Number of jobs created</td>\n",
       "    </tr>\n",
       "    <tr>\n",
       "      <th>14</th>\n",
       "      <td>RetainedJob</td>\n",
       "      <td>Number</td>\n",
       "      <td>Number of jobs retained</td>\n",
       "    </tr>\n",
       "    <tr>\n",
       "      <th>15</th>\n",
       "      <td>FranchiseCode</td>\n",
       "      <td>Text</td>\n",
       "      <td>Franchise code, (00000 or 00001) = No franchise</td>\n",
       "    </tr>\n",
       "    <tr>\n",
       "      <th>16</th>\n",
       "      <td>UrbanRural</td>\n",
       "      <td>Text</td>\n",
       "      <td>1 = Urban, 2 = rural, 0 = undefined</td>\n",
       "    </tr>\n",
       "    <tr>\n",
       "      <th>17</th>\n",
       "      <td>RevLineCr</td>\n",
       "      <td>Text</td>\n",
       "      <td>Revolving line of credit: Y = Yes, N = No</td>\n",
       "    </tr>\n",
       "    <tr>\n",
       "      <th>18</th>\n",
       "      <td>LowDoc</td>\n",
       "      <td>Text</td>\n",
       "      <td>LowDoc Loan Program: Y = Yes, N = No</td>\n",
       "    </tr>\n",
       "    <tr>\n",
       "      <th>19</th>\n",
       "      <td>ChgOffDate</td>\n",
       "      <td>Date/Time</td>\n",
       "      <td>The date when a loan is declared to be in default</td>\n",
       "    </tr>\n",
       "    <tr>\n",
       "      <th>20</th>\n",
       "      <td>DisbursementDate</td>\n",
       "      <td>Date/Time</td>\n",
       "      <td>Disbursement date</td>\n",
       "    </tr>\n",
       "    <tr>\n",
       "      <th>21</th>\n",
       "      <td>DisbursementGross</td>\n",
       "      <td>Currency</td>\n",
       "      <td>Amount disbursed</td>\n",
       "    </tr>\n",
       "    <tr>\n",
       "      <th>22</th>\n",
       "      <td>BalanceGross</td>\n",
       "      <td>Currency</td>\n",
       "      <td>Gross amount outstanding</td>\n",
       "    </tr>\n",
       "    <tr>\n",
       "      <th>23</th>\n",
       "      <td>MIS_Status</td>\n",
       "      <td>Text</td>\n",
       "      <td>Loan status charged off = CHGOFF, Paid in full...</td>\n",
       "    </tr>\n",
       "    <tr>\n",
       "      <th>24</th>\n",
       "      <td>ChgOffPrinGr</td>\n",
       "      <td>Currency</td>\n",
       "      <td>Charged-off amount</td>\n",
       "    </tr>\n",
       "    <tr>\n",
       "      <th>25</th>\n",
       "      <td>GrAppv</td>\n",
       "      <td>Currency</td>\n",
       "      <td>Gross amount of loan approved by bank</td>\n",
       "    </tr>\n",
       "    <tr>\n",
       "      <th>26</th>\n",
       "      <td>SBA_Appv</td>\n",
       "      <td>Currency</td>\n",
       "      <td>SBA's guaranteed amount of approved loan</td>\n",
       "    </tr>\n",
       "  </tbody>\n",
       "</table>\n",
       "</div>"
      ],
      "text/plain": [
       "        Variable name  Data type  \\\n",
       "0       LoanNr_ChkDgt       Text   \n",
       "1                Name       Text   \n",
       "2                City       Text   \n",
       "3               State       Text   \n",
       "4                 Zip       Text   \n",
       "5                Bank       Text   \n",
       "6           BankState       Text   \n",
       "7               NAICS       Text   \n",
       "8        ApprovalDate  Date/Time   \n",
       "9          ApprovalFY       Text   \n",
       "10               Term     Number   \n",
       "11              NoEmp     Number   \n",
       "12           NewExist       Text   \n",
       "13          CreateJob     Number   \n",
       "14        RetainedJob     Number   \n",
       "15      FranchiseCode       Text   \n",
       "16         UrbanRural       Text   \n",
       "17          RevLineCr       Text   \n",
       "18             LowDoc       Text   \n",
       "19         ChgOffDate  Date/Time   \n",
       "20   DisbursementDate  Date/Time   \n",
       "21  DisbursementGross   Currency   \n",
       "22       BalanceGross   Currency   \n",
       "23         MIS_Status       Text   \n",
       "24       ChgOffPrinGr   Currency   \n",
       "25             GrAppv   Currency   \n",
       "26           SBA_Appv   Currency   \n",
       "\n",
       "                              Description of variable  \n",
       "0                             Identifier- Primary key  \n",
       "1                                       Borrower name  \n",
       "2                                       Borrower city  \n",
       "3                                      Borrower state  \n",
       "4                                   Borrower zip code  \n",
       "5                                           Bank name  \n",
       "6                                          Bank state  \n",
       "7   North American industry classification system ...  \n",
       "8                          Date SBA commitment issued  \n",
       "9                           Fiscal year of commitment  \n",
       "10                                Loan term in months  \n",
       "11                       Number of business employees  \n",
       "12            1 = Existing business, 2 = New business  \n",
       "13                             Number of jobs created  \n",
       "14                            Number of jobs retained  \n",
       "15    Franchise code, (00000 or 00001) = No franchise  \n",
       "16                1 = Urban, 2 = rural, 0 = undefined  \n",
       "17          Revolving line of credit: Y = Yes, N = No  \n",
       "18               LowDoc Loan Program: Y = Yes, N = No  \n",
       "19  The date when a loan is declared to be in default  \n",
       "20                                  Disbursement date  \n",
       "21                                   Amount disbursed  \n",
       "22                           Gross amount outstanding  \n",
       "23  Loan status charged off = CHGOFF, Paid in full...  \n",
       "24                                 Charged-off amount  \n",
       "25              Gross amount of loan approved by bank  \n",
       "26           SBA's guaranteed amount of approved loan  "
      ]
     },
     "execution_count": 147,
     "metadata": {},
     "output_type": "execute_result"
    }
   ],
   "source": [
    "title = pd.read_csv(\"D:/Business Analytics/Second Term/Data Acquization 8125/Final Group Project/archive/t0001-10.1080_10691898.2018.1434342.csv\")\n",
    "title"
   ]
  },
  {
   "cell_type": "code",
   "execution_count": 148,
   "id": "4c3a5ffe-978f-4059-86b1-dd3c9c313f49",
   "metadata": {},
   "outputs": [
    {
     "data": {
      "text/html": [
       "<div>\n",
       "<style scoped>\n",
       "    .dataframe tbody tr th:only-of-type {\n",
       "        vertical-align: middle;\n",
       "    }\n",
       "\n",
       "    .dataframe tbody tr th {\n",
       "        vertical-align: top;\n",
       "    }\n",
       "\n",
       "    .dataframe thead th {\n",
       "        text-align: right;\n",
       "    }\n",
       "</style>\n",
       "<table border=\"1\" class=\"dataframe\">\n",
       "  <thead>\n",
       "    <tr style=\"text-align: right;\">\n",
       "      <th></th>\n",
       "      <th>Sector</th>\n",
       "      <th>Description</th>\n",
       "    </tr>\n",
       "  </thead>\n",
       "  <tbody>\n",
       "    <tr>\n",
       "      <th>0</th>\n",
       "      <td>11</td>\n",
       "      <td>Agriculture, forestry, fishing and hunting</td>\n",
       "    </tr>\n",
       "    <tr>\n",
       "      <th>1</th>\n",
       "      <td>21</td>\n",
       "      <td>Mining, quarrying, and oil and gas extraction</td>\n",
       "    </tr>\n",
       "    <tr>\n",
       "      <th>2</th>\n",
       "      <td>22</td>\n",
       "      <td>Utilities</td>\n",
       "    </tr>\n",
       "    <tr>\n",
       "      <th>3</th>\n",
       "      <td>23</td>\n",
       "      <td>Construction</td>\n",
       "    </tr>\n",
       "    <tr>\n",
       "      <th>4</th>\n",
       "      <td>31-33</td>\n",
       "      <td>Manufacturing</td>\n",
       "    </tr>\n",
       "    <tr>\n",
       "      <th>5</th>\n",
       "      <td>42</td>\n",
       "      <td>Wholesale trade</td>\n",
       "    </tr>\n",
       "    <tr>\n",
       "      <th>6</th>\n",
       "      <td>44-45</td>\n",
       "      <td>Retail trade</td>\n",
       "    </tr>\n",
       "    <tr>\n",
       "      <th>7</th>\n",
       "      <td>48-49</td>\n",
       "      <td>Transportation and warehousing</td>\n",
       "    </tr>\n",
       "    <tr>\n",
       "      <th>8</th>\n",
       "      <td>51</td>\n",
       "      <td>Information</td>\n",
       "    </tr>\n",
       "    <tr>\n",
       "      <th>9</th>\n",
       "      <td>52</td>\n",
       "      <td>Finance and insurance</td>\n",
       "    </tr>\n",
       "    <tr>\n",
       "      <th>10</th>\n",
       "      <td>53</td>\n",
       "      <td>Real estate and rental and leasing</td>\n",
       "    </tr>\n",
       "    <tr>\n",
       "      <th>11</th>\n",
       "      <td>54</td>\n",
       "      <td>Professional, scientific, and technical services</td>\n",
       "    </tr>\n",
       "    <tr>\n",
       "      <th>12</th>\n",
       "      <td>55</td>\n",
       "      <td>Management of companies and enterprises</td>\n",
       "    </tr>\n",
       "    <tr>\n",
       "      <th>13</th>\n",
       "      <td>56</td>\n",
       "      <td>Administrative and support and waste managemen...</td>\n",
       "    </tr>\n",
       "    <tr>\n",
       "      <th>14</th>\n",
       "      <td>61</td>\n",
       "      <td>Educational services</td>\n",
       "    </tr>\n",
       "    <tr>\n",
       "      <th>15</th>\n",
       "      <td>62</td>\n",
       "      <td>Health care and social assistance</td>\n",
       "    </tr>\n",
       "    <tr>\n",
       "      <th>16</th>\n",
       "      <td>71</td>\n",
       "      <td>Arts, entertainment, and recreation</td>\n",
       "    </tr>\n",
       "    <tr>\n",
       "      <th>17</th>\n",
       "      <td>72</td>\n",
       "      <td>Accommodation and food services</td>\n",
       "    </tr>\n",
       "    <tr>\n",
       "      <th>18</th>\n",
       "      <td>81</td>\n",
       "      <td>Other services (except public administration)</td>\n",
       "    </tr>\n",
       "    <tr>\n",
       "      <th>19</th>\n",
       "      <td>92</td>\n",
       "      <td>Public administration</td>\n",
       "    </tr>\n",
       "  </tbody>\n",
       "</table>\n",
       "</div>"
      ],
      "text/plain": [
       "   Sector                                        Description\n",
       "0      11         Agriculture, forestry, fishing and hunting\n",
       "1      21      Mining, quarrying, and oil and gas extraction\n",
       "2      22                                          Utilities\n",
       "3      23                                       Construction\n",
       "4   31-33                                      Manufacturing\n",
       "5      42                                    Wholesale trade\n",
       "6   44-45                                       Retail trade\n",
       "7   48-49                     Transportation and warehousing\n",
       "8      51                                        Information\n",
       "9      52                              Finance and insurance\n",
       "10     53                 Real estate and rental and leasing\n",
       "11     54   Professional, scientific, and technical services\n",
       "12     55            Management of companies and enterprises\n",
       "13     56  Administrative and support and waste managemen...\n",
       "14     61                               Educational services\n",
       "15     62                  Health care and social assistance\n",
       "16     71                Arts, entertainment, and recreation\n",
       "17     72                    Accommodation and food services\n",
       "18     81      Other services (except public administration)\n",
       "19     92                              Public administration"
      ]
     },
     "execution_count": 148,
     "metadata": {},
     "output_type": "execute_result"
    }
   ],
   "source": [
    "naics_exp = pd.read_csv(\"D:/Business Analytics/Second Term/Data Acquization 8125/Final Group Project/archive/NAICS.csv\")\n",
    "naics_exp"
   ]
  },
  {
   "cell_type": "markdown",
   "id": "1b1c9dd4-f41b-4575-8da5-b5d2c1e8c151",
   "metadata": {},
   "source": [
    "## 1. Data Cleaning\n",
    "\n",
    "#### 1) Check if there are unusal spaces in the column titles:"
   ]
  },
  {
   "cell_type": "code",
   "execution_count": 145,
   "id": "23cbcaa1-4211-4628-bba4-44185ff9da00",
   "metadata": {},
   "outputs": [
    {
     "data": {
      "text/plain": [
       "Index(['LoanNr_ChkDgt', 'Name', 'City', 'State', 'Zip', 'Bank', 'BankState',\n",
       "       'NAICS', 'ApprovalDate', 'ApprovalFY', 'Term', 'NoEmp', 'NewExist',\n",
       "       'CreateJob', 'RetainedJob', 'FranchiseCode', 'UrbanRural', 'RevLineCr',\n",
       "       'LowDoc', 'ChgOffDate', 'DisbursementDate', 'DisbursementGross',\n",
       "       'BalanceGross', 'MIS_Status', 'ChgOffPrinGr', 'GrAppv', 'SBA_Appv'],\n",
       "      dtype='object')"
      ]
     },
     "execution_count": 145,
     "metadata": {},
     "output_type": "execute_result"
    }
   ],
   "source": [
    "raw.columns"
   ]
  },
  {
   "cell_type": "markdown",
   "id": "b2b60b98-5d2d-4ffd-a5ef-4cc15f1f8a98",
   "metadata": {},
   "source": [
    "#### Fortunately, titles for all columns are good.\n",
    "#### 2) Check if there is missing data in each column of the dataset:"
   ]
  },
  {
   "cell_type": "code",
   "execution_count": 146,
   "id": "11858f98-33d9-4b3a-b0b1-77f27a660c16",
   "metadata": {},
   "outputs": [
    {
     "data": {
      "text/plain": [
       "LoanNr_ChkDgt             0\n",
       "Name                     14\n",
       "City                     30\n",
       "State                    14\n",
       "Zip                       0\n",
       "Bank                   1559\n",
       "BankState              1566\n",
       "NAICS                     0\n",
       "ApprovalDate              0\n",
       "ApprovalFY                0\n",
       "Term                      0\n",
       "NoEmp                     0\n",
       "NewExist                136\n",
       "CreateJob                 0\n",
       "RetainedJob               0\n",
       "FranchiseCode             0\n",
       "UrbanRural                0\n",
       "RevLineCr              4528\n",
       "LowDoc                 2582\n",
       "ChgOffDate           736465\n",
       "DisbursementDate       2368\n",
       "DisbursementGross         0\n",
       "BalanceGross              0\n",
       "MIS_Status             1997\n",
       "ChgOffPrinGr              0\n",
       "GrAppv                    0\n",
       "SBA_Appv                  0\n",
       "dtype: int64"
      ]
     },
     "execution_count": 146,
     "metadata": {},
     "output_type": "execute_result"
    }
   ],
   "source": [
    "raw.isnull().sum()"
   ]
  },
  {
   "cell_type": "markdown",
   "id": "9a6a426f-de24-4c3e-addc-35f11cd8cb45",
   "metadata": {},
   "source": [
    "#### From the result above, we found there are quite some missing data in columns 'Bank', 'BankState', 'NewExist', 'RevlinCr', 'LowDoc', 'ChgOffDate', 'DisbursementDate', and 'MIS_Status'. As the explanation of the title document above, the 'ChgOffDate'could be empty if the loan was not approved defaultly, so we can ignore the missing data in column 'ChgOffDate'."
   ]
  },
  {
   "cell_type": "markdown",
   "id": "bf07dcee-86eb-4f37-a659-8cde87fdd699",
   "metadata": {},
   "source": [
    "#### Since there are more than 800K data in this dataset, and the missing data in those columns is just few thousand each, so we choose to delete all missing data rows directly except 'ChgOffDate' column."
   ]
  },
  {
   "cell_type": "code",
   "execution_count": 9,
   "id": "379e495d-790c-49da-9706-0a9a791fdfbf",
   "metadata": {},
   "outputs": [],
   "source": [
    "### delete all rows which have nulls except column 'ChgOffDate'\n",
    "raw1=raw.dropna(how='any', subset=['Name','City','State','NewExist','DisbursementDate','Bank','BankState','RevLineCr','LowDoc','MIS_Status'])"
   ]
  },
  {
   "cell_type": "code",
   "execution_count": 149,
   "id": "5dcb529c-990c-479a-9a54-f4cb8291a20d",
   "metadata": {},
   "outputs": [
    {
     "data": {
      "text/plain": [
       "LoanNr_ChkDgt             0\n",
       "Name                      0\n",
       "City                      0\n",
       "State                     0\n",
       "Zip                       0\n",
       "Bank                      0\n",
       "BankState                 0\n",
       "NAICS                     0\n",
       "ApprovalDate              0\n",
       "ApprovalFY                0\n",
       "Term                      0\n",
       "NoEmp                     0\n",
       "NewExist                  0\n",
       "CreateJob                 0\n",
       "RetainedJob               0\n",
       "FranchiseCode             0\n",
       "UrbanRural                0\n",
       "RevLineCr                 0\n",
       "LowDoc                    0\n",
       "ChgOffDate           725369\n",
       "DisbursementDate          0\n",
       "DisbursementGross         0\n",
       "BalanceGross              0\n",
       "MIS_Status                0\n",
       "ChgOffPrinGr              0\n",
       "GrAppv                    0\n",
       "SBA_Appv                  0\n",
       "dtype: int64"
      ]
     },
     "execution_count": 149,
     "metadata": {},
     "output_type": "execute_result"
    }
   ],
   "source": [
    "raw1.isnull().sum()"
   ]
  },
  {
   "cell_type": "markdown",
   "id": "7a83d887-cd55-479b-8d60-61827160deaa",
   "metadata": {},
   "source": [
    "<p>After deleting those rows, we now check the dataset size again. </p>"
   ]
  },
  {
   "cell_type": "code",
   "execution_count": 150,
   "id": "77ecee80-c00b-4388-b2e3-f3d14ad3f8bf",
   "metadata": {},
   "outputs": [
    {
     "data": {
      "text/plain": [
       "(886240, 27)"
      ]
     },
     "execution_count": 150,
     "metadata": {},
     "output_type": "execute_result"
    }
   ],
   "source": [
    "raw1.shape"
   ]
  },
  {
   "cell_type": "markdown",
   "id": "15efe416-50de-43b7-a0c8-bd0d52c1c1dd",
   "metadata": {},
   "source": [
    "#### 3) After checking, there are some 0 values in column 'NACIS'. This column means the industries, so 0 values will affect the analysis. Same as the nulls, we will delete those rows as well."
   ]
  },
  {
   "cell_type": "code",
   "execution_count": 13,
   "id": "b50fdf86-4104-40d1-b323-62bc1ead6cb0",
   "metadata": {},
   "outputs": [],
   "source": [
    "### delete all rows have 0 in column 'NAICS'\n",
    "cleandata=raw1[raw1.NAICS!=0]"
   ]
  },
  {
   "cell_type": "code",
   "execution_count": 151,
   "id": "3d2c64bc-9914-4748-88aa-f191ea485c74",
   "metadata": {},
   "outputs": [
    {
     "data": {
      "text/plain": [
       "(687973, 27)"
      ]
     },
     "execution_count": 151,
     "metadata": {},
     "output_type": "execute_result"
    }
   ],
   "source": [
    "cleandata.shape"
   ]
  },
  {
   "cell_type": "markdown",
   "id": "b3b84f66-9b5c-441e-8f29-d6490534e729",
   "metadata": {},
   "source": [
    "#### 4) Check if any duplicated rows in the cleandata."
   ]
  },
  {
   "cell_type": "code",
   "execution_count": 153,
   "id": "870b2a33-53cb-4ad0-96bc-b8cc9bf5a484",
   "metadata": {},
   "outputs": [
    {
     "data": {
      "text/plain": [
       "0"
      ]
     },
     "execution_count": 153,
     "metadata": {},
     "output_type": "execute_result"
    }
   ],
   "source": [
    "cleandata.duplicated().sum()"
   ]
  },
  {
   "cell_type": "markdown",
   "id": "bff4422d-7580-4e1f-b4a5-43ff705e4735",
   "metadata": {},
   "source": [
    "#### 5) Regarding the document naics, the first two digits present the industry. In order to analyze the industry, we will extract the first two digits in the column 'NAICS'. "
   ]
  },
  {
   "cell_type": "code",
   "execution_count": 156,
   "id": "fb55fe8e-026e-4508-a255-aed69b96eea3",
   "metadata": {},
   "outputs": [
    {
     "name": "stderr",
     "output_type": "stream",
     "text": [
      "C:\\Users\\barry\\AppData\\Local\\Temp/ipykernel_14476/4219898512.py:7: SettingWithCopyWarning: \n",
      "A value is trying to be set on a copy of a slice from a DataFrame.\n",
      "Try using .loc[row_indexer,col_indexer] = value instead\n",
      "\n",
      "See the caveats in the documentation: https://pandas.pydata.org/pandas-docs/stable/user_guide/indexing.html#returning-a-view-versus-a-copy\n",
      "  cleandata['NAICS']=cleandata.NAICS.apply(first_two)\n"
     ]
    }
   ],
   "source": [
    "## Get the first two digits of column 'NAICS'\n",
    "\n",
    "import math\n",
    "def first_two(d):                \n",
    "     return (d // 10 ** (int(math.log(d, 10)) - 1))\n",
    "\n",
    "cleandata['NAICS']=cleandata.NAICS.apply(first_two)"
   ]
  },
  {
   "cell_type": "markdown",
   "id": "fbeeaadb-636f-476a-89a9-3e5ea7de9209",
   "metadata": {
    "tags": []
   },
   "source": [
    "#### 6) Regarding the logistics regression, the output is categorical data which is 0 or 1. We will use the column 'MIS_Status' as the output. In order to do the analysis, we will convert 'PIG' to 0 which means the loan was not approved defaultly, and the 'CHGOFF' wwill be 1 which means the loan was approved defaultly."
   ]
  },
  {
   "cell_type": "code",
   "execution_count": 159,
   "id": "f2355266-6e0e-495a-88e7-bdbf311d9cf1",
   "metadata": {},
   "outputs": [
    {
     "name": "stderr",
     "output_type": "stream",
     "text": [
      "C:\\Users\\barry\\AppData\\Local\\Temp/ipykernel_14476/1205724039.py:1: SettingWithCopyWarning: \n",
      "A value is trying to be set on a copy of a slice from a DataFrame\n",
      "\n",
      "See the caveats in the documentation: https://pandas.pydata.org/pandas-docs/stable/user_guide/indexing.html#returning-a-view-versus-a-copy\n",
      "  cleandata['MIS_Status'][cleandata['MIS_Status']=='P I F'] = 0\n",
      "C:\\Users\\barry\\anaconda3\\lib\\site-packages\\pandas\\core\\generic.py:8870: SettingWithCopyWarning: \n",
      "A value is trying to be set on a copy of a slice from a DataFrame\n",
      "\n",
      "See the caveats in the documentation: https://pandas.pydata.org/pandas-docs/stable/user_guide/indexing.html#returning-a-view-versus-a-copy\n",
      "  return self._update_inplace(result)\n",
      "C:\\Users\\barry\\AppData\\Local\\Temp/ipykernel_14476/1205724039.py:2: SettingWithCopyWarning: \n",
      "A value is trying to be set on a copy of a slice from a DataFrame\n",
      "\n",
      "See the caveats in the documentation: https://pandas.pydata.org/pandas-docs/stable/user_guide/indexing.html#returning-a-view-versus-a-copy\n",
      "  cleandata['MIS_Status'][cleandata['MIS_Status']=='CHGOFF'] = 1\n"
     ]
    }
   ],
   "source": [
    "cleandata['MIS_Status'][cleandata['MIS_Status']=='P I F'] = 0\n",
    "cleandata['MIS_Status'][cleandata['MIS_Status']=='CHGOFF'] = 1"
   ]
  },
  {
   "cell_type": "markdown",
   "id": "30cf7fbc-d9e9-46f0-b278-2a8d1cfee196",
   "metadata": {},
   "source": [
    "### Here is the clean data."
   ]
  },
  {
   "cell_type": "code",
   "execution_count": 160,
   "id": "53963c36-736e-4c5e-8adb-c815daf77241",
   "metadata": {},
   "outputs": [
    {
     "data": {
      "text/html": [
       "<div>\n",
       "<style scoped>\n",
       "    .dataframe tbody tr th:only-of-type {\n",
       "        vertical-align: middle;\n",
       "    }\n",
       "\n",
       "    .dataframe tbody tr th {\n",
       "        vertical-align: top;\n",
       "    }\n",
       "\n",
       "    .dataframe thead th {\n",
       "        text-align: right;\n",
       "    }\n",
       "</style>\n",
       "<table border=\"1\" class=\"dataframe\">\n",
       "  <thead>\n",
       "    <tr style=\"text-align: right;\">\n",
       "      <th></th>\n",
       "      <th>LoanNr_ChkDgt</th>\n",
       "      <th>Name</th>\n",
       "      <th>City</th>\n",
       "      <th>State</th>\n",
       "      <th>Zip</th>\n",
       "      <th>Bank</th>\n",
       "      <th>BankState</th>\n",
       "      <th>NAICS</th>\n",
       "      <th>ApprovalDate</th>\n",
       "      <th>ApprovalFY</th>\n",
       "      <th>...</th>\n",
       "      <th>RevLineCr</th>\n",
       "      <th>LowDoc</th>\n",
       "      <th>ChgOffDate</th>\n",
       "      <th>DisbursementDate</th>\n",
       "      <th>DisbursementGross</th>\n",
       "      <th>BalanceGross</th>\n",
       "      <th>MIS_Status</th>\n",
       "      <th>ChgOffPrinGr</th>\n",
       "      <th>GrAppv</th>\n",
       "      <th>SBA_Appv</th>\n",
       "    </tr>\n",
       "  </thead>\n",
       "  <tbody>\n",
       "    <tr>\n",
       "      <th>0</th>\n",
       "      <td>1000014003</td>\n",
       "      <td>ABC HOBBYCRAFT</td>\n",
       "      <td>EVANSVILLE</td>\n",
       "      <td>IN</td>\n",
       "      <td>47711</td>\n",
       "      <td>FIFTH THIRD BANK</td>\n",
       "      <td>OH</td>\n",
       "      <td>45</td>\n",
       "      <td>1997-02-28</td>\n",
       "      <td>1997</td>\n",
       "      <td>...</td>\n",
       "      <td>N</td>\n",
       "      <td>Y</td>\n",
       "      <td>NaN</td>\n",
       "      <td>1999-02-28</td>\n",
       "      <td>$60,000.00</td>\n",
       "      <td>$0.00</td>\n",
       "      <td>0</td>\n",
       "      <td>$0.00</td>\n",
       "      <td>$60,000.00</td>\n",
       "      <td>$48,000.00</td>\n",
       "    </tr>\n",
       "    <tr>\n",
       "      <th>1</th>\n",
       "      <td>1000024006</td>\n",
       "      <td>LANDMARK BAR &amp; GRILLE (THE)</td>\n",
       "      <td>NEW PARIS</td>\n",
       "      <td>IN</td>\n",
       "      <td>46526</td>\n",
       "      <td>1ST SOURCE BANK</td>\n",
       "      <td>IN</td>\n",
       "      <td>72</td>\n",
       "      <td>1997-02-28</td>\n",
       "      <td>1997</td>\n",
       "      <td>...</td>\n",
       "      <td>N</td>\n",
       "      <td>Y</td>\n",
       "      <td>NaN</td>\n",
       "      <td>1997-05-31</td>\n",
       "      <td>$40,000.00</td>\n",
       "      <td>$0.00</td>\n",
       "      <td>0</td>\n",
       "      <td>$0.00</td>\n",
       "      <td>$40,000.00</td>\n",
       "      <td>$32,000.00</td>\n",
       "    </tr>\n",
       "    <tr>\n",
       "      <th>2</th>\n",
       "      <td>1000034009</td>\n",
       "      <td>WHITLOCK DDS, TODD M.</td>\n",
       "      <td>BLOOMINGTON</td>\n",
       "      <td>IN</td>\n",
       "      <td>47401</td>\n",
       "      <td>GRANT COUNTY STATE BANK</td>\n",
       "      <td>IN</td>\n",
       "      <td>62</td>\n",
       "      <td>1997-02-28</td>\n",
       "      <td>1997</td>\n",
       "      <td>...</td>\n",
       "      <td>N</td>\n",
       "      <td>N</td>\n",
       "      <td>NaN</td>\n",
       "      <td>1997-12-31</td>\n",
       "      <td>$287,000.00</td>\n",
       "      <td>$0.00</td>\n",
       "      <td>0</td>\n",
       "      <td>$0.00</td>\n",
       "      <td>$287,000.00</td>\n",
       "      <td>$215,250.00</td>\n",
       "    </tr>\n",
       "    <tr>\n",
       "      <th>5</th>\n",
       "      <td>1000084002</td>\n",
       "      <td>B&amp;T SCREW MACHINE COMPANY, INC</td>\n",
       "      <td>PLAINVILLE</td>\n",
       "      <td>CT</td>\n",
       "      <td>6062</td>\n",
       "      <td>TD BANK, NATIONAL ASSOCIATION</td>\n",
       "      <td>DE</td>\n",
       "      <td>33</td>\n",
       "      <td>1997-02-28</td>\n",
       "      <td>1997</td>\n",
       "      <td>...</td>\n",
       "      <td>N</td>\n",
       "      <td>N</td>\n",
       "      <td>NaN</td>\n",
       "      <td>1997-06-30</td>\n",
       "      <td>$517,000.00</td>\n",
       "      <td>$0.00</td>\n",
       "      <td>0</td>\n",
       "      <td>$0.00</td>\n",
       "      <td>$517,000.00</td>\n",
       "      <td>$387,750.00</td>\n",
       "    </tr>\n",
       "    <tr>\n",
       "      <th>7</th>\n",
       "      <td>1000094005</td>\n",
       "      <td>WEAVER PRODUCTS</td>\n",
       "      <td>SUMMERFIELD</td>\n",
       "      <td>FL</td>\n",
       "      <td>34491</td>\n",
       "      <td>REGIONS BANK</td>\n",
       "      <td>AL</td>\n",
       "      <td>81</td>\n",
       "      <td>1997-02-28</td>\n",
       "      <td>1997</td>\n",
       "      <td>...</td>\n",
       "      <td>N</td>\n",
       "      <td>Y</td>\n",
       "      <td>NaN</td>\n",
       "      <td>1998-06-30</td>\n",
       "      <td>$45,000.00</td>\n",
       "      <td>$0.00</td>\n",
       "      <td>0</td>\n",
       "      <td>$0.00</td>\n",
       "      <td>$45,000.00</td>\n",
       "      <td>$36,000.00</td>\n",
       "    </tr>\n",
       "    <tr>\n",
       "      <th>...</th>\n",
       "      <td>...</td>\n",
       "      <td>...</td>\n",
       "      <td>...</td>\n",
       "      <td>...</td>\n",
       "      <td>...</td>\n",
       "      <td>...</td>\n",
       "      <td>...</td>\n",
       "      <td>...</td>\n",
       "      <td>...</td>\n",
       "      <td>...</td>\n",
       "      <td>...</td>\n",
       "      <td>...</td>\n",
       "      <td>...</td>\n",
       "      <td>...</td>\n",
       "      <td>...</td>\n",
       "      <td>...</td>\n",
       "      <td>...</td>\n",
       "      <td>...</td>\n",
       "      <td>...</td>\n",
       "      <td>...</td>\n",
       "      <td>...</td>\n",
       "    </tr>\n",
       "    <tr>\n",
       "      <th>899156</th>\n",
       "      <td>9995473009</td>\n",
       "      <td>FABRICATORS STEEL, INC.</td>\n",
       "      <td>BALTIMORE</td>\n",
       "      <td>MD</td>\n",
       "      <td>21224</td>\n",
       "      <td>BANK OF AMERICA NATL ASSOC</td>\n",
       "      <td>MD</td>\n",
       "      <td>33</td>\n",
       "      <td>1997-02-27</td>\n",
       "      <td>1997</td>\n",
       "      <td>...</td>\n",
       "      <td>0</td>\n",
       "      <td>N</td>\n",
       "      <td>NaN</td>\n",
       "      <td>1997-06-30</td>\n",
       "      <td>$50,000.00</td>\n",
       "      <td>$0.00</td>\n",
       "      <td>0</td>\n",
       "      <td>$0.00</td>\n",
       "      <td>$50,000.00</td>\n",
       "      <td>$25,000.00</td>\n",
       "    </tr>\n",
       "    <tr>\n",
       "      <th>899157</th>\n",
       "      <td>9995493004</td>\n",
       "      <td>PULLTARPS MFG.</td>\n",
       "      <td>EL CAJON</td>\n",
       "      <td>CA</td>\n",
       "      <td>92020</td>\n",
       "      <td>U.S. BANK NATIONAL ASSOCIATION</td>\n",
       "      <td>CA</td>\n",
       "      <td>31</td>\n",
       "      <td>1997-02-27</td>\n",
       "      <td>1997</td>\n",
       "      <td>...</td>\n",
       "      <td>N</td>\n",
       "      <td>N</td>\n",
       "      <td>NaN</td>\n",
       "      <td>1997-03-31</td>\n",
       "      <td>$200,000.00</td>\n",
       "      <td>$0.00</td>\n",
       "      <td>0</td>\n",
       "      <td>$0.00</td>\n",
       "      <td>$200,000.00</td>\n",
       "      <td>$150,000.00</td>\n",
       "    </tr>\n",
       "    <tr>\n",
       "      <th>899159</th>\n",
       "      <td>9995573004</td>\n",
       "      <td>FABRIC FARMS</td>\n",
       "      <td>UPPER ARLINGTON</td>\n",
       "      <td>OH</td>\n",
       "      <td>43221</td>\n",
       "      <td>JPMORGAN CHASE BANK NATL ASSOC</td>\n",
       "      <td>IL</td>\n",
       "      <td>45</td>\n",
       "      <td>1997-02-27</td>\n",
       "      <td>1997</td>\n",
       "      <td>...</td>\n",
       "      <td>0</td>\n",
       "      <td>N</td>\n",
       "      <td>NaN</td>\n",
       "      <td>1997-09-30</td>\n",
       "      <td>$70,000.00</td>\n",
       "      <td>$0.00</td>\n",
       "      <td>0</td>\n",
       "      <td>$0.00</td>\n",
       "      <td>$70,000.00</td>\n",
       "      <td>$56,000.00</td>\n",
       "    </tr>\n",
       "    <tr>\n",
       "      <th>899160</th>\n",
       "      <td>9995603000</td>\n",
       "      <td>FABRIC FARMS</td>\n",
       "      <td>COLUMBUS</td>\n",
       "      <td>OH</td>\n",
       "      <td>43221</td>\n",
       "      <td>JPMORGAN CHASE BANK NATL ASSOC</td>\n",
       "      <td>IL</td>\n",
       "      <td>45</td>\n",
       "      <td>1997-02-27</td>\n",
       "      <td>1997</td>\n",
       "      <td>...</td>\n",
       "      <td>Y</td>\n",
       "      <td>N</td>\n",
       "      <td>NaN</td>\n",
       "      <td>1997-10-31</td>\n",
       "      <td>$85,000.00</td>\n",
       "      <td>$0.00</td>\n",
       "      <td>0</td>\n",
       "      <td>$0.00</td>\n",
       "      <td>$85,000.00</td>\n",
       "      <td>$42,500.00</td>\n",
       "    </tr>\n",
       "    <tr>\n",
       "      <th>899161</th>\n",
       "      <td>9995613003</td>\n",
       "      <td>RADCO MANUFACTURING CO.,INC.</td>\n",
       "      <td>SANTA MARIA</td>\n",
       "      <td>CA</td>\n",
       "      <td>93455</td>\n",
       "      <td>RABOBANK, NATIONAL ASSOCIATION</td>\n",
       "      <td>CA</td>\n",
       "      <td>33</td>\n",
       "      <td>1997-02-27</td>\n",
       "      <td>1997</td>\n",
       "      <td>...</td>\n",
       "      <td>N</td>\n",
       "      <td>N</td>\n",
       "      <td>NaN</td>\n",
       "      <td>1997-09-30</td>\n",
       "      <td>$300,000.00</td>\n",
       "      <td>$0.00</td>\n",
       "      <td>0</td>\n",
       "      <td>$0.00</td>\n",
       "      <td>$300,000.00</td>\n",
       "      <td>$225,000.00</td>\n",
       "    </tr>\n",
       "  </tbody>\n",
       "</table>\n",
       "<p>687973 rows × 27 columns</p>\n",
       "</div>"
      ],
      "text/plain": [
       "        LoanNr_ChkDgt                            Name             City State  \\\n",
       "0          1000014003                  ABC HOBBYCRAFT       EVANSVILLE    IN   \n",
       "1          1000024006     LANDMARK BAR & GRILLE (THE)        NEW PARIS    IN   \n",
       "2          1000034009           WHITLOCK DDS, TODD M.      BLOOMINGTON    IN   \n",
       "5          1000084002  B&T SCREW MACHINE COMPANY, INC       PLAINVILLE    CT   \n",
       "7          1000094005                 WEAVER PRODUCTS      SUMMERFIELD    FL   \n",
       "...               ...                             ...              ...   ...   \n",
       "899156     9995473009         FABRICATORS STEEL, INC.        BALTIMORE    MD   \n",
       "899157     9995493004                  PULLTARPS MFG.         EL CAJON    CA   \n",
       "899159     9995573004                    FABRIC FARMS  UPPER ARLINGTON    OH   \n",
       "899160     9995603000                    FABRIC FARMS         COLUMBUS    OH   \n",
       "899161     9995613003    RADCO MANUFACTURING CO.,INC.      SANTA MARIA    CA   \n",
       "\n",
       "          Zip                            Bank BankState  NAICS ApprovalDate  \\\n",
       "0       47711                FIFTH THIRD BANK        OH     45   1997-02-28   \n",
       "1       46526                 1ST SOURCE BANK        IN     72   1997-02-28   \n",
       "2       47401         GRANT COUNTY STATE BANK        IN     62   1997-02-28   \n",
       "5        6062   TD BANK, NATIONAL ASSOCIATION        DE     33   1997-02-28   \n",
       "7       34491                    REGIONS BANK        AL     81   1997-02-28   \n",
       "...       ...                             ...       ...    ...          ...   \n",
       "899156  21224      BANK OF AMERICA NATL ASSOC        MD     33   1997-02-27   \n",
       "899157  92020  U.S. BANK NATIONAL ASSOCIATION        CA     31   1997-02-27   \n",
       "899159  43221  JPMORGAN CHASE BANK NATL ASSOC        IL     45   1997-02-27   \n",
       "899160  43221  JPMORGAN CHASE BANK NATL ASSOC        IL     45   1997-02-27   \n",
       "899161  93455  RABOBANK, NATIONAL ASSOCIATION        CA     33   1997-02-27   \n",
       "\n",
       "       ApprovalFY  ...  RevLineCr  LowDoc  ChgOffDate  DisbursementDate  \\\n",
       "0            1997  ...          N       Y         NaN        1999-02-28   \n",
       "1            1997  ...          N       Y         NaN        1997-05-31   \n",
       "2            1997  ...          N       N         NaN        1997-12-31   \n",
       "5            1997  ...          N       N         NaN        1997-06-30   \n",
       "7            1997  ...          N       Y         NaN        1998-06-30   \n",
       "...           ...  ...        ...     ...         ...               ...   \n",
       "899156       1997  ...          0       N         NaN        1997-06-30   \n",
       "899157       1997  ...          N       N         NaN        1997-03-31   \n",
       "899159       1997  ...          0       N         NaN        1997-09-30   \n",
       "899160       1997  ...          Y       N         NaN        1997-10-31   \n",
       "899161       1997  ...          N       N         NaN        1997-09-30   \n",
       "\n",
       "        DisbursementGross  BalanceGross  MIS_Status ChgOffPrinGr  \\\n",
       "0             $60,000.00         $0.00            0       $0.00    \n",
       "1             $40,000.00         $0.00            0       $0.00    \n",
       "2            $287,000.00         $0.00            0       $0.00    \n",
       "5            $517,000.00         $0.00            0       $0.00    \n",
       "7             $45,000.00         $0.00            0       $0.00    \n",
       "...                   ...           ...         ...          ...   \n",
       "899156        $50,000.00         $0.00            0       $0.00    \n",
       "899157       $200,000.00         $0.00            0       $0.00    \n",
       "899159        $70,000.00         $0.00            0       $0.00    \n",
       "899160        $85,000.00         $0.00            0       $0.00    \n",
       "899161       $300,000.00         $0.00            0       $0.00    \n",
       "\n",
       "              GrAppv      SBA_Appv  \n",
       "0        $60,000.00    $48,000.00   \n",
       "1        $40,000.00    $32,000.00   \n",
       "2       $287,000.00   $215,250.00   \n",
       "5       $517,000.00   $387,750.00   \n",
       "7        $45,000.00    $36,000.00   \n",
       "...              ...           ...  \n",
       "899156   $50,000.00    $25,000.00   \n",
       "899157  $200,000.00   $150,000.00   \n",
       "899159   $70,000.00    $56,000.00   \n",
       "899160   $85,000.00    $42,500.00   \n",
       "899161  $300,000.00   $225,000.00   \n",
       "\n",
       "[687973 rows x 27 columns]"
      ]
     },
     "execution_count": 160,
     "metadata": {},
     "output_type": "execute_result"
    }
   ],
   "source": [
    "cleandata"
   ]
  },
  {
   "cell_type": "markdown",
   "id": "560a35b6-3195-4fa5-91a0-eb66012772df",
   "metadata": {},
   "source": [
    "## 2. Data Analysis\n",
    "\n",
    "#### There are 27 columns int he dataset, but not all of them will be used for the analysis. We need to find which columns could be uesd as the variables. As mentioned above, we will use 'MIS_Status' as the output, so we can check if other columns are related with column 'MIS_Status. We can use visulization to make the results more easier to be understood. \n",
    "\n",
    "#### Obviously, we don't need to do any analysis for columns 'LoanNr_ChkDgt', 'Name', 'City', 'State', 'Zip', 'Bank','ApprovalDate', 'Term', 'ChgOffDate', 'DisbursementDate', 'DisbursementGross', 'BalanceGross', 'MIS_Status', 'ChgOffPrinGr', 'GrAppv', 'SBA_Appv'. Thouse data could not be used in this analysis."
   ]
  },
  {
   "cell_type": "code",
   "execution_count": 161,
   "id": "5711fd0a-1335-4089-89c4-561e839eb777",
   "metadata": {},
   "outputs": [
    {
     "data": {
      "image/png": "[encoded data removed]",
      "text/plain": [
       "<Figure size 1080x576 with 1 Axes>"
      ]
     },
     "metadata": {},
     "output_type": "display_data"
    }
   ],
   "source": [
    "# check the numbers for default and non-default\n",
    "sns.countplot(x = 'MIS_Status', data = cleandata, palette = 'Set3')\n",
    "sns.set(rc={'figure.figsize':(11.7,8.27)})"
   ]
  },
  {
   "cell_type": "code",
   "execution_count": 162,
   "id": "3de1cec0-05c8-41d9-8afe-de33d9b2e2af",
   "metadata": {},
   "outputs": [
    {
     "data": {
      "image/png": "[encoded data removed]",
      "text/plain": [
       "<Figure size 842.4x595.44 with 1 Axes>"
      ]
     },
     "metadata": {},
     "output_type": "display_data"
    }
   ],
   "source": [
    "## check columns for default and non-defaults\n",
    "\n",
    "sns.countplot(x = 'BankState', data = cleandata, palette = 'Set3', hue = 'MIS_Status')\n",
    "sns.set(rc={'figure.figsize':(11.7,8.27)})"
   ]
  },
  {
   "cell_type": "code",
   "execution_count": 163,
   "id": "8529a036-9626-4137-bb6c-9e5a243476c6",
   "metadata": {},
   "outputs": [
    {
     "data": {
      "image/png": "[encoded data removed]",
      "text/plain": [
       "<Figure size 842.4x595.44 with 1 Axes>"
      ]
     },
     "metadata": {},
     "output_type": "display_data"
    }
   ],
   "source": [
    "sns.countplot(x = 'NAICS', data = cleandata, palette = 'Set3', hue = 'MIS_Status')\n",
    "sns.set(rc={'figure.figsize':(11.7,8.27)})"
   ]
  },
  {
   "cell_type": "code",
   "execution_count": 164,
   "id": "00deef30-3559-4901-ac39-a49029fcf7af",
   "metadata": {},
   "outputs": [
    {
     "data": {
      "image/png": "[encoded data removed]",
      "text/plain": [
       "<Figure size 842.4x595.44 with 1 Axes>"
      ]
     },
     "metadata": {},
     "output_type": "display_data"
    }
   ],
   "source": [
    "sns.countplot(x = 'ApprovalFY', data = cleandata, palette = 'Set3', hue = 'MIS_Status')\n",
    "sns.set(rc={'figure.figsize':(11.7,8.27)})"
   ]
  },
  {
   "cell_type": "code",
   "execution_count": 166,
   "id": "9eb251f0-eb2c-446b-93eb-4ed989620ae2",
   "metadata": {},
   "outputs": [
    {
     "data": {
      "image/png": "[encoded data removed]",
      "text/plain": [
       "<Figure size 842.4x595.44 with 1 Axes>"
      ]
     },
     "metadata": {},
     "output_type": "display_data"
    }
   ],
   "source": [
    "sns.countplot(x = 'NoEmp', data = cleandata, palette = 'Set3', hue = 'MIS_Status')\n",
    "sns.set(rc={'figure.figsize':(11.7,8.27)})"
   ]
  },
  {
   "cell_type": "code",
   "execution_count": 167,
   "id": "d8828e58-2891-4d06-92f5-e9b89d346b1e",
   "metadata": {},
   "outputs": [
    {
     "data": {
      "image/png": "[encoded data removed]",
      "text/plain": [
       "<Figure size 842.4x595.44 with 1 Axes>"
      ]
     },
     "metadata": {},
     "output_type": "display_data"
    }
   ],
   "source": [
    "sns.countplot(x = 'NewExist', data = cleandata, palette = 'Set3', hue = 'MIS_Status')\n",
    "sns.set(rc={'figure.figsize':(11.7,8.27)})"
   ]
  },
  {
   "cell_type": "code",
   "execution_count": 168,
   "id": "5c8b1509-3a9a-4b76-b1ee-42a9412f097b",
   "metadata": {},
   "outputs": [
    {
     "data": {
      "image/png": "[encoded data removed]",
      "text/plain": [
       "<Figure size 842.4x595.44 with 1 Axes>"
      ]
     },
     "metadata": {},
     "output_type": "display_data"
    }
   ],
   "source": [
    "sns.countplot(x = 'CreateJob', data = cleandata, palette = 'Set3', hue = 'MIS_Status')\n",
    "sns.set(rc={'figure.figsize':(11.7,8.27)})"
   ]
  },
  {
   "cell_type": "code",
   "execution_count": 169,
   "id": "7aa80e6a-2e91-49ad-9c0e-d111a4aac287",
   "metadata": {},
   "outputs": [
    {
     "data": {
      "image/png": "[encoded data removed]",
      "text/plain": [
       "<Figure size 842.4x595.44 with 1 Axes>"
      ]
     },
     "metadata": {},
     "output_type": "display_data"
    }
   ],
   "source": [
    "sns.countplot(x = 'RetainedJob', data = cleandata, palette = 'Set3', hue = 'MIS_Status')\n",
    "sns.set(rc={'figure.figsize':(11.7,8.27)})"
   ]
  },
  {
   "cell_type": "code",
   "execution_count": 171,
   "id": "fdf8589f-1db1-4e4a-a37d-c836f1f59838",
   "metadata": {},
   "outputs": [
    {
     "data": {
      "image/png": "[encoded data removed]",
      "text/plain": [
       "<Figure size 842.4x595.44 with 1 Axes>"
      ]
     },
     "metadata": {},
     "output_type": "display_data"
    }
   ],
   "source": [
    "sns.countplot(x = 'FranchiseCode', data = cleandata, palette = 'Set3', hue = 'MIS_Status')\n",
    "sns.set(rc={'figure.figsize':(11.7,8.27)})"
   ]
  },
  {
   "cell_type": "code",
   "execution_count": 172,
   "id": "22cc456e-480d-424b-a546-38cc70b2c02f",
   "metadata": {},
   "outputs": [
    {
     "data": {
      "image/png": "[encoded data removed]",
      "text/plain": [
       "<Figure size 842.4x595.44 with 1 Axes>"
      ]
     },
     "metadata": {},
     "output_type": "display_data"
    }
   ],
   "source": [
    "sns.countplot(x = 'UrbanRural', data = cleandata, palette = 'Set3', hue = 'MIS_Status')\n",
    "sns.set(rc={'figure.figsize':(11.7,8.27)})"
   ]
  },
  {
   "cell_type": "code",
   "execution_count": 173,
   "id": "66c258d8-6487-4d09-8019-a410d8c1d862",
   "metadata": {},
   "outputs": [
    {
     "data": {
      "image/png": "[encoded data removed]",
      "text/plain": [
       "<Figure size 842.4x595.44 with 1 Axes>"
      ]
     },
     "metadata": {},
     "output_type": "display_data"
    }
   ],
   "source": [
    "sns.countplot(x = 'RevLineCr', data = cleandata, palette = 'Set3', hue = 'MIS_Status')\n",
    "sns.set(rc={'figure.figsize':(11.7,8.27)})"
   ]
  },
  {
   "cell_type": "code",
   "execution_count": 174,
   "id": "4bed0fab-b6ed-4ca6-a8b5-880c4098ba07",
   "metadata": {},
   "outputs": [
    {
     "data": {
      "image/png": "[encoded data removed]",
      "text/plain": [
       "<Figure size 842.4x595.44 with 1 Axes>"
      ]
     },
     "metadata": {},
     "output_type": "display_data"
    }
   ],
   "source": [
    "sns.countplot(x = 'LowDoc', data = cleandata, palette = 'Set3', hue = 'MIS_Status')\n",
    "sns.set(rc={'figure.figsize':(11.7,8.27)})"
   ]
  },
  {
   "cell_type": "markdown",
   "id": "e6ee420b-412b-47c4-bb54-7dc88e8d31e2",
   "metadata": {},
   "source": [
    "#### By all plots above, we can find that columns, 'NoEmp', 'CreateJob', 'RetainedJob', 'FranchiseCode', are not related with 'MIS_Status', so we don't need to use those data as variables. At the same time, we can find that in columns, 'NewExist','RevLineCr', 'LowDoc', not all attributes are working with 'MIS_Status', so we can use those attributes which have connections with 'MIS_Status' for the analysis."
   ]
  },
  {
   "cell_type": "markdown",
   "id": "5652206e-ae39-4856-943f-581a8f1fbbcb",
   "metadata": {},
   "source": [
    "#### In logistic regression analysis, it can only analyze numbers, so we need to covert all categorical data to numbers. Here we will convert all columns which have connections with 'MIS_Status' checked above one by one. As mentioned above, for some varaibles, we don't need all their attributes. That's why we do the convertion one by one."
   ]
  },
  {
   "cell_type": "code",
   "execution_count": 184,
   "id": "ca4ed744-d4eb-482d-850a-2f402d1dc750",
   "metadata": {},
   "outputs": [
    {
     "data": {
      "text/html": [
       "<div>\n",
       "<style scoped>\n",
       "    .dataframe tbody tr th:only-of-type {\n",
       "        vertical-align: middle;\n",
       "    }\n",
       "\n",
       "    .dataframe tbody tr th {\n",
       "        vertical-align: top;\n",
       "    }\n",
       "\n",
       "    .dataframe thead th {\n",
       "        text-align: right;\n",
       "    }\n",
       "</style>\n",
       "<table border=\"1\" class=\"dataframe\">\n",
       "  <thead>\n",
       "    <tr style=\"text-align: right;\">\n",
       "      <th></th>\n",
       "      <th>BankState_AK</th>\n",
       "      <th>BankState_AL</th>\n",
       "      <th>BankState_AN</th>\n",
       "      <th>BankState_AR</th>\n",
       "      <th>BankState_AZ</th>\n",
       "      <th>BankState_CA</th>\n",
       "      <th>BankState_CO</th>\n",
       "      <th>BankState_CT</th>\n",
       "      <th>BankState_DC</th>\n",
       "      <th>BankState_DE</th>\n",
       "      <th>...</th>\n",
       "      <th>BankState_TN</th>\n",
       "      <th>BankState_TX</th>\n",
       "      <th>BankState_UT</th>\n",
       "      <th>BankState_VA</th>\n",
       "      <th>BankState_VI</th>\n",
       "      <th>BankState_VT</th>\n",
       "      <th>BankState_WA</th>\n",
       "      <th>BankState_WI</th>\n",
       "      <th>BankState_WV</th>\n",
       "      <th>BankState_WY</th>\n",
       "    </tr>\n",
       "  </thead>\n",
       "  <tbody>\n",
       "    <tr>\n",
       "      <th>0</th>\n",
       "      <td>0</td>\n",
       "      <td>0</td>\n",
       "      <td>0</td>\n",
       "      <td>0</td>\n",
       "      <td>0</td>\n",
       "      <td>0</td>\n",
       "      <td>0</td>\n",
       "      <td>0</td>\n",
       "      <td>0</td>\n",
       "      <td>0</td>\n",
       "      <td>...</td>\n",
       "      <td>0</td>\n",
       "      <td>0</td>\n",
       "      <td>0</td>\n",
       "      <td>0</td>\n",
       "      <td>0</td>\n",
       "      <td>0</td>\n",
       "      <td>0</td>\n",
       "      <td>0</td>\n",
       "      <td>0</td>\n",
       "      <td>0</td>\n",
       "    </tr>\n",
       "    <tr>\n",
       "      <th>1</th>\n",
       "      <td>0</td>\n",
       "      <td>0</td>\n",
       "      <td>0</td>\n",
       "      <td>0</td>\n",
       "      <td>0</td>\n",
       "      <td>0</td>\n",
       "      <td>0</td>\n",
       "      <td>0</td>\n",
       "      <td>0</td>\n",
       "      <td>0</td>\n",
       "      <td>...</td>\n",
       "      <td>0</td>\n",
       "      <td>0</td>\n",
       "      <td>0</td>\n",
       "      <td>0</td>\n",
       "      <td>0</td>\n",
       "      <td>0</td>\n",
       "      <td>0</td>\n",
       "      <td>0</td>\n",
       "      <td>0</td>\n",
       "      <td>0</td>\n",
       "    </tr>\n",
       "    <tr>\n",
       "      <th>2</th>\n",
       "      <td>0</td>\n",
       "      <td>0</td>\n",
       "      <td>0</td>\n",
       "      <td>0</td>\n",
       "      <td>0</td>\n",
       "      <td>0</td>\n",
       "      <td>0</td>\n",
       "      <td>0</td>\n",
       "      <td>0</td>\n",
       "      <td>0</td>\n",
       "      <td>...</td>\n",
       "      <td>0</td>\n",
       "      <td>0</td>\n",
       "      <td>0</td>\n",
       "      <td>0</td>\n",
       "      <td>0</td>\n",
       "      <td>0</td>\n",
       "      <td>0</td>\n",
       "      <td>0</td>\n",
       "      <td>0</td>\n",
       "      <td>0</td>\n",
       "    </tr>\n",
       "    <tr>\n",
       "      <th>5</th>\n",
       "      <td>0</td>\n",
       "      <td>0</td>\n",
       "      <td>0</td>\n",
       "      <td>0</td>\n",
       "      <td>0</td>\n",
       "      <td>0</td>\n",
       "      <td>0</td>\n",
       "      <td>0</td>\n",
       "      <td>0</td>\n",
       "      <td>1</td>\n",
       "      <td>...</td>\n",
       "      <td>0</td>\n",
       "      <td>0</td>\n",
       "      <td>0</td>\n",
       "      <td>0</td>\n",
       "      <td>0</td>\n",
       "      <td>0</td>\n",
       "      <td>0</td>\n",
       "      <td>0</td>\n",
       "      <td>0</td>\n",
       "      <td>0</td>\n",
       "    </tr>\n",
       "    <tr>\n",
       "      <th>7</th>\n",
       "      <td>0</td>\n",
       "      <td>1</td>\n",
       "      <td>0</td>\n",
       "      <td>0</td>\n",
       "      <td>0</td>\n",
       "      <td>0</td>\n",
       "      <td>0</td>\n",
       "      <td>0</td>\n",
       "      <td>0</td>\n",
       "      <td>0</td>\n",
       "      <td>...</td>\n",
       "      <td>0</td>\n",
       "      <td>0</td>\n",
       "      <td>0</td>\n",
       "      <td>0</td>\n",
       "      <td>0</td>\n",
       "      <td>0</td>\n",
       "      <td>0</td>\n",
       "      <td>0</td>\n",
       "      <td>0</td>\n",
       "      <td>0</td>\n",
       "    </tr>\n",
       "    <tr>\n",
       "      <th>...</th>\n",
       "      <td>...</td>\n",
       "      <td>...</td>\n",
       "      <td>...</td>\n",
       "      <td>...</td>\n",
       "      <td>...</td>\n",
       "      <td>...</td>\n",
       "      <td>...</td>\n",
       "      <td>...</td>\n",
       "      <td>...</td>\n",
       "      <td>...</td>\n",
       "      <td>...</td>\n",
       "      <td>...</td>\n",
       "      <td>...</td>\n",
       "      <td>...</td>\n",
       "      <td>...</td>\n",
       "      <td>...</td>\n",
       "      <td>...</td>\n",
       "      <td>...</td>\n",
       "      <td>...</td>\n",
       "      <td>...</td>\n",
       "      <td>...</td>\n",
       "    </tr>\n",
       "    <tr>\n",
       "      <th>899156</th>\n",
       "      <td>0</td>\n",
       "      <td>0</td>\n",
       "      <td>0</td>\n",
       "      <td>0</td>\n",
       "      <td>0</td>\n",
       "      <td>0</td>\n",
       "      <td>0</td>\n",
       "      <td>0</td>\n",
       "      <td>0</td>\n",
       "      <td>0</td>\n",
       "      <td>...</td>\n",
       "      <td>0</td>\n",
       "      <td>0</td>\n",
       "      <td>0</td>\n",
       "      <td>0</td>\n",
       "      <td>0</td>\n",
       "      <td>0</td>\n",
       "      <td>0</td>\n",
       "      <td>0</td>\n",
       "      <td>0</td>\n",
       "      <td>0</td>\n",
       "    </tr>\n",
       "    <tr>\n",
       "      <th>899157</th>\n",
       "      <td>0</td>\n",
       "      <td>0</td>\n",
       "      <td>0</td>\n",
       "      <td>0</td>\n",
       "      <td>0</td>\n",
       "      <td>1</td>\n",
       "      <td>0</td>\n",
       "      <td>0</td>\n",
       "      <td>0</td>\n",
       "      <td>0</td>\n",
       "      <td>...</td>\n",
       "      <td>0</td>\n",
       "      <td>0</td>\n",
       "      <td>0</td>\n",
       "      <td>0</td>\n",
       "      <td>0</td>\n",
       "      <td>0</td>\n",
       "      <td>0</td>\n",
       "      <td>0</td>\n",
       "      <td>0</td>\n",
       "      <td>0</td>\n",
       "    </tr>\n",
       "    <tr>\n",
       "      <th>899159</th>\n",
       "      <td>0</td>\n",
       "      <td>0</td>\n",
       "      <td>0</td>\n",
       "      <td>0</td>\n",
       "      <td>0</td>\n",
       "      <td>0</td>\n",
       "      <td>0</td>\n",
       "      <td>0</td>\n",
       "      <td>0</td>\n",
       "      <td>0</td>\n",
       "      <td>...</td>\n",
       "      <td>0</td>\n",
       "      <td>0</td>\n",
       "      <td>0</td>\n",
       "      <td>0</td>\n",
       "      <td>0</td>\n",
       "      <td>0</td>\n",
       "      <td>0</td>\n",
       "      <td>0</td>\n",
       "      <td>0</td>\n",
       "      <td>0</td>\n",
       "    </tr>\n",
       "    <tr>\n",
       "      <th>899160</th>\n",
       "      <td>0</td>\n",
       "      <td>0</td>\n",
       "      <td>0</td>\n",
       "      <td>0</td>\n",
       "      <td>0</td>\n",
       "      <td>0</td>\n",
       "      <td>0</td>\n",
       "      <td>0</td>\n",
       "      <td>0</td>\n",
       "      <td>0</td>\n",
       "      <td>...</td>\n",
       "      <td>0</td>\n",
       "      <td>0</td>\n",
       "      <td>0</td>\n",
       "      <td>0</td>\n",
       "      <td>0</td>\n",
       "      <td>0</td>\n",
       "      <td>0</td>\n",
       "      <td>0</td>\n",
       "      <td>0</td>\n",
       "      <td>0</td>\n",
       "    </tr>\n",
       "    <tr>\n",
       "      <th>899161</th>\n",
       "      <td>0</td>\n",
       "      <td>0</td>\n",
       "      <td>0</td>\n",
       "      <td>0</td>\n",
       "      <td>0</td>\n",
       "      <td>1</td>\n",
       "      <td>0</td>\n",
       "      <td>0</td>\n",
       "      <td>0</td>\n",
       "      <td>0</td>\n",
       "      <td>...</td>\n",
       "      <td>0</td>\n",
       "      <td>0</td>\n",
       "      <td>0</td>\n",
       "      <td>0</td>\n",
       "      <td>0</td>\n",
       "      <td>0</td>\n",
       "      <td>0</td>\n",
       "      <td>0</td>\n",
       "      <td>0</td>\n",
       "      <td>0</td>\n",
       "    </tr>\n",
       "  </tbody>\n",
       "</table>\n",
       "<p>687973 rows × 55 columns</p>\n",
       "</div>"
      ],
      "text/plain": [
       "        BankState_AK  BankState_AL  BankState_AN  BankState_AR  BankState_AZ  \\\n",
       "0                  0             0             0             0             0   \n",
       "1                  0             0             0             0             0   \n",
       "2                  0             0             0             0             0   \n",
       "5                  0             0             0             0             0   \n",
       "7                  0             1             0             0             0   \n",
       "...              ...           ...           ...           ...           ...   \n",
       "899156             0             0             0             0             0   \n",
       "899157             0             0             0             0             0   \n",
       "899159             0             0             0             0             0   \n",
       "899160             0             0             0             0             0   \n",
       "899161             0             0             0             0             0   \n",
       "\n",
       "        BankState_CA  BankState_CO  BankState_CT  BankState_DC  BankState_DE  \\\n",
       "0                  0             0             0             0             0   \n",
       "1                  0             0             0             0             0   \n",
       "2                  0             0             0             0             0   \n",
       "5                  0             0             0             0             1   \n",
       "7                  0             0             0             0             0   \n",
       "...              ...           ...           ...           ...           ...   \n",
       "899156             0             0             0             0             0   \n",
       "899157             1             0             0             0             0   \n",
       "899159             0             0             0             0             0   \n",
       "899160             0             0             0             0             0   \n",
       "899161             1             0             0             0             0   \n",
       "\n",
       "        ...  BankState_TN  BankState_TX  BankState_UT  BankState_VA  \\\n",
       "0       ...             0             0             0             0   \n",
       "1       ...             0             0             0             0   \n",
       "2       ...             0             0             0             0   \n",
       "5       ...             0             0             0             0   \n",
       "7       ...             0             0             0             0   \n",
       "...     ...           ...           ...           ...           ...   \n",
       "899156  ...             0             0             0             0   \n",
       "899157  ...             0             0             0             0   \n",
       "899159  ...             0             0             0             0   \n",
       "899160  ...             0             0             0             0   \n",
       "899161  ...             0             0             0             0   \n",
       "\n",
       "        BankState_VI  BankState_VT  BankState_WA  BankState_WI  BankState_WV  \\\n",
       "0                  0             0             0             0             0   \n",
       "1                  0             0             0             0             0   \n",
       "2                  0             0             0             0             0   \n",
       "5                  0             0             0             0             0   \n",
       "7                  0             0             0             0             0   \n",
       "...              ...           ...           ...           ...           ...   \n",
       "899156             0             0             0             0             0   \n",
       "899157             0             0             0             0             0   \n",
       "899159             0             0             0             0             0   \n",
       "899160             0             0             0             0             0   \n",
       "899161             0             0             0             0             0   \n",
       "\n",
       "        BankState_WY  \n",
       "0                  0  \n",
       "1                  0  \n",
       "2                  0  \n",
       "5                  0  \n",
       "7                  0  \n",
       "...              ...  \n",
       "899156             0  \n",
       "899157             0  \n",
       "899159             0  \n",
       "899160             0  \n",
       "899161             0  \n",
       "\n",
       "[687973 rows x 55 columns]"
      ]
     },
     "execution_count": 184,
     "metadata": {},
     "output_type": "execute_result"
    }
   ],
   "source": [
    "### Making categorical variables into numberic representation\n",
    "\n",
    "bankstate=pd.get_dummies(cleandata['BankState'])\n",
    "bankstate = bankstate.add_prefix('BankState_')\n",
    "bankstate"
   ]
  },
  {
   "cell_type": "code",
   "execution_count": 183,
   "id": "5c941fda-be98-4124-bf10-b5578347ea6f",
   "metadata": {},
   "outputs": [
    {
     "data": {
      "text/html": [
       "<div>\n",
       "<style scoped>\n",
       "    .dataframe tbody tr th:only-of-type {\n",
       "        vertical-align: middle;\n",
       "    }\n",
       "\n",
       "    .dataframe tbody tr th {\n",
       "        vertical-align: top;\n",
       "    }\n",
       "\n",
       "    .dataframe thead th {\n",
       "        text-align: right;\n",
       "    }\n",
       "</style>\n",
       "<table border=\"1\" class=\"dataframe\">\n",
       "  <thead>\n",
       "    <tr style=\"text-align: right;\">\n",
       "      <th></th>\n",
       "      <th>LowDoc_N</th>\n",
       "      <th>LowDoc_Y</th>\n",
       "    </tr>\n",
       "  </thead>\n",
       "  <tbody>\n",
       "    <tr>\n",
       "      <th>0</th>\n",
       "      <td>0</td>\n",
       "      <td>1</td>\n",
       "    </tr>\n",
       "    <tr>\n",
       "      <th>1</th>\n",
       "      <td>0</td>\n",
       "      <td>1</td>\n",
       "    </tr>\n",
       "    <tr>\n",
       "      <th>2</th>\n",
       "      <td>1</td>\n",
       "      <td>0</td>\n",
       "    </tr>\n",
       "    <tr>\n",
       "      <th>5</th>\n",
       "      <td>1</td>\n",
       "      <td>0</td>\n",
       "    </tr>\n",
       "    <tr>\n",
       "      <th>7</th>\n",
       "      <td>0</td>\n",
       "      <td>1</td>\n",
       "    </tr>\n",
       "    <tr>\n",
       "      <th>...</th>\n",
       "      <td>...</td>\n",
       "      <td>...</td>\n",
       "    </tr>\n",
       "    <tr>\n",
       "      <th>899156</th>\n",
       "      <td>1</td>\n",
       "      <td>0</td>\n",
       "    </tr>\n",
       "    <tr>\n",
       "      <th>899157</th>\n",
       "      <td>1</td>\n",
       "      <td>0</td>\n",
       "    </tr>\n",
       "    <tr>\n",
       "      <th>899159</th>\n",
       "      <td>1</td>\n",
       "      <td>0</td>\n",
       "    </tr>\n",
       "    <tr>\n",
       "      <th>899160</th>\n",
       "      <td>1</td>\n",
       "      <td>0</td>\n",
       "    </tr>\n",
       "    <tr>\n",
       "      <th>899161</th>\n",
       "      <td>1</td>\n",
       "      <td>0</td>\n",
       "    </tr>\n",
       "  </tbody>\n",
       "</table>\n",
       "<p>687973 rows × 2 columns</p>\n",
       "</div>"
      ],
      "text/plain": [
       "        LowDoc_N  LowDoc_Y\n",
       "0              0         1\n",
       "1              0         1\n",
       "2              1         0\n",
       "5              1         0\n",
       "7              0         1\n",
       "...          ...       ...\n",
       "899156         1         0\n",
       "899157         1         0\n",
       "899159         1         0\n",
       "899160         1         0\n",
       "899161         1         0\n",
       "\n",
       "[687973 rows x 2 columns]"
      ]
     },
     "execution_count": 183,
     "metadata": {},
     "output_type": "execute_result"
    }
   ],
   "source": [
    "lowdoc=pd.get_dummies(cleandata['LowDoc'])\n",
    "lowdoc=lowdoc[['N','Y']]\n",
    "lowdoc.columns = ['LowDoc_N','LowDoc_Y']\n",
    "lowdoc"
   ]
  },
  {
   "cell_type": "code",
   "execution_count": 185,
   "id": "fec9b3dc-ea23-4e72-9e2a-866970a73c6c",
   "metadata": {},
   "outputs": [
    {
     "data": {
      "text/html": [
       "<div>\n",
       "<style scoped>\n",
       "    .dataframe tbody tr th:only-of-type {\n",
       "        vertical-align: middle;\n",
       "    }\n",
       "\n",
       "    .dataframe tbody tr th {\n",
       "        vertical-align: top;\n",
       "    }\n",
       "\n",
       "    .dataframe thead th {\n",
       "        text-align: right;\n",
       "    }\n",
       "</style>\n",
       "<table border=\"1\" class=\"dataframe\">\n",
       "  <thead>\n",
       "    <tr style=\"text-align: right;\">\n",
       "      <th></th>\n",
       "      <th>RevLineCr_0</th>\n",
       "      <th>RevLineCr_N</th>\n",
       "      <th>RevLineCr_0RevLineCr_Y</th>\n",
       "      <th>RevLineCr_T</th>\n",
       "    </tr>\n",
       "  </thead>\n",
       "  <tbody>\n",
       "    <tr>\n",
       "      <th>0</th>\n",
       "      <td>0</td>\n",
       "      <td>1</td>\n",
       "      <td>0</td>\n",
       "      <td>0</td>\n",
       "    </tr>\n",
       "    <tr>\n",
       "      <th>1</th>\n",
       "      <td>0</td>\n",
       "      <td>1</td>\n",
       "      <td>0</td>\n",
       "      <td>0</td>\n",
       "    </tr>\n",
       "    <tr>\n",
       "      <th>2</th>\n",
       "      <td>0</td>\n",
       "      <td>1</td>\n",
       "      <td>0</td>\n",
       "      <td>0</td>\n",
       "    </tr>\n",
       "    <tr>\n",
       "      <th>5</th>\n",
       "      <td>0</td>\n",
       "      <td>1</td>\n",
       "      <td>0</td>\n",
       "      <td>0</td>\n",
       "    </tr>\n",
       "    <tr>\n",
       "      <th>7</th>\n",
       "      <td>0</td>\n",
       "      <td>1</td>\n",
       "      <td>0</td>\n",
       "      <td>0</td>\n",
       "    </tr>\n",
       "    <tr>\n",
       "      <th>...</th>\n",
       "      <td>...</td>\n",
       "      <td>...</td>\n",
       "      <td>...</td>\n",
       "      <td>...</td>\n",
       "    </tr>\n",
       "    <tr>\n",
       "      <th>899156</th>\n",
       "      <td>1</td>\n",
       "      <td>0</td>\n",
       "      <td>0</td>\n",
       "      <td>0</td>\n",
       "    </tr>\n",
       "    <tr>\n",
       "      <th>899157</th>\n",
       "      <td>0</td>\n",
       "      <td>1</td>\n",
       "      <td>0</td>\n",
       "      <td>0</td>\n",
       "    </tr>\n",
       "    <tr>\n",
       "      <th>899159</th>\n",
       "      <td>1</td>\n",
       "      <td>0</td>\n",
       "      <td>0</td>\n",
       "      <td>0</td>\n",
       "    </tr>\n",
       "    <tr>\n",
       "      <th>899160</th>\n",
       "      <td>0</td>\n",
       "      <td>0</td>\n",
       "      <td>1</td>\n",
       "      <td>0</td>\n",
       "    </tr>\n",
       "    <tr>\n",
       "      <th>899161</th>\n",
       "      <td>0</td>\n",
       "      <td>1</td>\n",
       "      <td>0</td>\n",
       "      <td>0</td>\n",
       "    </tr>\n",
       "  </tbody>\n",
       "</table>\n",
       "<p>687973 rows × 4 columns</p>\n",
       "</div>"
      ],
      "text/plain": [
       "        RevLineCr_0  RevLineCr_N  RevLineCr_0RevLineCr_Y  RevLineCr_T\n",
       "0                 0            1                       0            0\n",
       "1                 0            1                       0            0\n",
       "2                 0            1                       0            0\n",
       "5                 0            1                       0            0\n",
       "7                 0            1                       0            0\n",
       "...             ...          ...                     ...          ...\n",
       "899156            1            0                       0            0\n",
       "899157            0            1                       0            0\n",
       "899159            1            0                       0            0\n",
       "899160            0            0                       1            0\n",
       "899161            0            1                       0            0\n",
       "\n",
       "[687973 rows x 4 columns]"
      ]
     },
     "execution_count": 185,
     "metadata": {},
     "output_type": "execute_result"
    }
   ],
   "source": [
    "revlinecr=pd.get_dummies(cleandata['RevLineCr'])\n",
    "revlinecr=revlinecr[['0','N','Y','T']]\n",
    "revlinecr.columns =['RevLineCr_0','RevLineCr_N','RevLineCr_0RevLineCr_Y','RevLineCr_T']\n",
    "revlinecr"
   ]
  },
  {
   "cell_type": "code",
   "execution_count": 186,
   "id": "1f72ac77-d821-40c1-b1c2-ff6e52de4496",
   "metadata": {},
   "outputs": [
    {
     "data": {
      "text/html": [
       "<div>\n",
       "<style scoped>\n",
       "    .dataframe tbody tr th:only-of-type {\n",
       "        vertical-align: middle;\n",
       "    }\n",
       "\n",
       "    .dataframe tbody tr th {\n",
       "        vertical-align: top;\n",
       "    }\n",
       "\n",
       "    .dataframe thead th {\n",
       "        text-align: right;\n",
       "    }\n",
       "</style>\n",
       "<table border=\"1\" class=\"dataframe\">\n",
       "  <thead>\n",
       "    <tr style=\"text-align: right;\">\n",
       "      <th></th>\n",
       "      <th>NAICS_11</th>\n",
       "      <th>NAICS_21</th>\n",
       "      <th>NAICS_22</th>\n",
       "      <th>NAICS_23</th>\n",
       "      <th>NAICS_31</th>\n",
       "      <th>NAICS_32</th>\n",
       "      <th>NAICS_33</th>\n",
       "      <th>NAICS_42</th>\n",
       "      <th>NAICS_44</th>\n",
       "      <th>NAICS_45</th>\n",
       "      <th>...</th>\n",
       "      <th>NAICS_53</th>\n",
       "      <th>NAICS_54</th>\n",
       "      <th>NAICS_55</th>\n",
       "      <th>NAICS_56</th>\n",
       "      <th>NAICS_61</th>\n",
       "      <th>NAICS_62</th>\n",
       "      <th>NAICS_71</th>\n",
       "      <th>NAICS_72</th>\n",
       "      <th>NAICS_81</th>\n",
       "      <th>NAICS_92</th>\n",
       "    </tr>\n",
       "  </thead>\n",
       "  <tbody>\n",
       "    <tr>\n",
       "      <th>0</th>\n",
       "      <td>0</td>\n",
       "      <td>0</td>\n",
       "      <td>0</td>\n",
       "      <td>0</td>\n",
       "      <td>0</td>\n",
       "      <td>0</td>\n",
       "      <td>0</td>\n",
       "      <td>0</td>\n",
       "      <td>0</td>\n",
       "      <td>1</td>\n",
       "      <td>...</td>\n",
       "      <td>0</td>\n",
       "      <td>0</td>\n",
       "      <td>0</td>\n",
       "      <td>0</td>\n",
       "      <td>0</td>\n",
       "      <td>0</td>\n",
       "      <td>0</td>\n",
       "      <td>0</td>\n",
       "      <td>0</td>\n",
       "      <td>0</td>\n",
       "    </tr>\n",
       "    <tr>\n",
       "      <th>1</th>\n",
       "      <td>0</td>\n",
       "      <td>0</td>\n",
       "      <td>0</td>\n",
       "      <td>0</td>\n",
       "      <td>0</td>\n",
       "      <td>0</td>\n",
       "      <td>0</td>\n",
       "      <td>0</td>\n",
       "      <td>0</td>\n",
       "      <td>0</td>\n",
       "      <td>...</td>\n",
       "      <td>0</td>\n",
       "      <td>0</td>\n",
       "      <td>0</td>\n",
       "      <td>0</td>\n",
       "      <td>0</td>\n",
       "      <td>0</td>\n",
       "      <td>0</td>\n",
       "      <td>1</td>\n",
       "      <td>0</td>\n",
       "      <td>0</td>\n",
       "    </tr>\n",
       "    <tr>\n",
       "      <th>2</th>\n",
       "      <td>0</td>\n",
       "      <td>0</td>\n",
       "      <td>0</td>\n",
       "      <td>0</td>\n",
       "      <td>0</td>\n",
       "      <td>0</td>\n",
       "      <td>0</td>\n",
       "      <td>0</td>\n",
       "      <td>0</td>\n",
       "      <td>0</td>\n",
       "      <td>...</td>\n",
       "      <td>0</td>\n",
       "      <td>0</td>\n",
       "      <td>0</td>\n",
       "      <td>0</td>\n",
       "      <td>0</td>\n",
       "      <td>1</td>\n",
       "      <td>0</td>\n",
       "      <td>0</td>\n",
       "      <td>0</td>\n",
       "      <td>0</td>\n",
       "    </tr>\n",
       "    <tr>\n",
       "      <th>5</th>\n",
       "      <td>0</td>\n",
       "      <td>0</td>\n",
       "      <td>0</td>\n",
       "      <td>0</td>\n",
       "      <td>0</td>\n",
       "      <td>0</td>\n",
       "      <td>1</td>\n",
       "      <td>0</td>\n",
       "      <td>0</td>\n",
       "      <td>0</td>\n",
       "      <td>...</td>\n",
       "      <td>0</td>\n",
       "      <td>0</td>\n",
       "      <td>0</td>\n",
       "      <td>0</td>\n",
       "      <td>0</td>\n",
       "      <td>0</td>\n",
       "      <td>0</td>\n",
       "      <td>0</td>\n",
       "      <td>0</td>\n",
       "      <td>0</td>\n",
       "    </tr>\n",
       "    <tr>\n",
       "      <th>7</th>\n",
       "      <td>0</td>\n",
       "      <td>0</td>\n",
       "      <td>0</td>\n",
       "      <td>0</td>\n",
       "      <td>0</td>\n",
       "      <td>0</td>\n",
       "      <td>0</td>\n",
       "      <td>0</td>\n",
       "      <td>0</td>\n",
       "      <td>0</td>\n",
       "      <td>...</td>\n",
       "      <td>0</td>\n",
       "      <td>0</td>\n",
       "      <td>0</td>\n",
       "      <td>0</td>\n",
       "      <td>0</td>\n",
       "      <td>0</td>\n",
       "      <td>0</td>\n",
       "      <td>0</td>\n",
       "      <td>1</td>\n",
       "      <td>0</td>\n",
       "    </tr>\n",
       "    <tr>\n",
       "      <th>...</th>\n",
       "      <td>...</td>\n",
       "      <td>...</td>\n",
       "      <td>...</td>\n",
       "      <td>...</td>\n",
       "      <td>...</td>\n",
       "      <td>...</td>\n",
       "      <td>...</td>\n",
       "      <td>...</td>\n",
       "      <td>...</td>\n",
       "      <td>...</td>\n",
       "      <td>...</td>\n",
       "      <td>...</td>\n",
       "      <td>...</td>\n",
       "      <td>...</td>\n",
       "      <td>...</td>\n",
       "      <td>...</td>\n",
       "      <td>...</td>\n",
       "      <td>...</td>\n",
       "      <td>...</td>\n",
       "      <td>...</td>\n",
       "      <td>...</td>\n",
       "    </tr>\n",
       "    <tr>\n",
       "      <th>899156</th>\n",
       "      <td>0</td>\n",
       "      <td>0</td>\n",
       "      <td>0</td>\n",
       "      <td>0</td>\n",
       "      <td>0</td>\n",
       "      <td>0</td>\n",
       "      <td>1</td>\n",
       "      <td>0</td>\n",
       "      <td>0</td>\n",
       "      <td>0</td>\n",
       "      <td>...</td>\n",
       "      <td>0</td>\n",
       "      <td>0</td>\n",
       "      <td>0</td>\n",
       "      <td>0</td>\n",
       "      <td>0</td>\n",
       "      <td>0</td>\n",
       "      <td>0</td>\n",
       "      <td>0</td>\n",
       "      <td>0</td>\n",
       "      <td>0</td>\n",
       "    </tr>\n",
       "    <tr>\n",
       "      <th>899157</th>\n",
       "      <td>0</td>\n",
       "      <td>0</td>\n",
       "      <td>0</td>\n",
       "      <td>0</td>\n",
       "      <td>1</td>\n",
       "      <td>0</td>\n",
       "      <td>0</td>\n",
       "      <td>0</td>\n",
       "      <td>0</td>\n",
       "      <td>0</td>\n",
       "      <td>...</td>\n",
       "      <td>0</td>\n",
       "      <td>0</td>\n",
       "      <td>0</td>\n",
       "      <td>0</td>\n",
       "      <td>0</td>\n",
       "      <td>0</td>\n",
       "      <td>0</td>\n",
       "      <td>0</td>\n",
       "      <td>0</td>\n",
       "      <td>0</td>\n",
       "    </tr>\n",
       "    <tr>\n",
       "      <th>899159</th>\n",
       "      <td>0</td>\n",
       "      <td>0</td>\n",
       "      <td>0</td>\n",
       "      <td>0</td>\n",
       "      <td>0</td>\n",
       "      <td>0</td>\n",
       "      <td>0</td>\n",
       "      <td>0</td>\n",
       "      <td>0</td>\n",
       "      <td>1</td>\n",
       "      <td>...</td>\n",
       "      <td>0</td>\n",
       "      <td>0</td>\n",
       "      <td>0</td>\n",
       "      <td>0</td>\n",
       "      <td>0</td>\n",
       "      <td>0</td>\n",
       "      <td>0</td>\n",
       "      <td>0</td>\n",
       "      <td>0</td>\n",
       "      <td>0</td>\n",
       "    </tr>\n",
       "    <tr>\n",
       "      <th>899160</th>\n",
       "      <td>0</td>\n",
       "      <td>0</td>\n",
       "      <td>0</td>\n",
       "      <td>0</td>\n",
       "      <td>0</td>\n",
       "      <td>0</td>\n",
       "      <td>0</td>\n",
       "      <td>0</td>\n",
       "      <td>0</td>\n",
       "      <td>1</td>\n",
       "      <td>...</td>\n",
       "      <td>0</td>\n",
       "      <td>0</td>\n",
       "      <td>0</td>\n",
       "      <td>0</td>\n",
       "      <td>0</td>\n",
       "      <td>0</td>\n",
       "      <td>0</td>\n",
       "      <td>0</td>\n",
       "      <td>0</td>\n",
       "      <td>0</td>\n",
       "    </tr>\n",
       "    <tr>\n",
       "      <th>899161</th>\n",
       "      <td>0</td>\n",
       "      <td>0</td>\n",
       "      <td>0</td>\n",
       "      <td>0</td>\n",
       "      <td>0</td>\n",
       "      <td>0</td>\n",
       "      <td>1</td>\n",
       "      <td>0</td>\n",
       "      <td>0</td>\n",
       "      <td>0</td>\n",
       "      <td>...</td>\n",
       "      <td>0</td>\n",
       "      <td>0</td>\n",
       "      <td>0</td>\n",
       "      <td>0</td>\n",
       "      <td>0</td>\n",
       "      <td>0</td>\n",
       "      <td>0</td>\n",
       "      <td>0</td>\n",
       "      <td>0</td>\n",
       "      <td>0</td>\n",
       "    </tr>\n",
       "  </tbody>\n",
       "</table>\n",
       "<p>687973 rows × 24 columns</p>\n",
       "</div>"
      ],
      "text/plain": [
       "        NAICS_11  NAICS_21  NAICS_22  NAICS_23  NAICS_31  NAICS_32  NAICS_33  \\\n",
       "0              0         0         0         0         0         0         0   \n",
       "1              0         0         0         0         0         0         0   \n",
       "2              0         0         0         0         0         0         0   \n",
       "5              0         0         0         0         0         0         1   \n",
       "7              0         0         0         0         0         0         0   \n",
       "...          ...       ...       ...       ...       ...       ...       ...   \n",
       "899156         0         0         0         0         0         0         1   \n",
       "899157         0         0         0         0         1         0         0   \n",
       "899159         0         0         0         0         0         0         0   \n",
       "899160         0         0         0         0         0         0         0   \n",
       "899161         0         0         0         0         0         0         1   \n",
       "\n",
       "        NAICS_42  NAICS_44  NAICS_45  ...  NAICS_53  NAICS_54  NAICS_55  \\\n",
       "0              0         0         1  ...         0         0         0   \n",
       "1              0         0         0  ...         0         0         0   \n",
       "2              0         0         0  ...         0         0         0   \n",
       "5              0         0         0  ...         0         0         0   \n",
       "7              0         0         0  ...         0         0         0   \n",
       "...          ...       ...       ...  ...       ...       ...       ...   \n",
       "899156         0         0         0  ...         0         0         0   \n",
       "899157         0         0         0  ...         0         0         0   \n",
       "899159         0         0         1  ...         0         0         0   \n",
       "899160         0         0         1  ...         0         0         0   \n",
       "899161         0         0         0  ...         0         0         0   \n",
       "\n",
       "        NAICS_56  NAICS_61  NAICS_62  NAICS_71  NAICS_72  NAICS_81  NAICS_92  \n",
       "0              0         0         0         0         0         0         0  \n",
       "1              0         0         0         0         1         0         0  \n",
       "2              0         0         1         0         0         0         0  \n",
       "5              0         0         0         0         0         0         0  \n",
       "7              0         0         0         0         0         1         0  \n",
       "...          ...       ...       ...       ...       ...       ...       ...  \n",
       "899156         0         0         0         0         0         0         0  \n",
       "899157         0         0         0         0         0         0         0  \n",
       "899159         0         0         0         0         0         0         0  \n",
       "899160         0         0         0         0         0         0         0  \n",
       "899161         0         0         0         0         0         0         0  \n",
       "\n",
       "[687973 rows x 24 columns]"
      ]
     },
     "execution_count": 186,
     "metadata": {},
     "output_type": "execute_result"
    }
   ],
   "source": [
    "naics=pd.get_dummies(cleandata['NAICS'])\n",
    "naics = naics.add_prefix('NAICS_')\n",
    "naics"
   ]
  },
  {
   "cell_type": "code",
   "execution_count": 187,
   "id": "3f950016-accd-4f44-876b-add0fffc6c19",
   "metadata": {},
   "outputs": [
    {
     "data": {
      "text/html": [
       "<div>\n",
       "<style scoped>\n",
       "    .dataframe tbody tr th:only-of-type {\n",
       "        vertical-align: middle;\n",
       "    }\n",
       "\n",
       "    .dataframe tbody tr th {\n",
       "        vertical-align: top;\n",
       "    }\n",
       "\n",
       "    .dataframe thead th {\n",
       "        text-align: right;\n",
       "    }\n",
       "</style>\n",
       "<table border=\"1\" class=\"dataframe\">\n",
       "  <thead>\n",
       "    <tr style=\"text-align: right;\">\n",
       "      <th></th>\n",
       "      <th>ApprovalFY_1984</th>\n",
       "      <th>ApprovalFY_1987</th>\n",
       "      <th>ApprovalFY_1988</th>\n",
       "      <th>ApprovalFY_1989</th>\n",
       "      <th>ApprovalFY_1990</th>\n",
       "      <th>ApprovalFY_1991</th>\n",
       "      <th>ApprovalFY_1992</th>\n",
       "      <th>ApprovalFY_1993</th>\n",
       "      <th>ApprovalFY_1994</th>\n",
       "      <th>ApprovalFY_1996</th>\n",
       "      <th>...</th>\n",
       "      <th>ApprovalFY_2010</th>\n",
       "      <th>ApprovalFY_2011</th>\n",
       "      <th>ApprovalFY_2012</th>\n",
       "      <th>ApprovalFY_2013</th>\n",
       "      <th>ApprovalFY_2014</th>\n",
       "      <th>ApprovalFY_1994</th>\n",
       "      <th>ApprovalFY_1995</th>\n",
       "      <th>ApprovalFY_1996</th>\n",
       "      <th>ApprovalFY_2004</th>\n",
       "      <th>ApprovalFY_2005</th>\n",
       "    </tr>\n",
       "  </thead>\n",
       "  <tbody>\n",
       "    <tr>\n",
       "      <th>0</th>\n",
       "      <td>0</td>\n",
       "      <td>0</td>\n",
       "      <td>0</td>\n",
       "      <td>0</td>\n",
       "      <td>0</td>\n",
       "      <td>0</td>\n",
       "      <td>0</td>\n",
       "      <td>0</td>\n",
       "      <td>0</td>\n",
       "      <td>0</td>\n",
       "      <td>...</td>\n",
       "      <td>0</td>\n",
       "      <td>0</td>\n",
       "      <td>0</td>\n",
       "      <td>0</td>\n",
       "      <td>0</td>\n",
       "      <td>0</td>\n",
       "      <td>0</td>\n",
       "      <td>0</td>\n",
       "      <td>0</td>\n",
       "      <td>0</td>\n",
       "    </tr>\n",
       "    <tr>\n",
       "      <th>1</th>\n",
       "      <td>0</td>\n",
       "      <td>0</td>\n",
       "      <td>0</td>\n",
       "      <td>0</td>\n",
       "      <td>0</td>\n",
       "      <td>0</td>\n",
       "      <td>0</td>\n",
       "      <td>0</td>\n",
       "      <td>0</td>\n",
       "      <td>0</td>\n",
       "      <td>...</td>\n",
       "      <td>0</td>\n",
       "      <td>0</td>\n",
       "      <td>0</td>\n",
       "      <td>0</td>\n",
       "      <td>0</td>\n",
       "      <td>0</td>\n",
       "      <td>0</td>\n",
       "      <td>0</td>\n",
       "      <td>0</td>\n",
       "      <td>0</td>\n",
       "    </tr>\n",
       "    <tr>\n",
       "      <th>2</th>\n",
       "      <td>0</td>\n",
       "      <td>0</td>\n",
       "      <td>0</td>\n",
       "      <td>0</td>\n",
       "      <td>0</td>\n",
       "      <td>0</td>\n",
       "      <td>0</td>\n",
       "      <td>0</td>\n",
       "      <td>0</td>\n",
       "      <td>0</td>\n",
       "      <td>...</td>\n",
       "      <td>0</td>\n",
       "      <td>0</td>\n",
       "      <td>0</td>\n",
       "      <td>0</td>\n",
       "      <td>0</td>\n",
       "      <td>0</td>\n",
       "      <td>0</td>\n",
       "      <td>0</td>\n",
       "      <td>0</td>\n",
       "      <td>0</td>\n",
       "    </tr>\n",
       "    <tr>\n",
       "      <th>5</th>\n",
       "      <td>0</td>\n",
       "      <td>0</td>\n",
       "      <td>0</td>\n",
       "      <td>0</td>\n",
       "      <td>0</td>\n",
       "      <td>0</td>\n",
       "      <td>0</td>\n",
       "      <td>0</td>\n",
       "      <td>0</td>\n",
       "      <td>0</td>\n",
       "      <td>...</td>\n",
       "      <td>0</td>\n",
       "      <td>0</td>\n",
       "      <td>0</td>\n",
       "      <td>0</td>\n",
       "      <td>0</td>\n",
       "      <td>0</td>\n",
       "      <td>0</td>\n",
       "      <td>0</td>\n",
       "      <td>0</td>\n",
       "      <td>0</td>\n",
       "    </tr>\n",
       "    <tr>\n",
       "      <th>7</th>\n",
       "      <td>0</td>\n",
       "      <td>0</td>\n",
       "      <td>0</td>\n",
       "      <td>0</td>\n",
       "      <td>0</td>\n",
       "      <td>0</td>\n",
       "      <td>0</td>\n",
       "      <td>0</td>\n",
       "      <td>0</td>\n",
       "      <td>0</td>\n",
       "      <td>...</td>\n",
       "      <td>0</td>\n",
       "      <td>0</td>\n",
       "      <td>0</td>\n",
       "      <td>0</td>\n",
       "      <td>0</td>\n",
       "      <td>0</td>\n",
       "      <td>0</td>\n",
       "      <td>0</td>\n",
       "      <td>0</td>\n",
       "      <td>0</td>\n",
       "    </tr>\n",
       "    <tr>\n",
       "      <th>...</th>\n",
       "      <td>...</td>\n",
       "      <td>...</td>\n",
       "      <td>...</td>\n",
       "      <td>...</td>\n",
       "      <td>...</td>\n",
       "      <td>...</td>\n",
       "      <td>...</td>\n",
       "      <td>...</td>\n",
       "      <td>...</td>\n",
       "      <td>...</td>\n",
       "      <td>...</td>\n",
       "      <td>...</td>\n",
       "      <td>...</td>\n",
       "      <td>...</td>\n",
       "      <td>...</td>\n",
       "      <td>...</td>\n",
       "      <td>...</td>\n",
       "      <td>...</td>\n",
       "      <td>...</td>\n",
       "      <td>...</td>\n",
       "      <td>...</td>\n",
       "    </tr>\n",
       "    <tr>\n",
       "      <th>899156</th>\n",
       "      <td>0</td>\n",
       "      <td>0</td>\n",
       "      <td>0</td>\n",
       "      <td>0</td>\n",
       "      <td>0</td>\n",
       "      <td>0</td>\n",
       "      <td>0</td>\n",
       "      <td>0</td>\n",
       "      <td>0</td>\n",
       "      <td>0</td>\n",
       "      <td>...</td>\n",
       "      <td>0</td>\n",
       "      <td>0</td>\n",
       "      <td>0</td>\n",
       "      <td>0</td>\n",
       "      <td>0</td>\n",
       "      <td>0</td>\n",
       "      <td>0</td>\n",
       "      <td>0</td>\n",
       "      <td>0</td>\n",
       "      <td>0</td>\n",
       "    </tr>\n",
       "    <tr>\n",
       "      <th>899157</th>\n",
       "      <td>0</td>\n",
       "      <td>0</td>\n",
       "      <td>0</td>\n",
       "      <td>0</td>\n",
       "      <td>0</td>\n",
       "      <td>0</td>\n",
       "      <td>0</td>\n",
       "      <td>0</td>\n",
       "      <td>0</td>\n",
       "      <td>0</td>\n",
       "      <td>...</td>\n",
       "      <td>0</td>\n",
       "      <td>0</td>\n",
       "      <td>0</td>\n",
       "      <td>0</td>\n",
       "      <td>0</td>\n",
       "      <td>0</td>\n",
       "      <td>0</td>\n",
       "      <td>0</td>\n",
       "      <td>0</td>\n",
       "      <td>0</td>\n",
       "    </tr>\n",
       "    <tr>\n",
       "      <th>899159</th>\n",
       "      <td>0</td>\n",
       "      <td>0</td>\n",
       "      <td>0</td>\n",
       "      <td>0</td>\n",
       "      <td>0</td>\n",
       "      <td>0</td>\n",
       "      <td>0</td>\n",
       "      <td>0</td>\n",
       "      <td>0</td>\n",
       "      <td>0</td>\n",
       "      <td>...</td>\n",
       "      <td>0</td>\n",
       "      <td>0</td>\n",
       "      <td>0</td>\n",
       "      <td>0</td>\n",
       "      <td>0</td>\n",
       "      <td>0</td>\n",
       "      <td>0</td>\n",
       "      <td>0</td>\n",
       "      <td>0</td>\n",
       "      <td>0</td>\n",
       "    </tr>\n",
       "    <tr>\n",
       "      <th>899160</th>\n",
       "      <td>0</td>\n",
       "      <td>0</td>\n",
       "      <td>0</td>\n",
       "      <td>0</td>\n",
       "      <td>0</td>\n",
       "      <td>0</td>\n",
       "      <td>0</td>\n",
       "      <td>0</td>\n",
       "      <td>0</td>\n",
       "      <td>0</td>\n",
       "      <td>...</td>\n",
       "      <td>0</td>\n",
       "      <td>0</td>\n",
       "      <td>0</td>\n",
       "      <td>0</td>\n",
       "      <td>0</td>\n",
       "      <td>0</td>\n",
       "      <td>0</td>\n",
       "      <td>0</td>\n",
       "      <td>0</td>\n",
       "      <td>0</td>\n",
       "    </tr>\n",
       "    <tr>\n",
       "      <th>899161</th>\n",
       "      <td>0</td>\n",
       "      <td>0</td>\n",
       "      <td>0</td>\n",
       "      <td>0</td>\n",
       "      <td>0</td>\n",
       "      <td>0</td>\n",
       "      <td>0</td>\n",
       "      <td>0</td>\n",
       "      <td>0</td>\n",
       "      <td>0</td>\n",
       "      <td>...</td>\n",
       "      <td>0</td>\n",
       "      <td>0</td>\n",
       "      <td>0</td>\n",
       "      <td>0</td>\n",
       "      <td>0</td>\n",
       "      <td>0</td>\n",
       "      <td>0</td>\n",
       "      <td>0</td>\n",
       "      <td>0</td>\n",
       "      <td>0</td>\n",
       "    </tr>\n",
       "  </tbody>\n",
       "</table>\n",
       "<p>687973 rows × 33 columns</p>\n",
       "</div>"
      ],
      "text/plain": [
       "        ApprovalFY_1984  ApprovalFY_1987  ApprovalFY_1988  ApprovalFY_1989  \\\n",
       "0                     0                0                0                0   \n",
       "1                     0                0                0                0   \n",
       "2                     0                0                0                0   \n",
       "5                     0                0                0                0   \n",
       "7                     0                0                0                0   \n",
       "...                 ...              ...              ...              ...   \n",
       "899156                0                0                0                0   \n",
       "899157                0                0                0                0   \n",
       "899159                0                0                0                0   \n",
       "899160                0                0                0                0   \n",
       "899161                0                0                0                0   \n",
       "\n",
       "        ApprovalFY_1990  ApprovalFY_1991  ApprovalFY_1992  ApprovalFY_1993  \\\n",
       "0                     0                0                0                0   \n",
       "1                     0                0                0                0   \n",
       "2                     0                0                0                0   \n",
       "5                     0                0                0                0   \n",
       "7                     0                0                0                0   \n",
       "...                 ...              ...              ...              ...   \n",
       "899156                0                0                0                0   \n",
       "899157                0                0                0                0   \n",
       "899159                0                0                0                0   \n",
       "899160                0                0                0                0   \n",
       "899161                0                0                0                0   \n",
       "\n",
       "        ApprovalFY_1994  ApprovalFY_1996  ...  ApprovalFY_2010  \\\n",
       "0                     0                0  ...                0   \n",
       "1                     0                0  ...                0   \n",
       "2                     0                0  ...                0   \n",
       "5                     0                0  ...                0   \n",
       "7                     0                0  ...                0   \n",
       "...                 ...              ...  ...              ...   \n",
       "899156                0                0  ...                0   \n",
       "899157                0                0  ...                0   \n",
       "899159                0                0  ...                0   \n",
       "899160                0                0  ...                0   \n",
       "899161                0                0  ...                0   \n",
       "\n",
       "        ApprovalFY_2011  ApprovalFY_2012  ApprovalFY_2013  ApprovalFY_2014  \\\n",
       "0                     0                0                0                0   \n",
       "1                     0                0                0                0   \n",
       "2                     0                0                0                0   \n",
       "5                     0                0                0                0   \n",
       "7                     0                0                0                0   \n",
       "...                 ...              ...              ...              ...   \n",
       "899156                0                0                0                0   \n",
       "899157                0                0                0                0   \n",
       "899159                0                0                0                0   \n",
       "899160                0                0                0                0   \n",
       "899161                0                0                0                0   \n",
       "\n",
       "        ApprovalFY_1994  ApprovalFY_1995  ApprovalFY_1996  ApprovalFY_2004  \\\n",
       "0                     0                0                0                0   \n",
       "1                     0                0                0                0   \n",
       "2                     0                0                0                0   \n",
       "5                     0                0                0                0   \n",
       "7                     0                0                0                0   \n",
       "...                 ...              ...              ...              ...   \n",
       "899156                0                0                0                0   \n",
       "899157                0                0                0                0   \n",
       "899159                0                0                0                0   \n",
       "899160                0                0                0                0   \n",
       "899161                0                0                0                0   \n",
       "\n",
       "        ApprovalFY_2005  \n",
       "0                     0  \n",
       "1                     0  \n",
       "2                     0  \n",
       "5                     0  \n",
       "7                     0  \n",
       "...                 ...  \n",
       "899156                0  \n",
       "899157                0  \n",
       "899159                0  \n",
       "899160                0  \n",
       "899161                0  \n",
       "\n",
       "[687973 rows x 33 columns]"
      ]
     },
     "execution_count": 187,
     "metadata": {},
     "output_type": "execute_result"
    }
   ],
   "source": [
    "approvalfy=pd.get_dummies(cleandata['ApprovalFY'])\n",
    "approvalfy= approvalfy.add_prefix('ApprovalFY_')\n",
    "approvalfy"
   ]
  },
  {
   "cell_type": "code",
   "execution_count": 188,
   "id": "eceba0b1-649a-4b7a-82eb-236f4c36ae80",
   "metadata": {},
   "outputs": [
    {
     "data": {
      "text/html": [
       "<div>\n",
       "<style scoped>\n",
       "    .dataframe tbody tr th:only-of-type {\n",
       "        vertical-align: middle;\n",
       "    }\n",
       "\n",
       "    .dataframe tbody tr th {\n",
       "        vertical-align: top;\n",
       "    }\n",
       "\n",
       "    .dataframe thead th {\n",
       "        text-align: right;\n",
       "    }\n",
       "</style>\n",
       "<table border=\"1\" class=\"dataframe\">\n",
       "  <thead>\n",
       "    <tr style=\"text-align: right;\">\n",
       "      <th></th>\n",
       "      <th>NewExist_1.0</th>\n",
       "      <th>NewExist_2.0</th>\n",
       "    </tr>\n",
       "  </thead>\n",
       "  <tbody>\n",
       "    <tr>\n",
       "      <th>0</th>\n",
       "      <td>0</td>\n",
       "      <td>1</td>\n",
       "    </tr>\n",
       "    <tr>\n",
       "      <th>1</th>\n",
       "      <td>0</td>\n",
       "      <td>1</td>\n",
       "    </tr>\n",
       "    <tr>\n",
       "      <th>2</th>\n",
       "      <td>1</td>\n",
       "      <td>0</td>\n",
       "    </tr>\n",
       "    <tr>\n",
       "      <th>5</th>\n",
       "      <td>1</td>\n",
       "      <td>0</td>\n",
       "    </tr>\n",
       "    <tr>\n",
       "      <th>7</th>\n",
       "      <td>0</td>\n",
       "      <td>1</td>\n",
       "    </tr>\n",
       "    <tr>\n",
       "      <th>...</th>\n",
       "      <td>...</td>\n",
       "      <td>...</td>\n",
       "    </tr>\n",
       "    <tr>\n",
       "      <th>899156</th>\n",
       "      <td>1</td>\n",
       "      <td>0</td>\n",
       "    </tr>\n",
       "    <tr>\n",
       "      <th>899157</th>\n",
       "      <td>1</td>\n",
       "      <td>0</td>\n",
       "    </tr>\n",
       "    <tr>\n",
       "      <th>899159</th>\n",
       "      <td>1</td>\n",
       "      <td>0</td>\n",
       "    </tr>\n",
       "    <tr>\n",
       "      <th>899160</th>\n",
       "      <td>1</td>\n",
       "      <td>0</td>\n",
       "    </tr>\n",
       "    <tr>\n",
       "      <th>899161</th>\n",
       "      <td>1</td>\n",
       "      <td>0</td>\n",
       "    </tr>\n",
       "  </tbody>\n",
       "</table>\n",
       "<p>687973 rows × 2 columns</p>\n",
       "</div>"
      ],
      "text/plain": [
       "        NewExist_1.0  NewExist_2.0\n",
       "0                  0             1\n",
       "1                  0             1\n",
       "2                  1             0\n",
       "5                  1             0\n",
       "7                  0             1\n",
       "...              ...           ...\n",
       "899156             1             0\n",
       "899157             1             0\n",
       "899159             1             0\n",
       "899160             1             0\n",
       "899161             1             0\n",
       "\n",
       "[687973 rows x 2 columns]"
      ]
     },
     "execution_count": 188,
     "metadata": {},
     "output_type": "execute_result"
    }
   ],
   "source": [
    "newexist = pd.get_dummies(cleandata['NewExist'])\n",
    "newexist = newexist.add_prefix('NewExist_')\n",
    "newexist.drop(['NewExist_0.0'], axis=1, inplace = True)\n",
    "newexist"
   ]
  },
  {
   "cell_type": "code",
   "execution_count": 190,
   "id": "49aae7a2-f440-4ab5-8af6-5ebe8f60d068",
   "metadata": {},
   "outputs": [
    {
     "data": {
      "text/html": [
       "<div>\n",
       "<style scoped>\n",
       "    .dataframe tbody tr th:only-of-type {\n",
       "        vertical-align: middle;\n",
       "    }\n",
       "\n",
       "    .dataframe tbody tr th {\n",
       "        vertical-align: top;\n",
       "    }\n",
       "\n",
       "    .dataframe thead th {\n",
       "        text-align: right;\n",
       "    }\n",
       "</style>\n",
       "<table border=\"1\" class=\"dataframe\">\n",
       "  <thead>\n",
       "    <tr style=\"text-align: right;\">\n",
       "      <th></th>\n",
       "      <th>UrbanRural_0</th>\n",
       "      <th>UrbanRural_1</th>\n",
       "      <th>UrbanRural_2</th>\n",
       "    </tr>\n",
       "  </thead>\n",
       "  <tbody>\n",
       "    <tr>\n",
       "      <th>0</th>\n",
       "      <td>1</td>\n",
       "      <td>0</td>\n",
       "      <td>0</td>\n",
       "    </tr>\n",
       "    <tr>\n",
       "      <th>1</th>\n",
       "      <td>1</td>\n",
       "      <td>0</td>\n",
       "      <td>0</td>\n",
       "    </tr>\n",
       "    <tr>\n",
       "      <th>2</th>\n",
       "      <td>1</td>\n",
       "      <td>0</td>\n",
       "      <td>0</td>\n",
       "    </tr>\n",
       "    <tr>\n",
       "      <th>5</th>\n",
       "      <td>1</td>\n",
       "      <td>0</td>\n",
       "      <td>0</td>\n",
       "    </tr>\n",
       "    <tr>\n",
       "      <th>7</th>\n",
       "      <td>1</td>\n",
       "      <td>0</td>\n",
       "      <td>0</td>\n",
       "    </tr>\n",
       "    <tr>\n",
       "      <th>...</th>\n",
       "      <td>...</td>\n",
       "      <td>...</td>\n",
       "      <td>...</td>\n",
       "    </tr>\n",
       "    <tr>\n",
       "      <th>899156</th>\n",
       "      <td>1</td>\n",
       "      <td>0</td>\n",
       "      <td>0</td>\n",
       "    </tr>\n",
       "    <tr>\n",
       "      <th>899157</th>\n",
       "      <td>1</td>\n",
       "      <td>0</td>\n",
       "      <td>0</td>\n",
       "    </tr>\n",
       "    <tr>\n",
       "      <th>899159</th>\n",
       "      <td>1</td>\n",
       "      <td>0</td>\n",
       "      <td>0</td>\n",
       "    </tr>\n",
       "    <tr>\n",
       "      <th>899160</th>\n",
       "      <td>1</td>\n",
       "      <td>0</td>\n",
       "      <td>0</td>\n",
       "    </tr>\n",
       "    <tr>\n",
       "      <th>899161</th>\n",
       "      <td>1</td>\n",
       "      <td>0</td>\n",
       "      <td>0</td>\n",
       "    </tr>\n",
       "  </tbody>\n",
       "</table>\n",
       "<p>687973 rows × 3 columns</p>\n",
       "</div>"
      ],
      "text/plain": [
       "        UrbanRural_0  UrbanRural_1  UrbanRural_2\n",
       "0                  1             0             0\n",
       "1                  1             0             0\n",
       "2                  1             0             0\n",
       "5                  1             0             0\n",
       "7                  1             0             0\n",
       "...              ...           ...           ...\n",
       "899156             1             0             0\n",
       "899157             1             0             0\n",
       "899159             1             0             0\n",
       "899160             1             0             0\n",
       "899161             1             0             0\n",
       "\n",
       "[687973 rows x 3 columns]"
      ]
     },
     "execution_count": 190,
     "metadata": {},
     "output_type": "execute_result"
    }
   ],
   "source": [
    "urbanrural = pd.get_dummies(cleandata['UrbanRural'])\n",
    "urbanrural = urbanrural.add_prefix('UrbanRural_')\n",
    "urbanrural\n",
    "                                      "
   ]
  },
  {
   "cell_type": "markdown",
   "id": "9588fe41-f9da-4b4f-b1d6-f51ca1b01015",
   "metadata": {},
   "source": [
    "#### After getting all dummy data, the next step is to combine all data together to be a new dataset which will be used for the logistic analysis."
   ]
  },
  {
   "cell_type": "code",
   "execution_count": 90,
   "id": "bc7a55b0-f8ae-4558-9d38-e6355bdfc116",
   "metadata": {},
   "outputs": [
    {
     "data": {
      "text/html": [
       "<div>\n",
       "<style scoped>\n",
       "    .dataframe tbody tr th:only-of-type {\n",
       "        vertical-align: middle;\n",
       "    }\n",
       "\n",
       "    .dataframe tbody tr th {\n",
       "        vertical-align: top;\n",
       "    }\n",
       "\n",
       "    .dataframe thead th {\n",
       "        text-align: right;\n",
       "    }\n",
       "</style>\n",
       "<table border=\"1\" class=\"dataframe\">\n",
       "  <thead>\n",
       "    <tr style=\"text-align: right;\">\n",
       "      <th></th>\n",
       "      <th>MIS_Status</th>\n",
       "      <th>BankState_AK</th>\n",
       "      <th>BankState_AL</th>\n",
       "      <th>BankState_AN</th>\n",
       "      <th>BankState_AR</th>\n",
       "      <th>BankState_AZ</th>\n",
       "      <th>BankState_CA</th>\n",
       "      <th>BankState_CO</th>\n",
       "      <th>BankState_CT</th>\n",
       "      <th>BankState_DC</th>\n",
       "      <th>...</th>\n",
       "      <th>NewExist_2.0</th>\n",
       "      <th>UrbanRural_0</th>\n",
       "      <th>UrbanRural_1</th>\n",
       "      <th>UrbanRural_2</th>\n",
       "      <th>RevLineCr_0</th>\n",
       "      <th>RevLineCr_N</th>\n",
       "      <th>RevLineCr_0RevLineCr_Y</th>\n",
       "      <th>RevLineCr_T</th>\n",
       "      <th>LowDoc_N</th>\n",
       "      <th>LowDoc_Y</th>\n",
       "    </tr>\n",
       "  </thead>\n",
       "  <tbody>\n",
       "    <tr>\n",
       "      <th>0</th>\n",
       "      <td>0</td>\n",
       "      <td>0</td>\n",
       "      <td>0</td>\n",
       "      <td>0</td>\n",
       "      <td>0</td>\n",
       "      <td>0</td>\n",
       "      <td>0</td>\n",
       "      <td>0</td>\n",
       "      <td>0</td>\n",
       "      <td>0</td>\n",
       "      <td>...</td>\n",
       "      <td>1</td>\n",
       "      <td>1</td>\n",
       "      <td>0</td>\n",
       "      <td>0</td>\n",
       "      <td>0</td>\n",
       "      <td>1</td>\n",
       "      <td>0</td>\n",
       "      <td>0</td>\n",
       "      <td>0</td>\n",
       "      <td>1</td>\n",
       "    </tr>\n",
       "    <tr>\n",
       "      <th>1</th>\n",
       "      <td>0</td>\n",
       "      <td>0</td>\n",
       "      <td>0</td>\n",
       "      <td>0</td>\n",
       "      <td>0</td>\n",
       "      <td>0</td>\n",
       "      <td>0</td>\n",
       "      <td>0</td>\n",
       "      <td>0</td>\n",
       "      <td>0</td>\n",
       "      <td>...</td>\n",
       "      <td>1</td>\n",
       "      <td>1</td>\n",
       "      <td>0</td>\n",
       "      <td>0</td>\n",
       "      <td>0</td>\n",
       "      <td>1</td>\n",
       "      <td>0</td>\n",
       "      <td>0</td>\n",
       "      <td>0</td>\n",
       "      <td>1</td>\n",
       "    </tr>\n",
       "    <tr>\n",
       "      <th>2</th>\n",
       "      <td>0</td>\n",
       "      <td>0</td>\n",
       "      <td>0</td>\n",
       "      <td>0</td>\n",
       "      <td>0</td>\n",
       "      <td>0</td>\n",
       "      <td>0</td>\n",
       "      <td>0</td>\n",
       "      <td>0</td>\n",
       "      <td>0</td>\n",
       "      <td>...</td>\n",
       "      <td>0</td>\n",
       "      <td>1</td>\n",
       "      <td>0</td>\n",
       "      <td>0</td>\n",
       "      <td>0</td>\n",
       "      <td>1</td>\n",
       "      <td>0</td>\n",
       "      <td>0</td>\n",
       "      <td>1</td>\n",
       "      <td>0</td>\n",
       "    </tr>\n",
       "    <tr>\n",
       "      <th>5</th>\n",
       "      <td>0</td>\n",
       "      <td>0</td>\n",
       "      <td>0</td>\n",
       "      <td>0</td>\n",
       "      <td>0</td>\n",
       "      <td>0</td>\n",
       "      <td>0</td>\n",
       "      <td>0</td>\n",
       "      <td>0</td>\n",
       "      <td>0</td>\n",
       "      <td>...</td>\n",
       "      <td>0</td>\n",
       "      <td>1</td>\n",
       "      <td>0</td>\n",
       "      <td>0</td>\n",
       "      <td>0</td>\n",
       "      <td>1</td>\n",
       "      <td>0</td>\n",
       "      <td>0</td>\n",
       "      <td>1</td>\n",
       "      <td>0</td>\n",
       "    </tr>\n",
       "    <tr>\n",
       "      <th>7</th>\n",
       "      <td>0</td>\n",
       "      <td>0</td>\n",
       "      <td>1</td>\n",
       "      <td>0</td>\n",
       "      <td>0</td>\n",
       "      <td>0</td>\n",
       "      <td>0</td>\n",
       "      <td>0</td>\n",
       "      <td>0</td>\n",
       "      <td>0</td>\n",
       "      <td>...</td>\n",
       "      <td>1</td>\n",
       "      <td>1</td>\n",
       "      <td>0</td>\n",
       "      <td>0</td>\n",
       "      <td>0</td>\n",
       "      <td>1</td>\n",
       "      <td>0</td>\n",
       "      <td>0</td>\n",
       "      <td>0</td>\n",
       "      <td>1</td>\n",
       "    </tr>\n",
       "    <tr>\n",
       "      <th>...</th>\n",
       "      <td>...</td>\n",
       "      <td>...</td>\n",
       "      <td>...</td>\n",
       "      <td>...</td>\n",
       "      <td>...</td>\n",
       "      <td>...</td>\n",
       "      <td>...</td>\n",
       "      <td>...</td>\n",
       "      <td>...</td>\n",
       "      <td>...</td>\n",
       "      <td>...</td>\n",
       "      <td>...</td>\n",
       "      <td>...</td>\n",
       "      <td>...</td>\n",
       "      <td>...</td>\n",
       "      <td>...</td>\n",
       "      <td>...</td>\n",
       "      <td>...</td>\n",
       "      <td>...</td>\n",
       "      <td>...</td>\n",
       "      <td>...</td>\n",
       "    </tr>\n",
       "    <tr>\n",
       "      <th>899156</th>\n",
       "      <td>0</td>\n",
       "      <td>0</td>\n",
       "      <td>0</td>\n",
       "      <td>0</td>\n",
       "      <td>0</td>\n",
       "      <td>0</td>\n",
       "      <td>0</td>\n",
       "      <td>0</td>\n",
       "      <td>0</td>\n",
       "      <td>0</td>\n",
       "      <td>...</td>\n",
       "      <td>0</td>\n",
       "      <td>1</td>\n",
       "      <td>0</td>\n",
       "      <td>0</td>\n",
       "      <td>1</td>\n",
       "      <td>0</td>\n",
       "      <td>0</td>\n",
       "      <td>0</td>\n",
       "      <td>1</td>\n",
       "      <td>0</td>\n",
       "    </tr>\n",
       "    <tr>\n",
       "      <th>899157</th>\n",
       "      <td>0</td>\n",
       "      <td>0</td>\n",
       "      <td>0</td>\n",
       "      <td>0</td>\n",
       "      <td>0</td>\n",
       "      <td>0</td>\n",
       "      <td>1</td>\n",
       "      <td>0</td>\n",
       "      <td>0</td>\n",
       "      <td>0</td>\n",
       "      <td>...</td>\n",
       "      <td>0</td>\n",
       "      <td>1</td>\n",
       "      <td>0</td>\n",
       "      <td>0</td>\n",
       "      <td>0</td>\n",
       "      <td>1</td>\n",
       "      <td>0</td>\n",
       "      <td>0</td>\n",
       "      <td>1</td>\n",
       "      <td>0</td>\n",
       "    </tr>\n",
       "    <tr>\n",
       "      <th>899159</th>\n",
       "      <td>0</td>\n",
       "      <td>0</td>\n",
       "      <td>0</td>\n",
       "      <td>0</td>\n",
       "      <td>0</td>\n",
       "      <td>0</td>\n",
       "      <td>0</td>\n",
       "      <td>0</td>\n",
       "      <td>0</td>\n",
       "      <td>0</td>\n",
       "      <td>...</td>\n",
       "      <td>0</td>\n",
       "      <td>1</td>\n",
       "      <td>0</td>\n",
       "      <td>0</td>\n",
       "      <td>1</td>\n",
       "      <td>0</td>\n",
       "      <td>0</td>\n",
       "      <td>0</td>\n",
       "      <td>1</td>\n",
       "      <td>0</td>\n",
       "    </tr>\n",
       "    <tr>\n",
       "      <th>899160</th>\n",
       "      <td>0</td>\n",
       "      <td>0</td>\n",
       "      <td>0</td>\n",
       "      <td>0</td>\n",
       "      <td>0</td>\n",
       "      <td>0</td>\n",
       "      <td>0</td>\n",
       "      <td>0</td>\n",
       "      <td>0</td>\n",
       "      <td>0</td>\n",
       "      <td>...</td>\n",
       "      <td>0</td>\n",
       "      <td>1</td>\n",
       "      <td>0</td>\n",
       "      <td>0</td>\n",
       "      <td>0</td>\n",
       "      <td>0</td>\n",
       "      <td>1</td>\n",
       "      <td>0</td>\n",
       "      <td>1</td>\n",
       "      <td>0</td>\n",
       "    </tr>\n",
       "    <tr>\n",
       "      <th>899161</th>\n",
       "      <td>0</td>\n",
       "      <td>0</td>\n",
       "      <td>0</td>\n",
       "      <td>0</td>\n",
       "      <td>0</td>\n",
       "      <td>0</td>\n",
       "      <td>1</td>\n",
       "      <td>0</td>\n",
       "      <td>0</td>\n",
       "      <td>0</td>\n",
       "      <td>...</td>\n",
       "      <td>0</td>\n",
       "      <td>1</td>\n",
       "      <td>0</td>\n",
       "      <td>0</td>\n",
       "      <td>0</td>\n",
       "      <td>1</td>\n",
       "      <td>0</td>\n",
       "      <td>0</td>\n",
       "      <td>1</td>\n",
       "      <td>0</td>\n",
       "    </tr>\n",
       "  </tbody>\n",
       "</table>\n",
       "<p>687973 rows × 124 columns</p>\n",
       "</div>"
      ],
      "text/plain": [
       "       MIS_Status  BankState_AK  BankState_AL  BankState_AN  BankState_AR  \\\n",
       "0               0             0             0             0             0   \n",
       "1               0             0             0             0             0   \n",
       "2               0             0             0             0             0   \n",
       "5               0             0             0             0             0   \n",
       "7               0             0             1             0             0   \n",
       "...           ...           ...           ...           ...           ...   \n",
       "899156          0             0             0             0             0   \n",
       "899157          0             0             0             0             0   \n",
       "899159          0             0             0             0             0   \n",
       "899160          0             0             0             0             0   \n",
       "899161          0             0             0             0             0   \n",
       "\n",
       "        BankState_AZ  BankState_CA  BankState_CO  BankState_CT  BankState_DC  \\\n",
       "0                  0             0             0             0             0   \n",
       "1                  0             0             0             0             0   \n",
       "2                  0             0             0             0             0   \n",
       "5                  0             0             0             0             0   \n",
       "7                  0             0             0             0             0   \n",
       "...              ...           ...           ...           ...           ...   \n",
       "899156             0             0             0             0             0   \n",
       "899157             0             1             0             0             0   \n",
       "899159             0             0             0             0             0   \n",
       "899160             0             0             0             0             0   \n",
       "899161             0             1             0             0             0   \n",
       "\n",
       "        ...  NewExist_2.0  UrbanRural_0  UrbanRural_1  UrbanRural_2  \\\n",
       "0       ...             1             1             0             0   \n",
       "1       ...             1             1             0             0   \n",
       "2       ...             0             1             0             0   \n",
       "5       ...             0             1             0             0   \n",
       "7       ...             1             1             0             0   \n",
       "...     ...           ...           ...           ...           ...   \n",
       "899156  ...             0             1             0             0   \n",
       "899157  ...             0             1             0             0   \n",
       "899159  ...             0             1             0             0   \n",
       "899160  ...             0             1             0             0   \n",
       "899161  ...             0             1             0             0   \n",
       "\n",
       "        RevLineCr_0  RevLineCr_N  RevLineCr_0RevLineCr_Y  RevLineCr_T  \\\n",
       "0                 0            1                       0            0   \n",
       "1                 0            1                       0            0   \n",
       "2                 0            1                       0            0   \n",
       "5                 0            1                       0            0   \n",
       "7                 0            1                       0            0   \n",
       "...             ...          ...                     ...          ...   \n",
       "899156            1            0                       0            0   \n",
       "899157            0            1                       0            0   \n",
       "899159            1            0                       0            0   \n",
       "899160            0            0                       1            0   \n",
       "899161            0            1                       0            0   \n",
       "\n",
       "        LowDoc_N  LowDoc_Y  \n",
       "0              0         1  \n",
       "1              0         1  \n",
       "2              1         0  \n",
       "5              1         0  \n",
       "7              0         1  \n",
       "...          ...       ...  \n",
       "899156         1         0  \n",
       "899157         1         0  \n",
       "899159         1         0  \n",
       "899160         1         0  \n",
       "899161         1         0  \n",
       "\n",
       "[687973 rows x 124 columns]"
      ]
     },
     "execution_count": 90,
     "metadata": {},
     "output_type": "execute_result"
    }
   ],
   "source": [
    "newdata=cleandata[['MIS_Status']]\n",
    "newdata = pd.concat([newdata,bankstate, naics, approvalfy, newexist, urbanrural, revlinecr, lowdoc], axis=1)\n",
    "newdata"
   ]
  },
  {
   "cell_type": "code",
   "execution_count": 91,
   "id": "51aeabe8-1dc3-4a23-8c6b-3192c8714983",
   "metadata": {},
   "outputs": [
    {
     "data": {
      "text/plain": [
       "(687973, 124)"
      ]
     },
     "execution_count": 91,
     "metadata": {},
     "output_type": "execute_result"
    }
   ],
   "source": [
    "\n",
    "newdata.shape"
   ]
  },
  {
   "cell_type": "code",
   "execution_count": 92,
   "id": "bae63dad-9eda-4ba0-af94-c24d38d1515c",
   "metadata": {},
   "outputs": [
    {
     "data": {
      "text/plain": [
       "Index(['MIS_Status', 'BankState_AK', 'BankState_AL', 'BankState_AN',\n",
       "       'BankState_AR', 'BankState_AZ', 'BankState_CA', 'BankState_CO',\n",
       "       'BankState_CT', 'BankState_DC',\n",
       "       ...\n",
       "       'NewExist_2.0', 'UrbanRural_0', 'UrbanRural_1', 'UrbanRural_2',\n",
       "       'RevLineCr_0', 'RevLineCr_N', 'RevLineCr_0RevLineCr_Y', 'RevLineCr_T',\n",
       "       'LowDoc_N', 'LowDoc_Y'],\n",
       "      dtype='object', length=124)"
      ]
     },
     "execution_count": 92,
     "metadata": {},
     "output_type": "execute_result"
    }
   ],
   "source": [
    "newdata.columns"
   ]
  },
  {
   "cell_type": "markdown",
   "id": "5481bec2-5adb-430a-a113-fb4d1be867b5",
   "metadata": {},
   "source": [
    "## 3. Features Selection\n",
    "\n",
    "#### As showed above, there are totally 123 variables for this analysis. We will use Sklearn library to do this logistic regression analysis. So firstly, we need to set the data to X and y. y is the outputing which it should be data of column 'MIS_Status', and X would be all other data."
   ]
  },
  {
   "cell_type": "code",
   "execution_count": 191,
   "id": "d9bf772f-e621-471b-9319-45722784b75e",
   "metadata": {},
   "outputs": [
    {
     "data": {
      "text/plain": [
       "(687973, 123)"
      ]
     },
     "execution_count": 191,
     "metadata": {},
     "output_type": "execute_result"
    }
   ],
   "source": [
    "### Split the data into x, y\n",
    "\n",
    "X= newdata.drop('MIS_Status', axis=1).values\n",
    "y= newdata['MIS_Status']\n",
    "\n",
    "y=y.astype(int)\n",
    "\n",
    "X.shape\n"
   ]
  },
  {
   "cell_type": "code",
   "execution_count": 192,
   "id": "b255c08f-5e11-4273-86e2-cfec6ed0b2a9",
   "metadata": {},
   "outputs": [
    {
     "data": {
      "text/plain": [
       "(687973,)"
      ]
     },
     "execution_count": 192,
     "metadata": {},
     "output_type": "execute_result"
    }
   ],
   "source": [
    "y.shape"
   ]
  },
  {
   "cell_type": "markdown",
   "id": "a21f511b-b43a-49c1-b212-29773063faa3",
   "metadata": {},
   "source": [
    "#### For so many variables, we could use DecisionTreeClssifier to determine the sequence of the importance for alll variables."
   ]
  },
  {
   "cell_type": "code",
   "execution_count": 193,
   "id": "66ad5ebc-e831-49ab-9727-b6496aad8db4",
   "metadata": {},
   "outputs": [
    {
     "data": {
      "text/plain": [
       "DecisionTreeClassifier(criterion='entropy', max_depth=15, random_state=20)"
      ]
     },
     "execution_count": 193,
     "metadata": {},
     "output_type": "execute_result"
    }
   ],
   "source": [
    "\n",
    "\n",
    "from sklearn.linear_model import LinearRegression\n",
    "from sklearn.linear_model import LogisticRegression\n",
    "from sklearn.tree import DecisionTreeClassifier\n",
    "from sklearn.model_selection import train_test_split\n",
    "from sklearn.metrics import r2_score, explained_variance_score, confusion_matrix, accuracy_score, classification_report, log_loss\n",
    "from math import sqrt\n",
    "\n",
    "newdata1 = DecisionTreeClassifier(random_state=20, criterion = 'entropy', max_depth = 15)\n",
    "newdata1.fit(X,y)"
   ]
  },
  {
   "cell_type": "code",
   "execution_count": 195,
   "id": "f4de28f1-0e77-44ae-a25b-826c5e87a843",
   "metadata": {},
   "outputs": [
    {
     "name": "stdout",
     "output_type": "stream",
     "text": [
      "The feature importance for BankState_AK is : 7.060567225086586e-05\n",
      "The feature importance for BankState_AL is : 0.00042186249406990045\n",
      "The feature importance for BankState_AN is : 0.0\n",
      "The feature importance for BankState_AR is : 0.0003651462290786531\n",
      "The feature importance for BankState_AZ is : 8.341555734343483e-05\n",
      "The feature importance for BankState_CA is : 0.04527979554222031\n",
      "The feature importance for BankState_CO is : 0.0007012633748012902\n",
      "The feature importance for BankState_CT is : 0.00239359258635706\n",
      "The feature importance for BankState_DC is : 0.0001016179982314266\n",
      "The feature importance for BankState_DE is : 0.005516659587497021\n",
      "The feature importance for BankState_FL is : 0.005996486330099617\n",
      "The feature importance for BankState_GA is : 0.0006102633933096755\n",
      "The feature importance for BankState_GU is : 0.0\n",
      "The feature importance for BankState_HI is : 0.00011609292987412903\n",
      "The feature importance for BankState_IA is : 0.00019538729844296283\n",
      "The feature importance for BankState_ID is : 0.00022181471760890904\n",
      "The feature importance for BankState_IL is : 0.008448921465541088\n",
      "The feature importance for BankState_IN is : 0.00011801128200252469\n",
      "The feature importance for BankState_KS is : 0.00027093791468450783\n",
      "The feature importance for BankState_KY is : 0.0003765587858663551\n",
      "The feature importance for BankState_LA is : 0.0002227040302380039\n",
      "The feature importance for BankState_MA is : 0.00028499977789041145\n",
      "The feature importance for BankState_MD is : 0.000555234012640974\n",
      "The feature importance for BankState_ME is : 0.0\n",
      "The feature importance for BankState_MI is : 0.00015180727631833882\n",
      "The feature importance for BankState_MN is : 9.63355198998358e-05\n",
      "The feature importance for BankState_MO is : 0.0005657844215680022\n",
      "The feature importance for BankState_MS is : 9.32927396853355e-05\n",
      "The feature importance for BankState_MT is : 8.485011712171685e-05\n",
      "The feature importance for BankState_NC is : 0.040738320743513044\n",
      "The feature importance for BankState_ND is : 8.616760483500122e-05\n",
      "The feature importance for BankState_NE is : 0.0001858956797536868\n",
      "The feature importance for BankState_NH is : 0.00015193111325983533\n",
      "The feature importance for BankState_NJ is : 5.6593916512380304e-05\n",
      "The feature importance for BankState_NM is : 7.799895940698018e-05\n",
      "The feature importance for BankState_NV is : 0.0009486222814954802\n",
      "The feature importance for BankState_NY is : 0.006641193362720619\n",
      "The feature importance for BankState_OH is : 0.0011601980866156965\n",
      "The feature importance for BankState_OK is : 0.00026813135121024867\n",
      "The feature importance for BankState_OR is : 0.005400667008154379\n",
      "The feature importance for BankState_PA is : 0.0013287143646338838\n",
      "The feature importance for BankState_PR is : 0.0\n",
      "The feature importance for BankState_RI is : 0.006648687028159139\n",
      "The feature importance for BankState_SC is : 0.0026270817226852644\n",
      "The feature importance for BankState_SD is : 0.014593055129801781\n",
      "The feature importance for BankState_TN is : 0.00019533453900811906\n",
      "The feature importance for BankState_TX is : 0.002677482049878885\n",
      "The feature importance for BankState_UT is : 0.0029920238234747813\n",
      "The feature importance for BankState_VA is : 0.02973564357726851\n",
      "The feature importance for BankState_VI is : 0.0\n",
      "The feature importance for BankState_VT is : 0.0001730364689854709\n",
      "The feature importance for BankState_WA is : 0.0006431336458407065\n",
      "The feature importance for BankState_WI is : 0.0004230603029242847\n",
      "The feature importance for BankState_WV is : 5.548615869667246e-05\n",
      "The feature importance for BankState_WY is : 0.0\n",
      "The feature importance for NAICS_11 is : 0.0011063782638137\n",
      "The feature importance for NAICS_21 is : 0.0002557392970830489\n",
      "The feature importance for NAICS_22 is : 0.0002116056723705331\n",
      "The feature importance for NAICS_23 is : 0.0027304468836482107\n",
      "The feature importance for NAICS_31 is : 0.0008625144818141247\n",
      "The feature importance for NAICS_32 is : 0.0012838611455917618\n",
      "The feature importance for NAICS_33 is : 0.002752675913258467\n",
      "The feature importance for NAICS_42 is : 0.0026341160070831177\n",
      "The feature importance for NAICS_44 is : 0.0025791513155469\n",
      "The feature importance for NAICS_45 is : 0.0064659274347207505\n",
      "The feature importance for NAICS_48 is : 0.001317682591995619\n",
      "The feature importance for NAICS_49 is : 0.0004953400951644897\n",
      "The feature importance for NAICS_51 is : 0.0011877482681875433\n",
      "The feature importance for NAICS_52 is : 0.001028610894620786\n",
      "The feature importance for NAICS_53 is : 0.0020170359039408067\n",
      "The feature importance for NAICS_54 is : 0.004773413651040883\n",
      "The feature importance for NAICS_55 is : 0.0\n",
      "The feature importance for NAICS_56 is : 0.001954298762685319\n",
      "The feature importance for NAICS_61 is : 0.001035335404056189\n",
      "The feature importance for NAICS_62 is : 0.01672891279205246\n",
      "The feature importance for NAICS_71 is : 0.0010906717999295548\n",
      "The feature importance for NAICS_72 is : 0.002374739612586031\n",
      "The feature importance for NAICS_81 is : 0.0016072175526852443\n",
      "The feature importance for NAICS_92 is : 0.00012473972024544235\n",
      "The feature importance for ApprovalFY_1984 is : 0.0\n",
      "The feature importance for ApprovalFY_1987 is : 0.00758803650329297\n",
      "The feature importance for ApprovalFY_1988 is : 0.010732560571332641\n",
      "The feature importance for ApprovalFY_1989 is : 0.0013924695094266828\n",
      "The feature importance for ApprovalFY_1990 is : 0.0005987329938321975\n",
      "The feature importance for ApprovalFY_1991 is : 0.0\n",
      "The feature importance for ApprovalFY_1992 is : 0.00012716300025873668\n",
      "The feature importance for ApprovalFY_1993 is : 4.763597786472101e-05\n",
      "The feature importance for ApprovalFY_1994 is : 6.536303792078331e-05\n",
      "The feature importance for ApprovalFY_1996 is : 0.000840350083545414\n",
      "The feature importance for ApprovalFY_1997 is : 0.0011683900843600077\n",
      "The feature importance for ApprovalFY_1998 is : 0.0019065399811101459\n",
      "The feature importance for ApprovalFY_1999 is : 0.002171510866252993\n",
      "The feature importance for ApprovalFY_2000 is : 0.0005470437688824149\n",
      "The feature importance for ApprovalFY_2001 is : 0.0010504771055181675\n",
      "The feature importance for ApprovalFY_2002 is : 0.002445990118837808\n",
      "The feature importance for ApprovalFY_2003 is : 0.009828495403819004\n",
      "The feature importance for ApprovalFY_2004 is : 0.008773426797754362\n",
      "The feature importance for ApprovalFY_2005 is : 0.0405215749763212\n",
      "The feature importance for ApprovalFY_2006 is : 0.07207938903736076\n",
      "The feature importance for ApprovalFY_2007 is : 0.10906361814079925\n",
      "The feature importance for ApprovalFY_2008 is : 0.09184143423172972\n",
      "The feature importance for ApprovalFY_2009 is : 0.0066621930640818755\n",
      "The feature importance for ApprovalFY_2010 is : 0.0002548291203157091\n",
      "The feature importance for ApprovalFY_2011 is : 0.0007132766133198663\n",
      "The feature importance for ApprovalFY_2012 is : 0.00018451582743587796\n",
      "The feature importance for ApprovalFY_2013 is : 5.9442743842530313e-05\n",
      "The feature importance for ApprovalFY_2014 is : 0.0\n",
      "The feature importance for ApprovalFY_1994 is : 5.3625393545388974e-05\n",
      "The feature importance for ApprovalFY_1995 is : 0.0007570607493105564\n",
      "The feature importance for ApprovalFY_1996 is : 2.8331418154845473e-05\n",
      "The feature importance for ApprovalFY_2004 is : 0.008095893922650872\n",
      "The feature importance for ApprovalFY_2005 is : 0.0067560315830248645\n",
      "The feature importance for NewExist_1.0 is : 0.018223924782501233\n",
      "The feature importance for NewExist_2.0 is : 0.010203183107333548\n",
      "The feature importance for UrbanRural_0 is : 0.19964981283211078\n",
      "The feature importance for UrbanRural_1 is : 0.006526343558269054\n",
      "The feature importance for UrbanRural_2 is : 0.00672872031391822\n",
      "The feature importance for RevLineCr_0 is : 0.0522563494360591\n",
      "The feature importance for RevLineCr_N is : 0.0247955152833425\n",
      "The feature importance for RevLineCr_0RevLineCr_Y is : 0.017018187327126035\n",
      "The feature importance for RevLineCr_T is : 0.026895402311622945\n",
      "The feature importance for LowDoc_N is : 0.0018647590052194647\n",
      "The feature importance for LowDoc_Y is : 0.0017123359789965441\n"
     ]
    }
   ],
   "source": [
    "# Running Feature Importance\n",
    "\n",
    "fi_col = []\n",
    "fi = []\n",
    "\n",
    "for i,column in enumerate(newdata.drop('MIS_Status', axis = 1)):\n",
    "    print('The feature importance for {} is : {}'.format(column, newdata1.feature_importances_[i]))\n",
    "    \n",
    "    fi_col.append(column)\n",
    "    fi.append(newdata1.feature_importances_[i])"
   ]
  },
  {
   "cell_type": "markdown",
   "id": "891bc165-4dea-49a6-8ad4-799338d47feb",
   "metadata": {},
   "source": [
    "#### To make the importance clear, we can convert the result to a data table as below. At the same time, we delete those variables which have 0 values."
   ]
  },
  {
   "cell_type": "code",
   "execution_count": 97,
   "id": "e538c75c-88a9-4501-9eb8-7dd4fbd54408",
   "metadata": {},
   "outputs": [
    {
     "data": {
      "text/html": [
       "<div>\n",
       "<style scoped>\n",
       "    .dataframe tbody tr th:only-of-type {\n",
       "        vertical-align: middle;\n",
       "    }\n",
       "\n",
       "    .dataframe tbody tr th {\n",
       "        vertical-align: top;\n",
       "    }\n",
       "\n",
       "    .dataframe thead th {\n",
       "        text-align: right;\n",
       "    }\n",
       "</style>\n",
       "<table border=\"1\" class=\"dataframe\">\n",
       "  <thead>\n",
       "    <tr style=\"text-align: right;\">\n",
       "      <th></th>\n",
       "      <th>index</th>\n",
       "      <th>Feature</th>\n",
       "      <th>Feature Importance</th>\n",
       "    </tr>\n",
       "  </thead>\n",
       "  <tbody>\n",
       "    <tr>\n",
       "      <th>0</th>\n",
       "      <td>114</td>\n",
       "      <td>UrbanRural_0</td>\n",
       "      <td>0.199650</td>\n",
       "    </tr>\n",
       "    <tr>\n",
       "      <th>1</th>\n",
       "      <td>99</td>\n",
       "      <td>ApprovalFY_2007</td>\n",
       "      <td>0.109064</td>\n",
       "    </tr>\n",
       "    <tr>\n",
       "      <th>2</th>\n",
       "      <td>100</td>\n",
       "      <td>ApprovalFY_2008</td>\n",
       "      <td>0.091841</td>\n",
       "    </tr>\n",
       "    <tr>\n",
       "      <th>3</th>\n",
       "      <td>98</td>\n",
       "      <td>ApprovalFY_2006</td>\n",
       "      <td>0.072079</td>\n",
       "    </tr>\n",
       "    <tr>\n",
       "      <th>4</th>\n",
       "      <td>117</td>\n",
       "      <td>RevLineCr_0</td>\n",
       "      <td>0.052256</td>\n",
       "    </tr>\n",
       "    <tr>\n",
       "      <th>...</th>\n",
       "      <td>...</td>\n",
       "      <td>...</td>\n",
       "      <td>...</td>\n",
       "    </tr>\n",
       "    <tr>\n",
       "      <th>108</th>\n",
       "      <td>33</td>\n",
       "      <td>BankState_NJ</td>\n",
       "      <td>0.000057</td>\n",
       "    </tr>\n",
       "    <tr>\n",
       "      <th>109</th>\n",
       "      <td>53</td>\n",
       "      <td>BankState_WV</td>\n",
       "      <td>0.000055</td>\n",
       "    </tr>\n",
       "    <tr>\n",
       "      <th>110</th>\n",
       "      <td>107</td>\n",
       "      <td>ApprovalFY_1994</td>\n",
       "      <td>0.000054</td>\n",
       "    </tr>\n",
       "    <tr>\n",
       "      <th>111</th>\n",
       "      <td>86</td>\n",
       "      <td>ApprovalFY_1993</td>\n",
       "      <td>0.000048</td>\n",
       "    </tr>\n",
       "    <tr>\n",
       "      <th>112</th>\n",
       "      <td>109</td>\n",
       "      <td>ApprovalFY_1996</td>\n",
       "      <td>0.000028</td>\n",
       "    </tr>\n",
       "  </tbody>\n",
       "</table>\n",
       "<p>113 rows × 3 columns</p>\n",
       "</div>"
      ],
      "text/plain": [
       "     index          Feature  Feature Importance\n",
       "0      114     UrbanRural_0            0.199650\n",
       "1       99  ApprovalFY_2007            0.109064\n",
       "2      100  ApprovalFY_2008            0.091841\n",
       "3       98  ApprovalFY_2006            0.072079\n",
       "4      117      RevLineCr_0            0.052256\n",
       "..     ...              ...                 ...\n",
       "108     33     BankState_NJ            0.000057\n",
       "109     53     BankState_WV            0.000055\n",
       "110    107  ApprovalFY_1994            0.000054\n",
       "111     86  ApprovalFY_1993            0.000048\n",
       "112    109  ApprovalFY_1996            0.000028\n",
       "\n",
       "[113 rows x 3 columns]"
      ]
     },
     "execution_count": 97,
     "metadata": {},
     "output_type": "execute_result"
    }
   ],
   "source": [
    "# Creating a Dataframe\n",
    "fi_col\n",
    "fi\n",
    "\n",
    "fi_dt = zip(fi_col, fi)\n",
    "fi_dt = pd.DataFrame(fi_dt, columns = ['Feature','Feature Importance'])\n",
    "fi_dt\n",
    "\n",
    "\n",
    "# Ordering the data\n",
    "fi_dt = fi_dt.sort_values('Feature Importance', ascending = False).reset_index()\n",
    "\n",
    "## Keep data which 'feature importance' >0\n",
    "\n",
    "\n",
    "fi_dt=fi_dt.loc[fi_dt['Feature Importance']>0, :]\n",
    "columns_be_kept=fi_dt['Feature']\n",
    "fi_dt"
   ]
  },
  {
   "cell_type": "markdown",
   "id": "02dd0756-ff23-4a43-85d4-1dbbac84c4d6",
   "metadata": {},
   "source": [
    "## 4. Set the train data and test data.\n",
    "\n",
    "#### To run the logistic regression analysis, we need to seperate the dataset to two datasets, one is called train_data, the other one is called test_data. We can set 80% of the whole datasets to train_data, and the other 20% will be set to the test_data."
   ]
  },
  {
   "cell_type": "code",
   "execution_count": 196,
   "id": "b07f7dc2-42ae-4e82-b602-49247b0188f2",
   "metadata": {},
   "outputs": [
    {
     "data": {
      "text/plain": [
       "(687973, 124)"
      ]
     },
     "execution_count": 196,
     "metadata": {},
     "output_type": "execute_result"
    }
   ],
   "source": [
    "newdata.shape"
   ]
  },
  {
   "cell_type": "code",
   "execution_count": 197,
   "id": "e507feae-398b-427f-90a3-28d1a8dbb51b",
   "metadata": {},
   "outputs": [
    {
     "data": {
      "text/plain": [
       "(687973, 121)"
      ]
     },
     "execution_count": 197,
     "metadata": {},
     "output_type": "execute_result"
    }
   ],
   "source": [
    "newdata[columns_be_kept].shape"
   ]
  },
  {
   "cell_type": "code",
   "execution_count": 198,
   "id": "db432011-988d-4278-a048-e5755c8b9d62",
   "metadata": {},
   "outputs": [
    {
     "data": {
      "text/plain": [
       "(687973, 121)"
      ]
     },
     "execution_count": 198,
     "metadata": {},
     "output_type": "execute_result"
    }
   ],
   "source": [
    "## split the data into X, y\n",
    "\n",
    "X=newdata[columns_be_kept].values\n",
    "X.shape"
   ]
  },
  {
   "cell_type": "code",
   "execution_count": 199,
   "id": "dd557afb-581c-4f1b-9c36-e346e73c4bb2",
   "metadata": {},
   "outputs": [
    {
     "data": {
      "text/plain": [
       "(687973,)"
      ]
     },
     "execution_count": 199,
     "metadata": {},
     "output_type": "execute_result"
    }
   ],
   "source": [
    "y=newdata['MIS_Status']\n",
    "y=y.astype(int)\n",
    "y.shape"
   ]
  },
  {
   "cell_type": "code",
   "execution_count": 200,
   "id": "769a19f0-e6c3-4647-9f33-b41f269204c8",
   "metadata": {},
   "outputs": [
    {
     "name": "stdout",
     "output_type": "stream",
     "text": [
      "(550378, 121)\n",
      "(137595, 121)\n",
      "(550378,)\n",
      "(137595,)\n"
     ]
    }
   ],
   "source": [
    "\n",
    "X_train, X_test, y_train, y_test = train_test_split(X, y, train_size = 0.8, test_size=0.2, random_state=15)\n",
    "print(X_train.shape)\n",
    "print(X_test.shape)\n",
    "print(y_train.shape)\n",
    "print(y_test.shape)"
   ]
  },
  {
   "cell_type": "markdown",
   "id": "dbffcc53-61f2-48c5-a6ec-20fcf8f0a3be",
   "metadata": {},
   "source": [
    "## 5. Running Logistic Regression\n",
    "\n",
    "#### a. Train the model first."
   ]
  },
  {
   "cell_type": "code",
   "execution_count": 201,
   "id": "9466f400-9c1d-4aac-b707-fe38bc7198d7",
   "metadata": {},
   "outputs": [
    {
     "name": "stderr",
     "output_type": "stream",
     "text": [
      "C:\\Users\\barry\\anaconda3\\lib\\site-packages\\sklearn\\linear_model\\_logistic.py:763: ConvergenceWarning: lbfgs failed to converge (status=1):\n",
      "STOP: TOTAL NO. of ITERATIONS REACHED LIMIT.\n",
      "\n",
      "Increase the number of iterations (max_iter) or scale the data as shown in:\n",
      "    https://scikit-learn.org/stable/modules/preprocessing.html\n",
      "Please also refer to the documentation for alternative solver options:\n",
      "    https://scikit-learn.org/stable/modules/linear_model.html#logistic-regression\n",
      "  n_iter_i = _check_optimize_result(\n"
     ]
    },
    {
     "data": {
      "text/plain": [
       "LogisticRegression()"
      ]
     },
     "execution_count": 201,
     "metadata": {},
     "output_type": "execute_result"
    }
   ],
   "source": [
    "# Training my model\n",
    "\n",
    "logistic_reg = LogisticRegression()\n",
    "\n",
    "logistic_reg.fit(X_train, y_train)"
   ]
  },
  {
   "cell_type": "markdown",
   "id": "e1bfd657-92f3-4495-84ce-d9d3e3f6e450",
   "metadata": {},
   "source": [
    "#### b. After training the model, the next step is to use the model to get the prediction. We can also get the prediction of probability as well. Here we could use test_data to get the predictions."
   ]
  },
  {
   "cell_type": "code",
   "execution_count": 202,
   "id": "fe34c6cc-3a8d-4534-9585-b11c07f610f6",
   "metadata": {},
   "outputs": [
    {
     "data": {
      "text/plain": [
       "array([[0.77843688, 0.22156312],\n",
       "       [0.87490781, 0.12509219],\n",
       "       [0.93913737, 0.06086263],\n",
       "       ...,\n",
       "       [0.72689312, 0.27310688],\n",
       "       [0.78247714, 0.21752286],\n",
       "       [0.95005105, 0.04994895]])"
      ]
     },
     "execution_count": 202,
     "metadata": {},
     "output_type": "execute_result"
    }
   ],
   "source": [
    "# predict - Predict class labels for samples in X\n",
    "logistic_reg.predict(X_test)\n",
    "\n",
    "y_pred1 = logistic_reg.predict(X_test)\n",
    "\n",
    "# predict_proba - Probability estimates\n",
    "pred_proba1 = logistic_reg.predict_proba(X_test)\n",
    "pred_proba1"
   ]
  },
  {
   "cell_type": "markdown",
   "id": "4b785a54-0019-40c1-8876-96ca6cd40d66",
   "metadata": {},
   "source": [
    "#### c. At the same time, we could do the same process above to compare the two results."
   ]
  },
  {
   "cell_type": "code",
   "execution_count": 206,
   "id": "1db152a8-a9ef-4264-ab71-e73a84d9d08f",
   "metadata": {},
   "outputs": [],
   "source": [
    "# Methods we can use in Logistic\n",
    "\n",
    "# predict - Predict class labels for samples in X\n",
    "logistic_reg.predict(X_train)\n",
    "\n",
    "y_pred = logistic_reg.predict(X_train)\n",
    "\n",
    "# predict_proba - Probability estimates\n",
    "pred_proba = logistic_reg.predict_proba(X_train)\n"
   ]
  },
  {
   "cell_type": "code",
   "execution_count": 207,
   "id": "444b8ea6-9df4-4633-b60f-2ba0ee7504d0",
   "metadata": {},
   "outputs": [
    {
     "data": {
      "text/plain": [
       "array([[0.97680242, 0.02319758],\n",
       "       [0.89067889, 0.10932111],\n",
       "       [0.92670842, 0.07329158],\n",
       "       ...,\n",
       "       [0.68136081, 0.31863919],\n",
       "       [0.86672785, 0.13327215],\n",
       "       [0.9923727 , 0.0076273 ]])"
      ]
     },
     "execution_count": 207,
     "metadata": {},
     "output_type": "execute_result"
    }
   ],
   "source": [
    "pred_proba"
   ]
  },
  {
   "cell_type": "markdown",
   "id": "471c7b9d-53de-42b8-be98-7d49090e418f",
   "metadata": {},
   "source": [
    "## 6. Evaluating the Model\n",
    "\n",
    "#### In this part, we will check if the model works good or not. \n"
   ]
  },
  {
   "cell_type": "markdown",
   "id": "53b0957a-5711-4afd-be04-6ee8aaa674fa",
   "metadata": {},
   "source": [
    "\n",
    "#### a. Get the confusion matrix for both datasets. We can also visualize the two results."
   ]
  },
  {
   "cell_type": "code",
   "execution_count": 211,
   "id": "5ea686f8-47b5-43de-bc3f-2be07d75c10c",
   "metadata": {},
   "outputs": [],
   "source": [
    "# Confusion Matrix function\n",
    "\n",
    "def plot_confusion_matrix(cm, classes=None, title='Confusion matrix'):\n",
    "    \"\"\"Plots a confusion matrix.\"\"\"\n",
    "    if classes is not None:\n",
    "        sns.set(rc = {'figure.figsize':(15,8)})\n",
    "        sns.heatmap(cm, cmap=\"YlGnBu\", xticklabels=classes, yticklabels=classes, vmin=0., vmax=1., annot=True, annot_kws={'size':50})\n",
    "    else:\n",
    "        sns.set(rc = {'figure.figsize':(15,8)})\n",
    "        sns.heatmap(cm, vmin=0., vmax=1.)\n",
    "    plt.title(title)\n",
    "    plt.ylabel('True label')\n",
    "    plt.xlabel('Predicted label')"
   ]
  },
  {
   "cell_type": "markdown",
   "id": "c91f4d64-fa32-4183-94ea-1e6084122805",
   "metadata": {},
   "source": [
    "#### a-1: Visualizing cm (confusion matrix) for train_data."
   ]
  },
  {
   "cell_type": "code",
   "execution_count": 215,
   "id": "4af7ab2c-ae41-4b9a-8a3d-c90d8c62a80b",
   "metadata": {},
   "outputs": [
    {
     "data": {
      "image/png": "[encoded data removed]",
      "text/plain": [
       "<Figure size 1080x576 with 2 Axes>"
      ]
     },
     "metadata": {},
     "output_type": "display_data"
    }
   ],
   "source": [
    "# Visualizing cm (confusion matrix) for train_data.\n",
    "\n",
    "cm = confusion_matrix(y_train, y_pred)\n",
    "cm_percent = cm / cm.sum(axis=1).reshape(-1,1)\n",
    "\n",
    "plot_confusion_matrix(cm_percent, classes = logistic_reg.classes_, title='Confusion matrix')"
   ]
  },
  {
   "cell_type": "markdown",
   "id": "9f0494e1-2cf3-40c4-8d75-5caae8601109",
   "metadata": {},
   "source": [
    "#### a-2: Visualizing cm (confusion matrix) for test_data."
   ]
  },
  {
   "cell_type": "code",
   "execution_count": 213,
   "id": "b656a7eb-82a1-45f2-84d2-78db83079e4f",
   "metadata": {},
   "outputs": [
    {
     "data": {
      "image/png": "[encoded data removed]",
      "text/plain": [
       "<Figure size 1080x576 with 2 Axes>"
      ]
     },
     "metadata": {},
     "output_type": "display_data"
    }
   ],
   "source": [
    "\n",
    "cm1 = confusion_matrix(y_test, y_pred1)\n",
    "cm_percent1 = cm / cm.sum(axis=1).reshape(-1,1)\n",
    "\n",
    "plot_confusion_matrix(cm_percent, classes = logistic_reg.classes_, title='Confusion matrix')"
   ]
  },
  {
   "cell_type": "markdown",
   "id": "09f4d03a-b573-4078-8306-96c957cc2d7c",
   "metadata": {},
   "source": [
    "#### b. Confusion matrix for train_data (cm)."
   ]
  },
  {
   "cell_type": "code",
   "execution_count": 216,
   "id": "492a93ff-efde-4b47-82d4-c54a450456db",
   "metadata": {},
   "outputs": [
    {
     "data": {
      "text/plain": [
       "array([[426297,  12524],\n",
       "       [ 92469,  19088]], dtype=int64)"
      ]
     },
     "execution_count": 216,
     "metadata": {},
     "output_type": "execute_result"
    }
   ],
   "source": [
    "cm"
   ]
  },
  {
   "cell_type": "markdown",
   "id": "5e56132a-d519-4ed6-91f8-d82a6271a73a",
   "metadata": {},
   "source": [
    "#### From this confusion matrix, we can calculate the accuracy, sensitivity, specificity, precision, and F1 score.\n",
    "\n",
    "#### b-1: Overall accuraccy for train_data (acc_train_data):"
   ]
  },
  {
   "cell_type": "code",
   "execution_count": 231,
   "id": "d011e3a5-d07c-4bba-b16b-5116b5d48bac",
   "metadata": {},
   "outputs": [
    {
     "data": {
      "text/plain": [
       "0.809234744121313"
      ]
     },
     "execution_count": 231,
     "metadata": {},
     "output_type": "execute_result"
    }
   ],
   "source": [
    "\n",
    "acc_train_data =(426297+19088)/(426297+12524+92469+19088)\n",
    "acc_train_data"
   ]
  },
  {
   "cell_type": "markdown",
   "id": "1630e975-50af-45fd-a23d-13ba00c82c12",
   "metadata": {},
   "source": [
    "#### There is another method to get the overall accuracy."
   ]
  },
  {
   "cell_type": "code",
   "execution_count": 221,
   "id": "602de861-9b54-47ae-bdd6-8b923f0ed8b1",
   "metadata": {
    "tags": []
   },
   "outputs": [
    {
     "data": {
      "text/plain": [
       "0.809234744121313"
      ]
     },
     "execution_count": 221,
     "metadata": {},
     "output_type": "execute_result"
    }
   ],
   "source": [
    "accuracy_score(y_train, y_pred)"
   ]
  },
  {
   "cell_type": "markdown",
   "id": "9f42755a-d8a6-40c0-9746-9890d405076a",
   "metadata": {
    "tags": []
   },
   "source": [
    "#### b-2: Senstivity for train_data (sen_train_data):"
   ]
  },
  {
   "cell_type": "code",
   "execution_count": 225,
   "id": "c2cf0800-6a22-4d50-bd00-4cce1e770c45",
   "metadata": {},
   "outputs": [
    {
     "data": {
      "text/plain": [
       "0.17110535421354106"
      ]
     },
     "execution_count": 225,
     "metadata": {},
     "output_type": "execute_result"
    }
   ],
   "source": [
    "sen_train_data = 19088/cm.sum(axis=1)[1]\n",
    "sen_train_data"
   ]
  },
  {
   "cell_type": "markdown",
   "id": "76bfbd69-448a-4b27-aaeb-a5878bd23b0a",
   "metadata": {},
   "source": [
    "#### b-3: Specificity for train_data (spe_train_data):"
   ]
  },
  {
   "cell_type": "code",
   "execution_count": 226,
   "id": "996c4332-6ea4-49f4-b4db-77ad1ca9e14a",
   "metadata": {},
   "outputs": [
    {
     "data": {
      "text/plain": [
       "0.9714598891119613"
      ]
     },
     "execution_count": 226,
     "metadata": {},
     "output_type": "execute_result"
    }
   ],
   "source": [
    "spe_train_data= 426297/cm.sum(axis=1)[0]\n",
    "spe_train_data"
   ]
  },
  {
   "cell_type": "markdown",
   "id": "4544b370-e2d7-4434-b7d5-ba2981162fa9",
   "metadata": {},
   "source": [
    "#### b-4: Precision for train_data (pre_train_data):"
   ]
  },
  {
   "cell_type": "code",
   "execution_count": 228,
   "id": "d3102b04-feb2-44bc-98e6-7fb7194846ed",
   "metadata": {},
   "outputs": [
    {
     "data": {
      "text/plain": [
       "0.17110535421354106"
      ]
     },
     "execution_count": 228,
     "metadata": {},
     "output_type": "execute_result"
    }
   ],
   "source": [
    "pre_train_data = 19088/cm.sum(axis=1)[1]\n",
    "pre_train_data"
   ]
  },
  {
   "cell_type": "markdown",
   "id": "e4d5a5b0-f21c-40b1-9a80-57f2280fdafb",
   "metadata": {},
   "source": [
    "#### b-5: F1 score for train_data (f1_train_data):"
   ]
  },
  {
   "cell_type": "code",
   "execution_count": 232,
   "id": "eb46e12a-6718-4046-b443-e8ffb805b51e",
   "metadata": {},
   "outputs": [
    {
     "data": {
      "text/plain": [
       "0.2666499032611808"
      ]
     },
     "execution_count": 232,
     "metadata": {},
     "output_type": "execute_result"
    }
   ],
   "source": [
    "f1_train_data = 2*19088/(2*19088+12524+92469)\n",
    "f1_train_data"
   ]
  },
  {
   "cell_type": "code",
   "execution_count": 233,
   "id": "33092378-f29c-4041-a049-d347f9672d15",
   "metadata": {},
   "outputs": [
    {
     "name": "stdout",
     "output_type": "stream",
     "text": [
      "              precision    recall  f1-score   support\n",
      "\n",
      "           0       0.82      0.97      0.89    438821\n",
      "           1       0.60      0.17      0.27    111557\n",
      "\n",
      "    accuracy                           0.81    550378\n",
      "   macro avg       0.71      0.57      0.58    550378\n",
      "weighted avg       0.78      0.81      0.76    550378\n",
      "\n"
     ]
    }
   ],
   "source": [
    "# Classification Report\n",
    "print(classification_report(y_train, y_pred))"
   ]
  },
  {
   "cell_type": "markdown",
   "id": "5b9e0292-1c35-4861-b844-6e65090d135e",
   "metadata": {},
   "source": [
    "#### c. Confusion matrix for test_data (cm1)"
   ]
  },
  {
   "cell_type": "code",
   "execution_count": 230,
   "id": "10b5fdf4-5d85-4df8-bce2-7f1482b0ad68",
   "metadata": {},
   "outputs": [
    {
     "data": {
      "text/plain": [
       "array([[106511,   3113],\n",
       "       [ 23297,   4674]], dtype=int64)"
      ]
     },
     "execution_count": 230,
     "metadata": {},
     "output_type": "execute_result"
    }
   ],
   "source": [
    "cm1"
   ]
  },
  {
   "cell_type": "markdown",
   "id": "43a90d48-21f9-4dcd-ba1f-65fd154b5c02",
   "metadata": {},
   "source": [
    "#### c-1: Overall accuracy for test_data(acc_test_data):"
   ]
  },
  {
   "cell_type": "code",
   "execution_count": 236,
   "id": "0b8c4ad7-ded6-46a3-921b-43f845373a70",
   "metadata": {},
   "outputs": [
    {
     "data": {
      "text/plain": [
       "0.8080598858970166"
      ]
     },
     "execution_count": 236,
     "metadata": {},
     "output_type": "execute_result"
    }
   ],
   "source": [
    "acc_test_data = (106511+4674)/(106511+3113+23297+4674)\n",
    "acc_test_data"
   ]
  },
  {
   "cell_type": "markdown",
   "id": "5ba921f4-675f-4357-b871-74fdb4c1ad5e",
   "metadata": {},
   "source": [
    "#### There is another method to get the overall accuracy."
   ]
  },
  {
   "cell_type": "code",
   "execution_count": 237,
   "id": "643bc43c-2498-4096-a2d2-15896de09da6",
   "metadata": {},
   "outputs": [
    {
     "data": {
      "text/plain": [
       "0.8080598858970166"
      ]
     },
     "execution_count": 237,
     "metadata": {},
     "output_type": "execute_result"
    }
   ],
   "source": [
    "accuracy_score(y_test, y_pred1)"
   ]
  },
  {
   "cell_type": "markdown",
   "id": "30fa7d03-0bd4-480e-bb5e-32aff3fe9a83",
   "metadata": {},
   "source": [
    "#### c-2: Sensitivity for test_data(sen_test_data)"
   ]
  },
  {
   "cell_type": "code",
   "execution_count": 238,
   "id": "08614677-86d8-483f-8b4b-41899936798d",
   "metadata": {},
   "outputs": [
    {
     "data": {
      "text/plain": [
       "0.16710164098530622"
      ]
     },
     "execution_count": 238,
     "metadata": {},
     "output_type": "execute_result"
    }
   ],
   "source": [
    "sen_test_data = 4674/cm1.sum(axis=1)[1]\n",
    "sen_test_data"
   ]
  },
  {
   "cell_type": "markdown",
   "id": "17176a65-e946-4a63-9383-528cdd82ffbc",
   "metadata": {},
   "source": [
    "#### c-3: Specificity for test_data (spe_test_data)"
   ]
  },
  {
   "cell_type": "code",
   "execution_count": 239,
   "id": "84e163fe-c618-4430-a1cd-ca18f0aecc2b",
   "metadata": {},
   "outputs": [
    {
     "data": {
      "text/plain": [
       "0.9716029336641612"
      ]
     },
     "execution_count": 239,
     "metadata": {},
     "output_type": "execute_result"
    }
   ],
   "source": [
    "spe_test_data = 106511/cm1.sum(axis=1)[0]\n",
    "spe_test_data"
   ]
  },
  {
   "cell_type": "markdown",
   "id": "60994cf7-b62e-46f8-b0ec-bff01167c234",
   "metadata": {},
   "source": [
    "#### c-4: Precision for test_data(pre_test_data)"
   ]
  },
  {
   "cell_type": "code",
   "execution_count": 241,
   "id": "96a0ad46-a960-4508-8d91-209c3995c5af",
   "metadata": {},
   "outputs": [
    {
     "data": {
      "text/plain": [
       "0.16710164098530622"
      ]
     },
     "execution_count": 241,
     "metadata": {},
     "output_type": "execute_result"
    }
   ],
   "source": [
    "pre_test_data = 4674/cm1.sum(axis=1)[1]\n",
    "pre_test_data"
   ]
  },
  {
   "cell_type": "markdown",
   "id": "61681f83-a1c2-422f-97b4-2113f5335237",
   "metadata": {},
   "source": [
    "#### c-5: F1 score for test_data(f1_test_data)"
   ]
  },
  {
   "cell_type": "code",
   "execution_count": 242,
   "id": "49b0d461-6cad-408d-83a5-b7c1ce5bf2f4",
   "metadata": {},
   "outputs": [
    {
     "data": {
      "text/plain": [
       "0.2614240170031881"
      ]
     },
     "execution_count": 242,
     "metadata": {},
     "output_type": "execute_result"
    }
   ],
   "source": [
    "f1_test_data = 2*4674/(2*4674+3113+23297)\n",
    "f1_test_data"
   ]
  },
  {
   "cell_type": "code",
   "execution_count": 246,
   "id": "dee5e682-8b91-48f8-b9e4-5c7f653de0a0",
   "metadata": {},
   "outputs": [
    {
     "name": "stdout",
     "output_type": "stream",
     "text": [
      "              precision    recall  f1-score   support\n",
      "\n",
      "           0       0.82      0.97      0.89    109624\n",
      "           1       0.60      0.17      0.26     27971\n",
      "\n",
      "    accuracy                           0.81    137595\n",
      "   macro avg       0.71      0.57      0.58    137595\n",
      "weighted avg       0.78      0.81      0.76    137595\n",
      "\n"
     ]
    }
   ],
   "source": [
    "# Classification Report\n",
    "print(classification_report(y_test, y_pred1))"
   ]
  },
  {
   "cell_type": "markdown",
   "id": "597bafa3-a10d-4304-a725-fe2198b74a63",
   "metadata": {},
   "source": [
    "## 6. Summary"
   ]
  },
  {
   "cell_type": "markdown",
   "id": "18f541d5-c795-4285-bc7a-89924c913688",
   "metadata": {},
   "source": [
    "#### a. From the caculations and classification reports for both train_data and test_data, the relative data can match almost perfect.\n",
    "\n",
    "#### b. Regarding the accuracy(80.8%), the model works very well.\n",
    "\n",
    "#### c. The sensitivity of this model is around 17%, but the specificity is only 97%. It means that this model could predict the loan would NOT be approved defaultly very accurate, but the predicted results for those loans which were approved defaultly are very poor.\n",
    "\n",
    "#### d. The precision states the same situation as the sensitivity.\n",
    "\n",
    "#### e. The F1 score combines precision and sensitivity into a single measurement. Based on the classification reports, F1 scores shows that the model works very well on predict the loans which will NOT be approved defaultly."
   ]
  },
  {
   "cell_type": "code",
   "execution_count": 124,
   "id": "c81e4c73-d455-422f-8a94-e6dd6c66d87d",
   "metadata": {},
   "outputs": [
    {
     "data": {
      "text/plain": [
       "array([1.00000000e-05, 3.35981829e-05, 1.12883789e-04, 3.79269019e-04,\n",
       "       1.27427499e-03, 4.28133240e-03, 1.43844989e-02, 4.83293024e-02,\n",
       "       1.62377674e-01, 5.45559478e-01, 1.83298071e+00, 6.15848211e+00,\n",
       "       2.06913808e+01, 6.95192796e+01, 2.33572147e+02, 7.84759970e+02,\n",
       "       2.63665090e+03, 8.85866790e+03, 2.97635144e+04, 1.00000000e+05])"
      ]
     },
     "execution_count": 124,
     "metadata": {},
     "output_type": "execute_result"
    }
   ],
   "source": [
    "np.geomspace(1e-5, 1e5, num=20)"
   ]
  },
  {
   "cell_type": "code",
   "execution_count": 125,
   "id": "f14a87d2-ee25-4cd0-b6eb-b3c94bf22cfe",
   "metadata": {},
   "outputs": [
    {
     "data": {
      "text/plain": [
       "array([1.00000000e-05, 3.35981829e-05, 1.12883789e-04, 3.79269019e-04,\n",
       "       1.27427499e-03, 4.28133240e-03, 1.43844989e-02, 4.83293024e-02,\n",
       "       1.62377674e-01, 5.45559478e-01, 1.83298071e+00, 6.15848211e+00,\n",
       "       2.06913808e+01, 6.95192796e+01, 2.33572147e+02, 7.84759970e+02,\n",
       "       2.63665090e+03, 8.85866790e+03, 2.97635144e+04, 1.00000000e+05])"
      ]
     },
     "execution_count": 125,
     "metadata": {},
     "output_type": "execute_result"
    }
   ],
   "source": [
    "# Creating a range for C values\n",
    "np.geomspace(1e-5, 1e5, num=20)\n"
   ]
  },
  {
   "cell_type": "code",
   "execution_count": 126,
   "id": "d56c14fc-8f26-4fb8-b8c2-8461bef92b00",
   "metadata": {},
   "outputs": [
    {
     "data": {
      "text/plain": [
       "[<matplotlib.lines.Line2D at 0x1e32f2ffcd0>]"
      ]
     },
     "execution_count": 126,
     "metadata": {},
     "output_type": "execute_result"
    },
    {
     "data": {
      "image/png": "[encoded data removed]",
      "text/plain": [
       "<Figure size 1080x576 with 1 Axes>"
      ]
     },
     "metadata": {},
     "output_type": "display_data"
    }
   ],
   "source": [
    "# ploting it\n",
    "plt.plot(np.geomspace(1e-5, 1e5, num=20)) #  uniformly distributed in log space\n",
    "plt.plot(np.linspace(1e-5, 1e5, num=20)) # uniformly distributed in linear space, instead of log space\n",
    "# plt.plot(np.logspace(np.log10(1e-5) , np.log10(1e5) , num=20)) # same as geomspace"
   ]
  },
  {
   "cell_type": "code",
   "execution_count": 127,
   "id": "228ad4a3-b0ad-4e78-b776-c9579df0b0ea",
   "metadata": {},
   "outputs": [
    {
     "name": "stdout",
     "output_type": "stream",
     "text": [
      "The CA of C parameter 1e-05 is 0.7967149969112249:\n",
      "The Logg Loss of C parameter 1e-05 is 0.4903831646925658:\n",
      "\n",
      "The CA of C parameter 3.359818286283781e-05 is 0.7967149969112249:\n",
      "The Logg Loss of C parameter 3.359818286283781e-05 is 0.4743797802457754:\n",
      "\n",
      "The CA of C parameter 0.00011288378916846884 is 0.7967149969112249:\n",
      "The Logg Loss of C parameter 0.00011288378916846884 is 0.4560799087969306:\n",
      "\n",
      "The CA of C parameter 0.000379269019073225 is 0.7992950325229842:\n",
      "The Logg Loss of C parameter 0.000379269019073225 is 0.44274346786244356:\n",
      "\n",
      "The CA of C parameter 0.0012742749857031334 is 0.8063665104109887:\n",
      "The Logg Loss of C parameter 0.0012742749857031334 is 0.4358358523511289:\n",
      "\n",
      "The CA of C parameter 0.004281332398719391 is 0.8078491224245067:\n",
      "The Logg Loss of C parameter 0.004281332398719391 is 0.431956907484964:\n",
      "\n"
     ]
    },
    {
     "name": "stderr",
     "output_type": "stream",
     "text": [
      "C:\\Users\\barry\\anaconda3\\lib\\site-packages\\sklearn\\linear_model\\_logistic.py:763: ConvergenceWarning: lbfgs failed to converge (status=1):\n",
      "STOP: TOTAL NO. of ITERATIONS REACHED LIMIT.\n",
      "\n",
      "Increase the number of iterations (max_iter) or scale the data as shown in:\n",
      "    https://scikit-learn.org/stable/modules/preprocessing.html\n",
      "Please also refer to the documentation for alternative solver options:\n",
      "    https://scikit-learn.org/stable/modules/linear_model.html#logistic-regression\n",
      "  n_iter_i = _check_optimize_result(\n"
     ]
    },
    {
     "name": "stdout",
     "output_type": "stream",
     "text": [
      "The CA of C parameter 0.01438449888287663 is 0.8081180275446056:\n",
      "The Logg Loss of C parameter 0.01438449888287663 is 0.42974429362476213:\n",
      "\n"
     ]
    },
    {
     "name": "stderr",
     "output_type": "stream",
     "text": [
      "C:\\Users\\barry\\anaconda3\\lib\\site-packages\\sklearn\\linear_model\\_logistic.py:763: ConvergenceWarning: lbfgs failed to converge (status=1):\n",
      "STOP: TOTAL NO. of ITERATIONS REACHED LIMIT.\n",
      "\n",
      "Increase the number of iterations (max_iter) or scale the data as shown in:\n",
      "    https://scikit-learn.org/stable/modules/preprocessing.html\n",
      "Please also refer to the documentation for alternative solver options:\n",
      "    https://scikit-learn.org/stable/modules/linear_model.html#logistic-regression\n",
      "  n_iter_i = _check_optimize_result(\n"
     ]
    },
    {
     "name": "stdout",
     "output_type": "stream",
     "text": [
      "The CA of C parameter 0.04832930238571752 is 0.8081907046040917:\n",
      "The Logg Loss of C parameter 0.04832930238571752 is 0.42886723581870795:\n",
      "\n"
     ]
    },
    {
     "name": "stderr",
     "output_type": "stream",
     "text": [
      "C:\\Users\\barry\\anaconda3\\lib\\site-packages\\sklearn\\linear_model\\_logistic.py:763: ConvergenceWarning: lbfgs failed to converge (status=1):\n",
      "STOP: TOTAL NO. of ITERATIONS REACHED LIMIT.\n",
      "\n",
      "Increase the number of iterations (max_iter) or scale the data as shown in:\n",
      "    https://scikit-learn.org/stable/modules/preprocessing.html\n",
      "Please also refer to the documentation for alternative solver options:\n",
      "    https://scikit-learn.org/stable/modules/linear_model.html#logistic-regression\n",
      "  n_iter_i = _check_optimize_result(\n"
     ]
    },
    {
     "name": "stdout",
     "output_type": "stream",
     "text": [
      "The CA of C parameter 0.1623776739188721 is 0.8079872088375304:\n",
      "The Logg Loss of C parameter 0.1623776739188721 is 0.42858301316157316:\n",
      "\n"
     ]
    },
    {
     "name": "stderr",
     "output_type": "stream",
     "text": [
      "C:\\Users\\barry\\anaconda3\\lib\\site-packages\\sklearn\\linear_model\\_logistic.py:763: ConvergenceWarning: lbfgs failed to converge (status=1):\n",
      "STOP: TOTAL NO. of ITERATIONS REACHED LIMIT.\n",
      "\n",
      "Increase the number of iterations (max_iter) or scale the data as shown in:\n",
      "    https://scikit-learn.org/stable/modules/preprocessing.html\n",
      "Please also refer to the documentation for alternative solver options:\n",
      "    https://scikit-learn.org/stable/modules/linear_model.html#logistic-regression\n",
      "  n_iter_i = _check_optimize_result(\n"
     ]
    },
    {
     "name": "stdout",
     "output_type": "stream",
     "text": [
      "The CA of C parameter 0.5455594781168515 is 0.8078636578364039:\n",
      "The Logg Loss of C parameter 0.5455594781168515 is 0.4284739729147124:\n",
      "\n"
     ]
    },
    {
     "name": "stderr",
     "output_type": "stream",
     "text": [
      "C:\\Users\\barry\\anaconda3\\lib\\site-packages\\sklearn\\linear_model\\_logistic.py:763: ConvergenceWarning: lbfgs failed to converge (status=1):\n",
      "STOP: TOTAL NO. of ITERATIONS REACHED LIMIT.\n",
      "\n",
      "Increase the number of iterations (max_iter) or scale the data as shown in:\n",
      "    https://scikit-learn.org/stable/modules/preprocessing.html\n",
      "Please also refer to the documentation for alternative solver options:\n",
      "    https://scikit-learn.org/stable/modules/linear_model.html#logistic-regression\n",
      "  n_iter_i = _check_optimize_result(\n"
     ]
    },
    {
     "name": "stdout",
     "output_type": "stream",
     "text": [
      "The CA of C parameter 1.8329807108324339 is 0.8081252952505542:\n",
      "The Logg Loss of C parameter 1.8329807108324339 is 0.4284448262807316:\n",
      "\n"
     ]
    },
    {
     "name": "stderr",
     "output_type": "stream",
     "text": [
      "C:\\Users\\barry\\anaconda3\\lib\\site-packages\\sklearn\\linear_model\\_logistic.py:763: ConvergenceWarning: lbfgs failed to converge (status=1):\n",
      "STOP: TOTAL NO. of ITERATIONS REACHED LIMIT.\n",
      "\n",
      "Increase the number of iterations (max_iter) or scale the data as shown in:\n",
      "    https://scikit-learn.org/stable/modules/preprocessing.html\n",
      "Please also refer to the documentation for alternative solver options:\n",
      "    https://scikit-learn.org/stable/modules/linear_model.html#logistic-regression\n",
      "  n_iter_i = _check_optimize_result(\n"
     ]
    },
    {
     "name": "stdout",
     "output_type": "stream",
     "text": [
      "The CA of C parameter 6.1584821106602545 is 0.807805516188815:\n",
      "The Logg Loss of C parameter 6.1584821106602545 is 0.4284545322003991:\n",
      "\n"
     ]
    },
    {
     "name": "stderr",
     "output_type": "stream",
     "text": [
      "C:\\Users\\barry\\anaconda3\\lib\\site-packages\\sklearn\\linear_model\\_logistic.py:763: ConvergenceWarning: lbfgs failed to converge (status=1):\n",
      "STOP: TOTAL NO. of ITERATIONS REACHED LIMIT.\n",
      "\n",
      "Increase the number of iterations (max_iter) or scale the data as shown in:\n",
      "    https://scikit-learn.org/stable/modules/preprocessing.html\n",
      "Please also refer to the documentation for alternative solver options:\n",
      "    https://scikit-learn.org/stable/modules/linear_model.html#logistic-regression\n",
      "  n_iter_i = _check_optimize_result(\n"
     ]
    },
    {
     "name": "stdout",
     "output_type": "stream",
     "text": [
      "The CA of C parameter 20.6913808111479 is 0.8078418547185581:\n",
      "The Logg Loss of C parameter 20.6913808111479 is 0.4284696872996689:\n",
      "\n"
     ]
    },
    {
     "name": "stderr",
     "output_type": "stream",
     "text": [
      "C:\\Users\\barry\\anaconda3\\lib\\site-packages\\sklearn\\linear_model\\_logistic.py:763: ConvergenceWarning: lbfgs failed to converge (status=1):\n",
      "STOP: TOTAL NO. of ITERATIONS REACHED LIMIT.\n",
      "\n",
      "Increase the number of iterations (max_iter) or scale the data as shown in:\n",
      "    https://scikit-learn.org/stable/modules/preprocessing.html\n",
      "Please also refer to the documentation for alternative solver options:\n",
      "    https://scikit-learn.org/stable/modules/linear_model.html#logistic-regression\n",
      "  n_iter_i = _check_optimize_result(\n"
     ]
    },
    {
     "name": "stdout",
     "output_type": "stream",
     "text": [
      "The CA of C parameter 69.51927961775606 is 0.807805516188815:\n",
      "The Logg Loss of C parameter 69.51927961775606 is 0.428471072809861:\n",
      "\n"
     ]
    },
    {
     "name": "stderr",
     "output_type": "stream",
     "text": [
      "C:\\Users\\barry\\anaconda3\\lib\\site-packages\\sklearn\\linear_model\\_logistic.py:763: ConvergenceWarning: lbfgs failed to converge (status=1):\n",
      "STOP: TOTAL NO. of ITERATIONS REACHED LIMIT.\n",
      "\n",
      "Increase the number of iterations (max_iter) or scale the data as shown in:\n",
      "    https://scikit-learn.org/stable/modules/preprocessing.html\n",
      "Please also refer to the documentation for alternative solver options:\n",
      "    https://scikit-learn.org/stable/modules/linear_model.html#logistic-regression\n",
      "  n_iter_i = _check_optimize_result(\n"
     ]
    },
    {
     "name": "stdout",
     "output_type": "stream",
     "text": [
      "The CA of C parameter 233.57214690901213 is 0.8077037683055344:\n",
      "The Logg Loss of C parameter 233.57214690901213 is 0.42846909003825384:\n",
      "\n"
     ]
    },
    {
     "name": "stderr",
     "output_type": "stream",
     "text": [
      "C:\\Users\\barry\\anaconda3\\lib\\site-packages\\sklearn\\linear_model\\_logistic.py:763: ConvergenceWarning: lbfgs failed to converge (status=1):\n",
      "STOP: TOTAL NO. of ITERATIONS REACHED LIMIT.\n",
      "\n",
      "Increase the number of iterations (max_iter) or scale the data as shown in:\n",
      "    https://scikit-learn.org/stable/modules/preprocessing.html\n",
      "Please also refer to the documentation for alternative solver options:\n",
      "    https://scikit-learn.org/stable/modules/linear_model.html#logistic-regression\n",
      "  n_iter_i = _check_optimize_result(\n"
     ]
    },
    {
     "name": "stdout",
     "output_type": "stream",
     "text": [
      "The CA of C parameter 784.7599703514607 is 0.8078781932483011:\n",
      "The Logg Loss of C parameter 784.7599703514607 is 0.4284613038997409:\n",
      "\n"
     ]
    },
    {
     "name": "stderr",
     "output_type": "stream",
     "text": [
      "C:\\Users\\barry\\anaconda3\\lib\\site-packages\\sklearn\\linear_model\\_logistic.py:763: ConvergenceWarning: lbfgs failed to converge (status=1):\n",
      "STOP: TOTAL NO. of ITERATIONS REACHED LIMIT.\n",
      "\n",
      "Increase the number of iterations (max_iter) or scale the data as shown in:\n",
      "    https://scikit-learn.org/stable/modules/preprocessing.html\n",
      "Please also refer to the documentation for alternative solver options:\n",
      "    https://scikit-learn.org/stable/modules/linear_model.html#logistic-regression\n",
      "  n_iter_i = _check_optimize_result(\n"
     ]
    },
    {
     "name": "stdout",
     "output_type": "stream",
     "text": [
      "The CA of C parameter 2636.6508987303555 is 0.8080090119553763:\n",
      "The Logg Loss of C parameter 2636.6508987303555 is 0.4284528673181338:\n",
      "\n"
     ]
    },
    {
     "name": "stderr",
     "output_type": "stream",
     "text": [
      "C:\\Users\\barry\\anaconda3\\lib\\site-packages\\sklearn\\linear_model\\_logistic.py:763: ConvergenceWarning: lbfgs failed to converge (status=1):\n",
      "STOP: TOTAL NO. of ITERATIONS REACHED LIMIT.\n",
      "\n",
      "Increase the number of iterations (max_iter) or scale the data as shown in:\n",
      "    https://scikit-learn.org/stable/modules/preprocessing.html\n",
      "Please also refer to the documentation for alternative solver options:\n",
      "    https://scikit-learn.org/stable/modules/linear_model.html#logistic-regression\n",
      "  n_iter_i = _check_optimize_result(\n"
     ]
    },
    {
     "name": "stdout",
     "output_type": "stream",
     "text": [
      "The CA of C parameter 8858.667904100832 is 0.8079508703077873:\n",
      "The Logg Loss of C parameter 8858.667904100832 is 0.4284520104692663:\n",
      "\n"
     ]
    },
    {
     "name": "stderr",
     "output_type": "stream",
     "text": [
      "C:\\Users\\barry\\anaconda3\\lib\\site-packages\\sklearn\\linear_model\\_logistic.py:763: ConvergenceWarning: lbfgs failed to converge (status=1):\n",
      "STOP: TOTAL NO. of ITERATIONS REACHED LIMIT.\n",
      "\n",
      "Increase the number of iterations (max_iter) or scale the data as shown in:\n",
      "    https://scikit-learn.org/stable/modules/preprocessing.html\n",
      "Please also refer to the documentation for alternative solver options:\n",
      "    https://scikit-learn.org/stable/modules/linear_model.html#logistic-regression\n",
      "  n_iter_i = _check_optimize_result(\n"
     ]
    },
    {
     "name": "stdout",
     "output_type": "stream",
     "text": [
      "The CA of C parameter 29763.51441631313 is 0.8076746974817399:\n",
      "The Logg Loss of C parameter 29763.51441631313 is 0.4284674157608159:\n",
      "\n",
      "The CA of C parameter 100000.0 is 0.8076746974817399:\n",
      "The Logg Loss of C parameter 100000.0 is 0.42846755277806753:\n",
      "\n"
     ]
    },
    {
     "name": "stderr",
     "output_type": "stream",
     "text": [
      "C:\\Users\\barry\\anaconda3\\lib\\site-packages\\sklearn\\linear_model\\_logistic.py:763: ConvergenceWarning: lbfgs failed to converge (status=1):\n",
      "STOP: TOTAL NO. of ITERATIONS REACHED LIMIT.\n",
      "\n",
      "Increase the number of iterations (max_iter) or scale the data as shown in:\n",
      "    https://scikit-learn.org/stable/modules/preprocessing.html\n",
      "Please also refer to the documentation for alternative solver options:\n",
      "    https://scikit-learn.org/stable/modules/linear_model.html#logistic-regression\n",
      "  n_iter_i = _check_optimize_result(\n"
     ]
    }
   ],
   "source": [
    "# Looping over the parameters\n",
    "\n",
    "C_List = np.geomspace(1e-5, 1e5, num=20)\n",
    "CA = []\n",
    "Logarithmic_Loss = []\n",
    "\n",
    "for c in C_List:\n",
    "    log_reg2 = LogisticRegression(random_state=10, solver = 'lbfgs', C=c)\n",
    "    log_reg2.fit(X_train, y_train)\n",
    "    score = log_reg2.score(X_test, y_test)\n",
    "    CA.append(score)\n",
    "    print(\"The CA of C parameter {} is {}:\".format(c, score))\n",
    "    pred_proba_t = log_reg2.predict_proba(X_test)\n",
    "    log_loss2 = log_loss(y_test, pred_proba_t)\n",
    "    Logarithmic_Loss.append(log_loss2)\n",
    "    print(\"The Logg Loss of C parameter {} is {}:\".format(c, log_loss2))\n",
    "    print(\"\")"
   ]
  },
  {
   "cell_type": "code",
   "execution_count": null,
   "id": "251ea9f2-ec1b-4dca-bade-678ee215f2ad",
   "metadata": {},
   "outputs": [],
   "source": [
    "# putting the outcomes in a Table\n",
    "\n",
    "# reshaping\n",
    "CA2 = np.array(CA).reshape(20,)\n",
    "Logarithmic_Loss2 = np.array(Logarithmic_Loss).reshape(20,)"
   ]
  },
  {
   "cell_type": "code",
   "execution_count": null,
   "id": "905b0365-47d4-49e3-a7bc-27b6789c4c27",
   "metadata": {},
   "outputs": [],
   "source": [
    "# zip\n",
    "outcomes = zip(C_List, CA2, Logarithmic_Loss2)\n",
    "\n",
    "#df\n",
    "df_outcomes = pd.DataFrame(outcomes, columns = [\"C_List\", 'CA2','Logarithmic_Loss2'])"
   ]
  },
  {
   "cell_type": "code",
   "execution_count": null,
   "id": "116c6f73-466d-4469-8422-cded5643a30c",
   "metadata": {},
   "outputs": [],
   "source": [
    "df_outcomes"
   ]
  },
  {
   "cell_type": "code",
   "execution_count": null,
   "id": "b350dc5a-18b5-41b5-8280-a69e87c336a0",
   "metadata": {},
   "outputs": [],
   "source": [
    "# Training a Dummy Classifier\n",
    "\n",
    "from sklearn.dummy import DummyClassifier\n",
    "\n",
    "dummy_clf = DummyClassifier(strategy=\"most_frequent\")\n",
    "dummy_clf.fit(X_train, y_train)\n",
    "score = dummy_clf.score(X_test, y_test)\n",
    "\n",
    "pred_proba_t = dummy_clf.predict_proba(X_test)\n",
    "log_loss2 = log_loss(y_test, pred_proba_t)\n",
    "\n",
    "print(\"Testing Acc:\", score)\n",
    "print(\"Log Loss:\", log_loss2)"
   ]
  },
  {
   "cell_type": "code",
   "execution_count": null,
   "id": "b45e956b-0553-43ad-a467-5cb9391b84e5",
   "metadata": {},
   "outputs": [],
   "source": [
    "# Final Model \n",
    "\n",
    "log_reg3 = LogisticRegression(random_state=10, solver = 'lbfgs', C=784.759970)\n",
    "log_reg3.fit(X_train, y_train)\n",
    "score = log_reg3.score(X_valid, y_valid)\n",
    "\n",
    "pred_proba_t = log_reg3.predict_proba(X_valid)\n",
    "log_loss2 = log_loss(y_valid, pred_proba_t)\n",
    "\n",
    "print(\"Testing Acc:\", score)\n",
    "print(\"Log Loss:\", log_loss2)"
   ]
  }
 ],
 "metadata": {
  "kernelspec": {
   "display_name": "Python 3 (ipykernel)",
   "language": "python",
   "name": "python3"
  },
  "language_info": {
   "codemirror_mode": {
    "name": "ipython",
    "version": 3
   },
   "file_extension": ".py",
   "mimetype": "text/x-python",
   "name": "python",
   "nbconvert_exporter": "python",
   "pygments_lexer": "ipython3",
   "version": "3.9.7"
  }
 },
 "nbformat": 4,
 "nbformat_minor": 5
}
